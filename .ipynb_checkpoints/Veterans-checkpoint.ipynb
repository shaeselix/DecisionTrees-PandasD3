{
 "cells": [
  {
   "cell_type": "code",
   "execution_count": 1,
   "metadata": {
    "collapsed": true
   },
   "outputs": [],
   "source": [
    "import pandas as pd\n",
    "import numpy as np\n",
    "import bisect"
   ]
  },
  {
   "cell_type": "code",
   "execution_count": 6,
   "metadata": {
    "collapsed": true
   },
   "outputs": [],
   "source": [
    "#DHM_Veterans_Provider_Enrollment.csv\n",
    "f = 'http://data.mo.gov/api/views/8zvy-7azn/rows.csv'"
   ]
  },
  {
   "cell_type": "code",
   "execution_count": 7,
   "metadata": {
    "collapsed": false
   },
   "outputs": [],
   "source": [
    "df = pd.read_csv(f, header = 0)"
   ]
  },
  {
   "cell_type": "code",
   "execution_count": 8,
   "metadata": {
    "collapsed": false
   },
   "outputs": [],
   "source": [
    "dff = df[['LCSW','MFT','Psychiatrist','TRICARE']]"
   ]
  },
  {
   "cell_type": "code",
   "execution_count": 9,
   "metadata": {
    "collapsed": false
   },
   "outputs": [
    {
     "data": {
      "text/plain": [
       "Index(['Company Name', 'BAN', 'Substance Abuse', 'LCSW', 'LPC', 'MFT', 'LMSW',\n",
       "       'PLPC', 'Psychiatric Nurse Practitioner', 'Psychiatrist',\n",
       "       'Psychologist', 'Alcohol and Substance Abuse', 'Anger Management',\n",
       "       'Child/Adolescent', 'Domestic Violence', 'Faith Based',\n",
       "       'Family/Marriage', 'General Mental Health', 'Post Traumatic Stress',\n",
       "       'Sexual Assault', 'Suicide Prevention', 'Traumatic Brain Injury',\n",
       "       'Website', 'Phone Number', 'Zip Code', 'Country ', 'TRICARE',\n",
       "       'Military Culture', 'Admin Notes', 'Location 1', 'Suite No.'],\n",
       "      dtype='object')"
      ]
     },
     "execution_count": 9,
     "metadata": {},
     "output_type": "execute_result"
    }
   ],
   "source": [
    "df.keys()"
   ]
  },
  {
   "cell_type": "code",
   "execution_count": 6,
   "metadata": {
    "collapsed": false
   },
   "outputs": [],
   "source": [
    "grouped = dff.groupby('TRICARE')"
   ]
  },
  {
   "cell_type": "code",
   "execution_count": 7,
   "metadata": {
    "collapsed": false
   },
   "outputs": [
    {
     "ename": "NotImplementedError",
     "evalue": "iLocation based boolean indexing on an integer type is not available",
     "output_type": "error",
     "traceback": [
      "\u001b[1;31m---------------------------------------------------------------------------\u001b[0m",
      "\u001b[1;31mNotImplementedError\u001b[0m                       Traceback (most recent call last)",
      "\u001b[1;32m<ipython-input-7-39be7c2f4ba9>\u001b[0m in \u001b[0;36m<module>\u001b[1;34m()\u001b[0m\n\u001b[1;32m----> 1\u001b[1;33m \u001b[0mdff\u001b[0m\u001b[1;33m.\u001b[0m\u001b[0miloc\u001b[0m\u001b[1;33m[\u001b[0m\u001b[0mdff\u001b[0m\u001b[1;33m[\u001b[0m\u001b[1;34m'TRICARE'\u001b[0m\u001b[1;33m]\u001b[0m\u001b[1;33m==\u001b[0m\u001b[1;34m'Yes'\u001b[0m\u001b[1;33m]\u001b[0m\u001b[1;33m\u001b[0m\u001b[0m\n\u001b[0m",
      "\u001b[1;32mC:\\Anaconda3\\lib\\site-packages\\pandas\\core\\indexing.py\u001b[0m in \u001b[0;36m__getitem__\u001b[1;34m(self, key)\u001b[0m\n\u001b[0;32m   1187\u001b[0m             \u001b[1;32mreturn\u001b[0m \u001b[0mself\u001b[0m\u001b[1;33m.\u001b[0m\u001b[0m_getitem_tuple\u001b[0m\u001b[1;33m(\u001b[0m\u001b[0mkey\u001b[0m\u001b[1;33m)\u001b[0m\u001b[1;33m\u001b[0m\u001b[0m\n\u001b[0;32m   1188\u001b[0m         \u001b[1;32melse\u001b[0m\u001b[1;33m:\u001b[0m\u001b[1;33m\u001b[0m\u001b[0m\n\u001b[1;32m-> 1189\u001b[1;33m             \u001b[1;32mreturn\u001b[0m \u001b[0mself\u001b[0m\u001b[1;33m.\u001b[0m\u001b[0m_getitem_axis\u001b[0m\u001b[1;33m(\u001b[0m\u001b[0mkey\u001b[0m\u001b[1;33m,\u001b[0m \u001b[0maxis\u001b[0m\u001b[1;33m=\u001b[0m\u001b[1;36m0\u001b[0m\u001b[1;33m)\u001b[0m\u001b[1;33m\u001b[0m\u001b[0m\n\u001b[0m\u001b[0;32m   1190\u001b[0m \u001b[1;33m\u001b[0m\u001b[0m\n\u001b[0;32m   1191\u001b[0m     \u001b[1;32mdef\u001b[0m \u001b[0m_getitem_axis\u001b[0m\u001b[1;33m(\u001b[0m\u001b[0mself\u001b[0m\u001b[1;33m,\u001b[0m \u001b[0mkey\u001b[0m\u001b[1;33m,\u001b[0m \u001b[0maxis\u001b[0m\u001b[1;33m=\u001b[0m\u001b[1;36m0\u001b[0m\u001b[1;33m)\u001b[0m\u001b[1;33m:\u001b[0m\u001b[1;33m\u001b[0m\u001b[0m\n",
      "\u001b[1;32mC:\\Anaconda3\\lib\\site-packages\\pandas\\core\\indexing.py\u001b[0m in \u001b[0;36m_getitem_axis\u001b[1;34m(self, key, axis)\u001b[0m\n\u001b[0;32m   1454\u001b[0m \u001b[1;33m\u001b[0m\u001b[0m\n\u001b[0;32m   1455\u001b[0m         \u001b[1;32melif\u001b[0m \u001b[0mis_bool_indexer\u001b[0m\u001b[1;33m(\u001b[0m\u001b[0mkey\u001b[0m\u001b[1;33m)\u001b[0m\u001b[1;33m:\u001b[0m\u001b[1;33m\u001b[0m\u001b[0m\n\u001b[1;32m-> 1456\u001b[1;33m             \u001b[0mself\u001b[0m\u001b[1;33m.\u001b[0m\u001b[0m_has_valid_type\u001b[0m\u001b[1;33m(\u001b[0m\u001b[0mkey\u001b[0m\u001b[1;33m,\u001b[0m \u001b[0maxis\u001b[0m\u001b[1;33m)\u001b[0m\u001b[1;33m\u001b[0m\u001b[0m\n\u001b[0m\u001b[0;32m   1457\u001b[0m             \u001b[1;32mreturn\u001b[0m \u001b[0mself\u001b[0m\u001b[1;33m.\u001b[0m\u001b[0m_getbool_axis\u001b[0m\u001b[1;33m(\u001b[0m\u001b[0mkey\u001b[0m\u001b[1;33m,\u001b[0m \u001b[0maxis\u001b[0m\u001b[1;33m=\u001b[0m\u001b[0maxis\u001b[0m\u001b[1;33m)\u001b[0m\u001b[1;33m\u001b[0m\u001b[0m\n\u001b[0;32m   1458\u001b[0m \u001b[1;33m\u001b[0m\u001b[0m\n",
      "\u001b[1;32mC:\\Anaconda3\\lib\\site-packages\\pandas\\core\\indexing.py\u001b[0m in \u001b[0;36m_has_valid_type\u001b[1;34m(self, key, axis)\u001b[0m\n\u001b[0;32m   1367\u001b[0m                 \u001b[1;32mif\u001b[0m \u001b[0mkey\u001b[0m\u001b[1;33m.\u001b[0m\u001b[0mindex\u001b[0m\u001b[1;33m.\u001b[0m\u001b[0minferred_type\u001b[0m \u001b[1;33m==\u001b[0m \u001b[1;34m'integer'\u001b[0m\u001b[1;33m:\u001b[0m\u001b[1;33m\u001b[0m\u001b[0m\n\u001b[0;32m   1368\u001b[0m                     raise NotImplementedError(\n\u001b[1;32m-> 1369\u001b[1;33m                         \u001b[1;34m\"iLocation based boolean indexing on an integer type \"\u001b[0m\u001b[1;33m\u001b[0m\u001b[0m\n\u001b[0m\u001b[0;32m   1370\u001b[0m                         \u001b[1;34m\"is not available\"\u001b[0m\u001b[1;33m\u001b[0m\u001b[0m\n\u001b[0;32m   1371\u001b[0m                     )\n",
      "\u001b[1;31mNotImplementedError\u001b[0m: iLocation based boolean indexing on an integer type is not available"
     ]
    }
   ],
   "source": [
    "dff.iloc[dff['TRICARE']=='Yes']"
   ]
  },
  {
   "cell_type": "code",
   "execution_count": 77,
   "metadata": {
    "collapsed": false
   },
   "outputs": [
    {
     "data": {
      "text/html": [
       "<div>\n",
       "<table border=\"1\" class=\"dataframe\">\n",
       "  <thead>\n",
       "    <tr style=\"text-align: right;\">\n",
       "      <th></th>\n",
       "      <th>LCSW</th>\n",
       "      <th>MFT</th>\n",
       "      <th>Psychiatrist</th>\n",
       "      <th>TRICARE</th>\n",
       "    </tr>\n",
       "  </thead>\n",
       "  <tbody>\n",
       "    <tr>\n",
       "      <th>60</th>\n",
       "      <td>Yes</td>\n",
       "      <td>No</td>\n",
       "      <td>Yes</td>\n",
       "      <td>Yes</td>\n",
       "    </tr>\n",
       "    <tr>\n",
       "      <th>226</th>\n",
       "      <td>Yes</td>\n",
       "      <td>No</td>\n",
       "      <td>Yes</td>\n",
       "      <td>Yes</td>\n",
       "    </tr>\n",
       "    <tr>\n",
       "      <th>237</th>\n",
       "      <td>Yes</td>\n",
       "      <td>No</td>\n",
       "      <td>Yes</td>\n",
       "      <td>Yes</td>\n",
       "    </tr>\n",
       "    <tr>\n",
       "      <th>238</th>\n",
       "      <td>Yes</td>\n",
       "      <td>No</td>\n",
       "      <td>Yes</td>\n",
       "      <td>Yes</td>\n",
       "    </tr>\n",
       "    <tr>\n",
       "      <th>243</th>\n",
       "      <td>Yes</td>\n",
       "      <td>No</td>\n",
       "      <td>Yes</td>\n",
       "      <td>Yes</td>\n",
       "    </tr>\n",
       "  </tbody>\n",
       "</table>\n",
       "</div>"
      ],
      "text/plain": [
       "    LCSW MFT Psychiatrist TRICARE\n",
       "60   Yes  No          Yes     Yes\n",
       "226  Yes  No          Yes     Yes\n",
       "237  Yes  No          Yes     Yes\n",
       "238  Yes  No          Yes     Yes\n",
       "243  Yes  No          Yes     Yes"
      ]
     },
     "execution_count": 77,
     "metadata": {},
     "output_type": "execute_result"
    }
   ],
   "source": [
    "eval(\"dff.loc[dff['TRICARE']=='Yes'].loc[dff['Psychiatrist']=='Yes'].loc[dff['LCSW']=='Yes']\")"
   ]
  },
  {
   "cell_type": "code",
   "execution_count": 81,
   "metadata": {
    "collapsed": false
   },
   "outputs": [
    {
     "data": {
      "text/plain": [
       "{'No': [239, 241, 253, 259, 260, 261], 'Yes': [60, 226, 237, 238, 243]}"
      ]
     },
     "execution_count": 81,
     "metadata": {},
     "output_type": "execute_result"
    }
   ],
   "source": [
    "eval(\"dff.loc[dff['TRICARE']=='Yes'].loc[dff['Psychiatrist']=='Yes']\").groupby('LCSW').groups"
   ]
  },
  {
   "cell_type": "code",
   "execution_count": 86,
   "metadata": {
    "collapsed": true
   },
   "outputs": [],
   "source": [
    "dff = df[['LCSW','MFT','Psychiatrist','TRICARE']]"
   ]
  },
  {
   "cell_type": "code",
   "execution_count": 101,
   "metadata": {
    "collapsed": false
   },
   "outputs": [
    {
     "data": {
      "text/plain": [
       "21"
      ]
     },
     "execution_count": 101,
     "metadata": {},
     "output_type": "execute_result"
    }
   ],
   "source": [
    "len(dff.loc[dff['TRICARE'] == 'No'].loc[dff['LCSW'] == 'Yes'])"
   ]
  },
  {
   "cell_type": "code",
   "execution_count": 88,
   "metadata": {
    "collapsed": true
   },
   "outputs": [],
   "source": [
    "np.in1d(xgroup[xc],ygroup['Yes'],assume_unique=True)"
   ]
  },
  {
   "cell_type": "code",
   "execution_count": 237,
   "metadata": {
    "collapsed": true
   },
   "outputs": [],
   "source": [
    "%run DecisionTreeC45.py"
   ]
  },
  {
   "cell_type": "code",
   "execution_count": 243,
   "metadata": {
    "collapsed": true
   },
   "outputs": [],
   "source": [
    "y = 'TRICARE'\n",
    "X = ['LCSW','MFT','Psychologist']"
   ]
  },
  {
   "cell_type": "code",
   "execution_count": 244,
   "metadata": {
    "collapsed": false
   },
   "outputs": [
    {
     "name": "stdout",
     "output_type": "stream",
     "text": [
      "('LCSW', array([[ 37,  21],\n",
      "       [110, 212]]), ['Yes', 'No'])\n",
      "('MFT', array([[  4,  10],\n",
      "       [143, 223]]), ['Yes', 'No'])\n",
      "('Psychologist', array([[ 27,   6],\n",
      "       [120, 227]]), ['Yes', 'No'])\n",
      "Psychologist\n",
      "['LCSW', 'MFT']\n",
      "('LCSW', array([[10,  1],\n",
      "       [17,  5]]), ['Yes', 'No'])\n",
      "('MFT', array([[ 2,  1],\n",
      "       [25,  5]]), ['Yes', 'No'])\n",
      "LCSW\n",
      "['MFT']\n",
      "('LCSW', array([[ 27,  20],\n",
      "       [ 93, 207]]), ['Yes', 'No'])\n",
      "('MFT', array([[  2,   9],\n",
      "       [118, 218]]), ['Yes', 'No'])\n",
      "LCSW\n",
      "['MFT']\n",
      "('MFT', array([[10,  1]]), ['No'])\n",
      "MFT\n",
      "[]\n",
      "('MFT', array([[ 2,  1],\n",
      "       [15,  4]]), ['Yes', 'No'])\n",
      "MFT\n",
      "[]\n",
      "('MFT', array([[ 2,  0],\n",
      "       [25, 20]]), ['Yes', 'No'])\n",
      "MFT\n",
      "[]\n",
      "('MFT', array([[  0,   9],\n",
      "       [ 93, 198]]), ['Yes', 'No'])\n",
      "MFT\n",
      "[]\n",
      "breaking\n",
      "[('Psychologist', '=', 'Yes'), ('LCSW', '=', 'Yes'), ('MFT', '=', 'No')] {'Yes': 10, 'No': 1}\n",
      "breaking\n",
      "[('Psychologist', '=', 'Yes'), ('LCSW', '=', 'No'), ('MFT', '=', 'Yes')] {'Yes': 2, 'No': 1}\n",
      "breaking\n",
      "[('Psychologist', '=', 'Yes'), ('LCSW', '=', 'No'), ('MFT', '=', 'No')] {'Yes': 15, 'No': 4}\n",
      "breaking\n",
      "[('Psychologist', '=', 'No'), ('LCSW', '=', 'Yes'), ('MFT', '=', 'Yes')] {'Yes': 2, 'No': 1}\n",
      "breaking\n",
      "[('Psychologist', '=', 'No'), ('LCSW', '=', 'Yes'), ('MFT', '=', 'No')] {'Yes': 15, 'No': 4}\n",
      "breaking\n",
      "[('Psychologist', '=', 'No'), ('LCSW', '=', 'No'), ('MFT', '=', 'Yes')] {'Yes': 2, 'No': 1}\n",
      "breaking\n",
      "[('Psychologist', '=', 'No'), ('LCSW', '=', 'No'), ('MFT', '=', 'No')] {'Yes': 15, 'No': 4}\n"
     ]
    }
   ],
   "source": [
    "dt = DecisionTree(df)\n",
    "dt.fit(y, X)"
   ]
  },
  {
   "cell_type": "code",
   "execution_count": 120,
   "metadata": {
    "collapsed": false
   },
   "outputs": [],
   "source": [
    "leaves = [n[1] for n in dt.nodes.items() if n[1].isleaf]"
   ]
  },
  {
   "cell_type": "code",
   "execution_count": 245,
   "metadata": {
    "collapsed": true
   },
   "outputs": [],
   "source": [
    "dt.D3tree('classtree.html')"
   ]
  },
  {
   "cell_type": "code",
   "execution_count": 230,
   "metadata": {
    "collapsed": false
   },
   "outputs": [],
   "source": [
    "import webbrowser\n",
    "import os"
   ]
  },
  {
   "cell_type": "code",
   "execution_count": 231,
   "metadata": {
    "collapsed": false
   },
   "outputs": [
    {
     "data": {
      "text/plain": [
       "'/Users/shaeselix/Documents/Python/VeteransMentalHealth_GBT'"
      ]
     },
     "execution_count": 231,
     "metadata": {},
     "output_type": "execute_result"
    }
   ],
   "source": [
    "os.getcwd()"
   ]
  },
  {
   "cell_type": "code",
   "execution_count": 236,
   "metadata": {
    "collapsed": false
   },
   "outputs": [
    {
     "data": {
      "text/plain": [
       "True"
      ]
     },
     "execution_count": 236,
     "metadata": {},
     "output_type": "execute_result"
    }
   ],
   "source": [
    "webbrowser.open_new_tab('file://'+os.getcwd()+'/classtree.html')"
   ]
  },
  {
   "cell_type": "code",
   "execution_count": 121,
   "metadata": {
    "collapsed": false
   },
   "outputs": [],
   "source": [
    "lpaths = [n.pathkeys for n in leaves]"
   ]
  },
  {
   "cell_type": "code",
   "execution_count": 122,
   "metadata": {
    "collapsed": false
   },
   "outputs": [
    {
     "data": {
      "text/plain": [
       "{0: <__main__.Node at 0x1098b1400>,\n",
       " 1: <__main__.Node at 0x1098b1898>,\n",
       " 2: <__main__.Node at 0x1098b1ef0>,\n",
       " 3: <__main__.Node at 0x1098b1d68>,\n",
       " 4: <__main__.Node at 0x1098b1748>,\n",
       " 5: <__main__.Node at 0x1098b10f0>,\n",
       " 6: <__main__.Node at 0x1098b1630>,\n",
       " 7: <__main__.Node at 0x1098b1390>,\n",
       " 8: <__main__.Node at 0x1098b12e8>,\n",
       " 9: <__main__.Node at 0x1098b14e0>,\n",
       " 10: <__main__.Node at 0x1098b1978>,\n",
       " 11: <__main__.Node at 0x1098b17b8>,\n",
       " 12: <__main__.Node at 0x1098b1320>,\n",
       " 13: <__main__.Node at 0x1098b1518>,\n",
       " 14: <__main__.Node at 0x1098b1588>,\n",
       " 15: <__main__.Node at 0x10ab8a588>,\n",
       " 16: <__main__.Node at 0x1098b1e48>,\n",
       " 17: <__main__.Node at 0x1098f2c18>,\n",
       " 18: <__main__.Node at 0x109900c18>,\n",
       " 19: <__main__.Node at 0x10990e630>,\n",
       " 20: <__main__.Node at 0x1098e4668>,\n",
       " 21: <__main__.Node at 0x1098e4278>}"
      ]
     },
     "execution_count": 122,
     "metadata": {},
     "output_type": "execute_result"
    }
   ],
   "source": [
    "dt.nodes"
   ]
  },
  {
   "cell_type": "code",
   "execution_count": 138,
   "metadata": {
    "collapsed": false
   },
   "outputs": [
    {
     "data": {
      "text/plain": [
       "[('root', 0),\n",
       " (0, 1),\n",
       " (0, 2),\n",
       " (1, 3),\n",
       " (1, 4),\n",
       " (2, 5),\n",
       " (2, 6),\n",
       " (3, 7),\n",
       " (4, 8),\n",
       " (4, 9),\n",
       " (5, 10),\n",
       " (5, 11),\n",
       " (6, 12),\n",
       " (6, 13),\n",
       " (7, 14),\n",
       " (7, 15),\n",
       " (8, 16),\n",
       " (9, 17),\n",
       " (10, 18),\n",
       " (11, 19),\n",
       " (12, 20),\n",
       " (13, 21)]"
      ]
     },
     "execution_count": 138,
     "metadata": {},
     "output_type": "execute_result"
    }
   ],
   "source": [
    "i = 0\n",
    "node = dt.nodes[i]\n",
    "[(n.parent, nid) for nid, n in dt.nodes.items()]"
   ]
  },
  {
   "cell_type": "code",
   "execution_count": 140,
   "metadata": {
    "collapsed": false
   },
   "outputs": [],
   "source": [
    "end = False\n",
    "hier = {}\n",
    "parent = 'root'\n",
    "hier['name'] = parent\n",
    "hier['children'] = [nid for nid, n in dt.nodes.items() if n.parent == parent]"
   ]
  },
  {
   "cell_type": "code",
   "execution_count": 186,
   "metadata": {
    "collapsed": false
   },
   "outputs": [],
   "source": [
    "def makeparent(parent, d):\n",
    "    nd = {'name': parent, 'children': d}\n",
    "    return(nd)"
   ]
  },
  {
   "cell_type": "code",
   "execution_count": 197,
   "metadata": {
    "collapsed": false
   },
   "outputs": [],
   "source": [
    "hier = {}\n",
    "for key in dt.nodes:\n",
    "    if dt.nodes[key].isleaf:\n",
    "        parent = dt.nodes[key].decision\n",
    "        hier[key] = makeparent(parent,None)\n",
    "    else:\n",
    "        parent = dt.nodes[key].opt\n",
    "        d = [nid for nid, n in dt.nodes.items() if n.parent == key]\n",
    "        hier[key] = makeparent(parent,d)"
   ]
  },
  {
   "cell_type": "code",
   "execution_count": 193,
   "metadata": {
    "collapsed": false
   },
   "outputs": [
    {
     "data": {
      "text/plain": [
       "{0: {'children': [1, 2], 'name': 'Psychologist'},\n",
       " 1: {'children': [3, 4], 'name': 'LCSW'},\n",
       " 2: {'children': [5, 6], 'name': 'LCSW'},\n",
       " 3: {'children': [7], 'name': 'MFT'},\n",
       " 4: {'children': [8, 9], 'name': 'MFT'},\n",
       " 5: {'children': [10, 11], 'name': 'Psychiatrist'},\n",
       " 6: {'children': [12, 13], 'name': 'Psychiatrist'},\n",
       " 7: {'children': [14, 15], 'name': 'Psychiatrist'},\n",
       " 8: {'children': [16], 'name': 'Psychiatrist'},\n",
       " 9: {'children': [17], 'name': 'Psychiatrist'},\n",
       " 10: {'children': [18], 'name': 'MFT'},\n",
       " 11: {'children': [19], 'name': 'MFT'},\n",
       " 12: {'children': [20], 'name': 'MFT'},\n",
       " 13: {'children': [21], 'name': 'MFT'},\n",
       " 14: {'children': None, 'name': 'Yes'},\n",
       " 15: {'children': None, 'name': 'No'},\n",
       " 16: {'children': None, 'name': 'Yes'},\n",
       " 17: {'children': None, 'name': 'Yes'},\n",
       " 18: {'children': None, 'name': 'Yes'},\n",
       " 19: {'children': None, 'name': 'Yes'},\n",
       " 20: {'children': None, 'name': 'Yes'},\n",
       " 21: {'children': None, 'name': 'Yes'}}"
      ]
     },
     "execution_count": 193,
     "metadata": {},
     "output_type": "execute_result"
    }
   ],
   "source": [
    "hier"
   ]
  },
  {
   "cell_type": "code",
   "execution_count": 189,
   "metadata": {
    "collapsed": false
   },
   "outputs": [
    {
     "data": {
      "text/plain": [
       "[21, 20, 19, 18, 17, 16, 15, 14, 13, 12, 11, 10, 9, 8, 7, 6, 5, 4, 3, 2, 1, 0]"
      ]
     },
     "execution_count": 189,
     "metadata": {},
     "output_type": "execute_result"
    }
   ],
   "source": [
    "higherkeys = list(hier.keys())\n",
    "higherkeys.reverse()\n",
    "higherkeys"
   ]
  },
  {
   "cell_type": "code",
   "execution_count": 190,
   "metadata": {
    "collapsed": false
   },
   "outputs": [
    {
     "data": {
      "text/plain": [
       "[21, 20, 19, 18, 17, 16, 15, 14, 13, 12, 11, 10, 9, 8, 7, 6, 5, 4, 3, 2, 1, 0]"
      ]
     },
     "execution_count": 190,
     "metadata": {},
     "output_type": "execute_result"
    }
   ],
   "source": [
    "higherkeys"
   ]
  },
  {
   "cell_type": "code",
   "execution_count": 198,
   "metadata": {
    "collapsed": false
   },
   "outputs": [],
   "source": [
    "for key in higherkeys:\n",
    "    newlist = []\n",
    "    if hier[key]['children']:\n",
    "        for bbk in hier[key]['children']:\n",
    "            newlist.append(hier[bbk])\n",
    "        hier[key]['children'] = newlist\n",
    "    else:\n",
    "        del hier[key]['children']"
   ]
  },
  {
   "cell_type": "code",
   "execution_count": 200,
   "metadata": {
    "collapsed": false
   },
   "outputs": [
    {
     "data": {
      "text/plain": [
       "\"{'children': [{'children': [{'children': [{'children': [{'name': 'Yes'}, {'name': 'No'}], 'name': 'Psychiatrist'}], 'name': 'MFT'}, {'children': [{'children': [{'name': 'Yes'}], 'name': 'Psychiatrist'}, {'children': [{'name': 'Yes'}], 'name': 'Psychiatrist'}], 'name': 'MFT'}], 'name': 'LCSW'}, {'children': [{'children': [{'children': [{'name': 'Yes'}], 'name': 'MFT'}, {'children': [{'name': 'Yes'}], 'name': 'MFT'}], 'name': 'Psychiatrist'}, {'children': [{'children': [{'name': 'Yes'}], 'name': 'MFT'}, {'children': [{'name': 'Yes'}], 'name': 'MFT'}], 'name': 'Psychiatrist'}], 'name': 'LCSW'}], 'name': 'Psychologist'}\""
      ]
     },
     "execution_count": 200,
     "metadata": {},
     "output_type": "execute_result"
    }
   ],
   "source": [
    "str(hier[0])"
   ]
  },
  {
   "cell_type": "code",
   "execution_count": 218,
   "metadata": {
    "collapsed": true
   },
   "outputs": [],
   "source": [
    "htmlf = 'TreeDiagrambase.html'"
   ]
  },
  {
   "cell_type": "code",
   "execution_count": 219,
   "metadata": {
    "collapsed": false
   },
   "outputs": [],
   "source": [
    "red = open(htmlf, 'r').read()\n",
    "s = red % str(hier[0])"
   ]
  },
  {
   "cell_type": "code",
   "execution_count": 221,
   "metadata": {
    "collapsed": false
   },
   "outputs": [],
   "source": [
    "\n",
    "htmlf = open('newtree.html', 'w')\n",
    "htmlf.write(s)\n",
    "htmlf.close()"
   ]
  },
  {
   "cell_type": "code",
   "execution_count": 211,
   "metadata": {
    "collapsed": false
   },
   "outputs": [
    {
     "data": {
      "text/plain": [
       "'<!DOCTYPE html>\\n<html lang=\"en\">\\n    <head>\\n        <meta charset=\"utf-8\">\\n        <title>D3 Decision Tree</title>\\n\\t\\t<!--<script src=\"https://code.jquery.com/jquery-latest.min.js\"></script>-->\\n        <script src=\"http://d3js.org/d3.v3.min.js\" charset=\"utf-8\"></script>\\n\\t\\t<!--<script type=\"text/javascript\" src=\"wordlist.js\"></script>-->\\n\\t\\t<style type=\"text/css\">\\n\\t\\t    .node {\\n\\t\\t        cursor: pointer;\\n\\t\\t    }\\n\\t\\t    .node circle {\\n\\t\\t        fill: #fff;\\n\\t\\t        stroke: steelblue;\\n\\t\\t        stroke-width: 1.5px;\\n\\t\\t    }\\n\\t\\t    .node text {\\n\\t\\t        font: 10px sans-serif;\\n\\t\\t    }\\n\\t\\t    .link {\\n\\t\\t        fill: none;\\n\\t\\t        stroke: #ccc;\\n\\t\\t        stroke-width: 1.5px;\\n\\t\\t    }\\n\\n\\t\\t    body {\\n\\t\\t        overflow: hidden;\\n\\t\\t    }\\n\\n\\t\\t</style>\\n    </head>\\n\\t<body>\\n\\t    <script type=\"text/javascript\">\\nvar margin = {\\n    top: 20,\\n    right: 120,\\n    bottom: 20,\\n    left: 120\\n},\\nwidth = 960 - margin.right - margin.left,\\nheight = 800 - margin.top - margin.bottom;\\n\\nvar root = {\\'children\\': [{\\'children\\': [{\\'children\\': [{\\'children\\': [{\\'name\\': \\'Yes\\'}, {\\'name\\': \\'No\\'}], \\'name\\': \\'Psychiatrist\\'}], \\'name\\': \\'MFT\\'}, {\\'children\\': [{\\'children\\': [{\\'name\\': \\'Yes\\'}], \\'name\\': \\'Psychiatrist\\'}, {\\'children\\': [{\\'name\\': \\'Yes\\'}], \\'name\\': \\'Psychiatrist\\'}], \\'name\\': \\'MFT\\'}], \\'name\\': \\'LCSW\\'}, {\\'children\\': [{\\'children\\': [{\\'children\\': [{\\'name\\': \\'Yes\\'}], \\'name\\': \\'MFT\\'}, {\\'children\\': [{\\'name\\': \\'Yes\\'}], \\'name\\': \\'MFT\\'}], \\'name\\': \\'Psychiatrist\\'}, {\\'children\\': [{\\'children\\': [{\\'name\\': \\'Yes\\'}], \\'name\\': \\'MFT\\'}, {\\'children\\': [{\\'name\\': \\'Yes\\'}], \\'name\\': \\'MFT\\'}], \\'name\\': \\'Psychiatrist\\'}], \\'name\\': \\'LCSW\\'}], \\'name\\': \\'Psychologist\\'};\\n\\nvar i = 0,\\n    duration = 750,\\n    rectW = 60,\\n    rectH = 30;\\n\\t\\nvar tree = d3.layout.cluster().nodeSize([70, 40]);\\nvar diagonal = d3.svg.diagonal()\\n    .projection(function(d) {\\n\\treturn [d.x + rectW / 2, d.y + rectH/2];\\n});\\n\\nvar svg = d3.select(\"body\").append(\"svg\").attr(\"width\", 1000).attr(\"height\", 1000)\\n    .call(zm = d3.behavior.zoom().scaleExtent([1,3]).on(\"zoom\", redraw)).append(\"g\")\\n\\t.attr(\"transform\", \"translate(\" + 350 + \",\" + 20 + \")\");\\n\\t\\nzm.translate([350, 20]);\\n\\nroot.x0 = 0;\\nroot.y0 = height / 2;\\n\\nfunction collapse(d) {\\n    if (d.children) {\\n\\t    d._children = d.children;\\n\\t\\td._children.forEach(collapse);\\n\\t\\td.children = null;\\n\\t}\\n}\\n\\nroot.children.forEach(collapse);\\nupdate(root);\\t\\t\\t\\n\\nd3.select(\"body\").style(\"height\", \"800px\");\\n\\nfunction update(source) {\\n    \\n\\t//compute new tree layout\\n\\tvar nodes = tree.nodes(root).reverse(),\\n\\t    links = tree.links(nodes);\\n\\t\\t\\n\\t//normalize for fixed-depth\\n\\tnodes.forEach(function (d) {\\n\\t    d.y = d.depth * 180;\\n\\t});\\n\\t\\n\\t//update nodes\\n\\tvar node = svg.selectAll(\"g.node\")\\n\\t    .data(nodes, function (d) {\\n\\t\\treturn d.id || (d.id = ++i);\\n\\t});\\n\\t\\n\\t//Enter any new nodes at the parent\\'s previous position.\\n\\tvar nodeEnter = node.enter().append(\"g\")\\n\\t    .attr(\"class\", \"node\")\\n\\t\\t.attr(\"transform\", function (d) {\\n\\t\\treturn \"translate(\" + source.x0 + \",\" + source.y0 + \")\";\\n\\t})\\n\\t\\t.on(\"click\", click);\\n\\t\\t\\n\\tnodeEnter.append(\"rect\")\\n\\t    .attr(\"width\", rectW)\\n\\t\\t.attr(\"height\", rectH)\\n\\t\\t.attr(\"stroke\", \"black\")\\n\\t\\t.attr(\"stroke\", \"black\")\\n\\t\\t.attr(\"stroke-width\", 1)\\n\\t\\t.style(\"fill\", function (d) {\\n\\t\\treturn d._children ? \"lightsteelblue\" : \"#fff\";\\n\\t});\\n\\t\\n\\tnodeEnter.append(\"text\")\\n        .attr(\"x\", rectW / 2)\\n        .attr(\"y\", rectH / 2)\\n        .attr(\"dy\", \".35em\")\\n        .attr(\"text-anchor\", \"middle\")\\n        .text(function (d) {\\n        return d.name;\\n    });\\n\\t\\n\\tvar nodeUpdate = node.transition()\\n\\t    .duration(duration)\\n\\t\\t.attr(\"transform\", function (d) {\\n\\t\\treturn \"translate(\" + d.x + \",\" + d.y + \")\";\\n\\t});\\n\\t\\n\\tnodeUpdate.select(\"rect\")\\n        .attr(\"width\", rectW)\\n        .attr(\"height\", rectH)\\n        .attr(\"stroke\", \"black\")\\n        .attr(\"stroke-width\", 1)\\n        .style(\"fill\", function (d) {\\n        return d._children ? \"lightsteelblue\" : \"#fff\";\\n    });\\n\\t\\n\\tnodeUpdate.select(\"text\")\\n        .style(\"fill-opacity\", 1);\\n\\t\\t\\n\\tvar nodeExit = node.exit().transition()\\n        .duration(duration)\\n        .attr(\"transform\", function (d) {\\n        return \"translate(\" + source.x + \",\" + source.y + \")\";\\n    })\\n        .remove();\\n\\n    nodeExit.select(\"rect\")\\n\\t    .attr(\"width\", rectW)\\n\\t\\t.attr(\"height\", rectH)\\n\\t\\t.attr(\"stroke\", \"black\")\\n\\t\\t.attr(\"stroke-width\", 1);\\n\\t\\t\\n\\tnodeExit.select(\"text\");\\n\\t\\n\\tvar link = svg.selectAll(\"path.link\")\\n\\t    .data(links, function (d) {\\n\\t\\treturn d.target.id;\\n\\t});\\n\\t\\n\\tlink.enter().insert(\"path\", \"g\")\\n\\t    .attr(\"class\", \"link\")\\n\\t\\t.attr(\"x\", rectW / 2)\\n\\t\\t.attr(\"y\", rectH / 2)\\n\\t\\t.attr(\"d\", function (d) {\\n\\t\\tvar o = {\\n\\t\\t    x: source.x0,\\n\\t\\t\\ty: source.y0\\n\\t\\t};\\n\\t\\treturn diagonal({\\n\\t\\t    source: o,\\n\\t\\t\\ttarget: o\\n\\t\\t});\\n\\t});\\n\\t\\n\\tlink.transition()\\n\\t    .duration(duration)\\n\\t\\t.attr(\"d\", diagonal);\\n\\t\\t\\n    link.exit().transition()\\n        .duration(duration)\\n        .attr(\"d\", function (d) {\\n        var o = {\\n            x: source.x,\\n            y: source.y\\n        };\\n        return diagonal({\\n            source: o,\\n            target: o\\n        });\\n    })\\n        .remove();\\n\\n    nodes.forEach(function (d) {\\n        d.x0 = d.x;\\n        d.y0 = d.y;\\n    });\\n\\n}\\n\\nfunction click(d) {\\n    if (d.children) {\\n\\t    d._children = d.children;\\n\\t\\td.children = null;\\n\\t} else {\\n\\t    d.children = d._children;\\n\\t\\td._children = null;\\n\\t}\\n\\tupdate(d);\\n}\\n\\nfunction redraw() {\\n    //console.log(\"here\", d3.event.translate, d3.event.scale);\\n\\tsvg.attr(\"transform\",\\n\\t    \"translate(\" + d3.event.translate + \")\"\\n\\t\\t+ \" scale(\" + d3.event.scale + \")\");\\n}\\n\\n\\t\\t</script>\\n    </body>\\n</html>'"
      ]
     },
     "execution_count": 211,
     "metadata": {},
     "output_type": "execute_result"
    }
   ],
   "source": [
    "s"
   ]
  },
  {
   "cell_type": "code",
   "execution_count": 174,
   "metadata": {
    "collapsed": false
   },
   "outputs": [
    {
     "data": {
      "text/plain": [
       "{'children': [{'children': [{'children': [{'children': [], 'name': 18}],\n",
       "     'name': 10},\n",
       "    {'children': [{'children': [], 'name': 19}], 'name': 11}],\n",
       "   'name': 5},\n",
       "  {'children': [{'children': [{'children': [], 'name': 20}], 'name': 12},\n",
       "    {'children': [{'children': [], 'name': 21}], 'name': 13}],\n",
       "   'name': 6}],\n",
       " 'name': 2}"
      ]
     },
     "execution_count": 174,
     "metadata": {},
     "output_type": "execute_result"
    }
   ],
   "source": [
    "hier[0]['children'][1]"
   ]
  },
  {
   "cell_type": "code",
   "execution_count": 129,
   "metadata": {
    "collapsed": true
   },
   "outputs": [],
   "source": [
    "root = {\n",
    "    \"name\": \"Psychiatrist\",\n",
    "        \"children\": [{\n",
    "        \"name\": \"LCSW\",\n",
    "            \"children\": [{\n",
    "            \"name\": \"MFT\"\n",
    "        }, {\n",
    "            \"name\": \"graph\"\n",
    "        }, {\n",
    "            \"name\": \"optimization\"\n",
    "        }]\n",
    "    }, {\n",
    "        \"name\": \"LCSW\",\n",
    "            \"children\": [{\n",
    "            \"name\": \"Easing\"\n",
    "        }, {\n",
    "            \"name\": \"ISchedulable\",\n",
    "        }, {\n",
    "            \"name\": \"Parallel\",\n",
    "        }, {\n",
    "            \"name\": \"Tween\"\n",
    "        }]\n",
    "    }, {\n",
    "        \"name\": \"data\",\n",
    "            \"children\": [{\n",
    "            \"name\": \"converters\",\n",
    "                \"children\": [{\n",
    "                \"name\": \"Converters\"\n",
    "            }, {\n",
    "                \"name\": \"DelimitedTextConverter\"\n",
    "            }, {\n",
    "                \"name\": \"GraphMLConverter\"\n",
    "            }, {\n",
    "                \"name\": \"IDataConverter\"\n",
    "            }, {\n",
    "                \"name\": \"JSONConverter\"\n",
    "            }]\n",
    "        }]\n",
    "    }]\n",
    "}"
   ]
  },
  {
   "cell_type": "code",
   "execution_count": 137,
   "metadata": {
    "collapsed": false
   },
   "outputs": [
    {
     "data": {
      "text/plain": [
       "{'name': 'MFT'}"
      ]
     },
     "execution_count": 137,
     "metadata": {},
     "output_type": "execute_result"
    }
   ],
   "source": [
    "for key, value in "
   ]
  },
  {
   "cell_type": "code",
   "execution_count": 123,
   "metadata": {
    "collapsed": false
   },
   "outputs": [
    {
     "data": {
      "text/plain": [
       "[[('Psychologist', '=', 'Yes'),\n",
       "  ('LCSW', '=', 'Yes'),\n",
       "  ('MFT', '=', 'No'),\n",
       "  ('Psychiatrist', '=', 'Yes')],\n",
       " [('Psychologist', '=', 'Yes'),\n",
       "  ('LCSW', '=', 'Yes'),\n",
       "  ('MFT', '=', 'No'),\n",
       "  ('Psychiatrist', '=', 'No')],\n",
       " [('Psychologist', '=', 'Yes'),\n",
       "  ('LCSW', '=', 'No'),\n",
       "  ('MFT', '=', 'Yes'),\n",
       "  ('Psychiatrist', '=', 'No')],\n",
       " [('Psychologist', '=', 'Yes'),\n",
       "  ('LCSW', '=', 'No'),\n",
       "  ('MFT', '=', 'No'),\n",
       "  ('Psychiatrist', '=', 'No')],\n",
       " [('Psychologist', '=', 'No'),\n",
       "  ('LCSW', '=', 'Yes'),\n",
       "  ('Psychiatrist', '=', 'Yes'),\n",
       "  ('MFT', '=', 'No')],\n",
       " [('Psychologist', '=', 'No'),\n",
       "  ('LCSW', '=', 'Yes'),\n",
       "  ('Psychiatrist', '=', 'No'),\n",
       "  ('MFT', '=', 'No')],\n",
       " [('Psychologist', '=', 'No'),\n",
       "  ('LCSW', '=', 'No'),\n",
       "  ('Psychiatrist', '=', 'Yes'),\n",
       "  ('MFT', '=', 'No')],\n",
       " [('Psychologist', '=', 'No'),\n",
       "  ('LCSW', '=', 'No'),\n",
       "  ('Psychiatrist', '=', 'No'),\n",
       "  ('MFT', '=', 'No')]]"
      ]
     },
     "execution_count": 123,
     "metadata": {},
     "output_type": "execute_result"
    }
   ],
   "source": [
    "lpaths"
   ]
  },
  {
   "cell_type": "code",
   "execution_count": 124,
   "metadata": {
    "collapsed": false
   },
   "outputs": [
    {
     "data": {
      "text/plain": [
       "[('Psychologist', '=', 'Yes'),\n",
       " ('LCSW', '=', 'Yes'),\n",
       " ('MFT', '=', 'No'),\n",
       " ('Psychiatrist', '=', 'Yes')]"
      ]
     },
     "execution_count": 124,
     "metadata": {},
     "output_type": "execute_result"
    }
   ],
   "source": [
    "hier = {}\n",
    "for i in range(len(lpaths[0])):\n",
    "    hier['name'] = lpaths[0][i]\n",
    "    children"
   ]
  },
  {
   "cell_type": "code",
   "execution_count": 145,
   "metadata": {
    "collapsed": false
   },
   "outputs": [
    {
     "name": "stdout",
     "output_type": "stream",
     "text": [
      "0, root, Psychologist\n",
      "    1, 0, LCSW\n",
      "    2, 0, LCSW\n",
      "        3, 1, MFT\n",
      "        4, 1, MFT\n",
      "        5, 2, Psychiatrist\n",
      "        6, 2, Psychiatrist\n",
      "            7, 3, Psychiatrist\n",
      "            8, 4, Psychiatrist\n",
      "            9, 4, Psychiatrist\n",
      "            10, 5, MFT\n",
      "            11, 5, MFT\n",
      "            12, 6, MFT\n",
      "            13, 6, MFT\n",
      "                14, 7, Yes\n",
      "                15, 7, No\n",
      "                16, 8, Yes\n",
      "                17, 9, Yes\n",
      "                18, 10, Yes\n",
      "                19, 11, Yes\n",
      "                20, 12, Yes\n",
      "                21, 13, Yes\n"
     ]
    }
   ],
   "source": [
    "for i in range(len(dt.nodes)):\n",
    "    node = dt.nodes[i]\n",
    "    level = len(node.pathkeys)\n",
    "    s = '    '*level\n",
    "    if (node.isleaf):\n",
    "        print(s+'%s, %s, %s' % (i, node.parent, node.decision))\n",
    "    else:\n",
    "        print(s+'%s, %s, %s' % (i, node.parent, node.opt))"
   ]
  },
  {
   "cell_type": "code",
   "execution_count": 90,
   "metadata": {
    "collapsed": false
   },
   "outputs": [
    {
     "data": {
      "text/plain": [
       "[<__main__.Node at 0x109918710>, <__main__.Node at 0x1098df278>]"
      ]
     },
     "execution_count": 90,
     "metadata": {},
     "output_type": "execute_result"
    }
   ],
   "source": [
    "for "
   ]
  },
  {
   "cell_type": "code",
   "execution_count": 71,
   "metadata": {
    "collapsed": false
   },
   "outputs": [
    {
     "data": {
      "text/plain": [
       "('Yes', 6)"
      ]
     },
     "execution_count": 71,
     "metadata": {},
     "output_type": "execute_result"
    }
   ],
   "source": [
    "max(dt.nodes[5].yc_i.items(), key = lambda x: x[1])"
   ]
  },
  {
   "cell_type": "code",
   "execution_count": 70,
   "metadata": {
    "collapsed": false
   },
   "outputs": [
    {
     "data": {
      "text/plain": [
       "{'No': 2, 'Yes': 6}"
      ]
     },
     "execution_count": 70,
     "metadata": {},
     "output_type": "execute_result"
    }
   ],
   "source": [
    "dt.nodes[5].yc_i"
   ]
  },
  {
   "cell_type": "code",
   "execution_count": 220,
   "metadata": {
    "collapsed": false
   },
   "outputs": [
    {
     "data": {
      "text/plain": [
       "{'No', 'Yes'}"
      ]
     },
     "execution_count": 220,
     "metadata": {},
     "output_type": "execute_result"
    }
   ],
   "source": [
    "set(dff['TRICARE'])"
   ]
  },
  {
   "cell_type": "code",
   "execution_count": 222,
   "metadata": {
    "collapsed": false
   },
   "outputs": [
    {
     "data": {
      "text/plain": [
       "dict_keys(['Yes', 'No'])"
      ]
     },
     "execution_count": 222,
     "metadata": {},
     "output_type": "execute_result"
    }
   ],
   "source": [
    "dff.groupby('LCSW').groups.keys()"
   ]
  },
  {
   "cell_type": "code",
   "execution_count": 208,
   "metadata": {
    "collapsed": false
   },
   "outputs": [
    {
     "data": {
      "text/html": [
       "<div>\n",
       "<table border=\"1\" class=\"dataframe\">\n",
       "  <thead>\n",
       "    <tr style=\"text-align: right;\">\n",
       "      <th></th>\n",
       "      <th></th>\n",
       "      <th>MFT</th>\n",
       "      <th>Psychiatrist</th>\n",
       "    </tr>\n",
       "    <tr>\n",
       "      <th>LCSW</th>\n",
       "      <th>TRICARE</th>\n",
       "      <th></th>\n",
       "      <th></th>\n",
       "    </tr>\n",
       "  </thead>\n",
       "  <tbody>\n",
       "    <tr>\n",
       "      <th rowspan=\"2\" valign=\"top\">No</th>\n",
       "      <th>No</th>\n",
       "      <td>212</td>\n",
       "      <td>212</td>\n",
       "    </tr>\n",
       "    <tr>\n",
       "      <th>Yes</th>\n",
       "      <td>110</td>\n",
       "      <td>110</td>\n",
       "    </tr>\n",
       "    <tr>\n",
       "      <th rowspan=\"2\" valign=\"top\">Yes</th>\n",
       "      <th>No</th>\n",
       "      <td>21</td>\n",
       "      <td>21</td>\n",
       "    </tr>\n",
       "    <tr>\n",
       "      <th>Yes</th>\n",
       "      <td>37</td>\n",
       "      <td>37</td>\n",
       "    </tr>\n",
       "  </tbody>\n",
       "</table>\n",
       "</div>"
      ],
      "text/plain": [
       "              MFT  Psychiatrist\n",
       "LCSW TRICARE                   \n",
       "No   No       212           212\n",
       "     Yes      110           110\n",
       "Yes  No        21            21\n",
       "     Yes       37            37"
      ]
     },
     "execution_count": 208,
     "metadata": {},
     "output_type": "execute_result"
    }
   ],
   "source": [
    "dff.groupby(['LCSW', 'TRICARE']).count()"
   ]
  },
  {
   "cell_type": "code",
   "execution_count": 207,
   "metadata": {
    "collapsed": false
   },
   "outputs": [
    {
     "data": {
      "text/plain": [
       "{'No': [0,\n",
       "  2,\n",
       "  3,\n",
       "  4,\n",
       "  5,\n",
       "  6,\n",
       "  7,\n",
       "  8,\n",
       "  9,\n",
       "  10,\n",
       "  11,\n",
       "  12,\n",
       "  15,\n",
       "  16,\n",
       "  17,\n",
       "  18,\n",
       "  20,\n",
       "  21,\n",
       "  22,\n",
       "  27,\n",
       "  28,\n",
       "  29,\n",
       "  30,\n",
       "  33,\n",
       "  34,\n",
       "  35,\n",
       "  36,\n",
       "  37,\n",
       "  38,\n",
       "  39,\n",
       "  40,\n",
       "  41,\n",
       "  42,\n",
       "  43,\n",
       "  44,\n",
       "  45,\n",
       "  46,\n",
       "  48,\n",
       "  49,\n",
       "  50,\n",
       "  51,\n",
       "  52,\n",
       "  53,\n",
       "  54,\n",
       "  55,\n",
       "  56,\n",
       "  57,\n",
       "  59,\n",
       "  61,\n",
       "  63,\n",
       "  64,\n",
       "  65,\n",
       "  66,\n",
       "  67,\n",
       "  68,\n",
       "  71,\n",
       "  72,\n",
       "  73,\n",
       "  74,\n",
       "  75,\n",
       "  76,\n",
       "  77,\n",
       "  78,\n",
       "  81,\n",
       "  82,\n",
       "  83,\n",
       "  84,\n",
       "  85,\n",
       "  86,\n",
       "  87,\n",
       "  88,\n",
       "  89,\n",
       "  90,\n",
       "  91,\n",
       "  92,\n",
       "  93,\n",
       "  94,\n",
       "  95,\n",
       "  96,\n",
       "  97,\n",
       "  98,\n",
       "  100,\n",
       "  101,\n",
       "  104,\n",
       "  105,\n",
       "  106,\n",
       "  107,\n",
       "  108,\n",
       "  109,\n",
       "  110,\n",
       "  113,\n",
       "  114,\n",
       "  115,\n",
       "  117,\n",
       "  118,\n",
       "  119,\n",
       "  120,\n",
       "  121,\n",
       "  128,\n",
       "  129,\n",
       "  130,\n",
       "  131,\n",
       "  132,\n",
       "  133,\n",
       "  136,\n",
       "  137,\n",
       "  139,\n",
       "  140,\n",
       "  141,\n",
       "  142,\n",
       "  143,\n",
       "  145,\n",
       "  148,\n",
       "  149,\n",
       "  150,\n",
       "  151,\n",
       "  152,\n",
       "  153,\n",
       "  154,\n",
       "  158,\n",
       "  159,\n",
       "  160,\n",
       "  161,\n",
       "  162,\n",
       "  164,\n",
       "  165,\n",
       "  167,\n",
       "  168,\n",
       "  171,\n",
       "  172,\n",
       "  176,\n",
       "  178,\n",
       "  179,\n",
       "  181,\n",
       "  182,\n",
       "  183,\n",
       "  184,\n",
       "  185,\n",
       "  186,\n",
       "  187,\n",
       "  188,\n",
       "  189,\n",
       "  192,\n",
       "  193,\n",
       "  194,\n",
       "  195,\n",
       "  196,\n",
       "  197,\n",
       "  198,\n",
       "  200,\n",
       "  201,\n",
       "  202,\n",
       "  203,\n",
       "  204,\n",
       "  205,\n",
       "  206,\n",
       "  207,\n",
       "  208,\n",
       "  209,\n",
       "  210,\n",
       "  215,\n",
       "  216,\n",
       "  217,\n",
       "  218,\n",
       "  219,\n",
       "  220,\n",
       "  221,\n",
       "  223,\n",
       "  224,\n",
       "  228,\n",
       "  229,\n",
       "  230,\n",
       "  234,\n",
       "  251,\n",
       "  264,\n",
       "  265,\n",
       "  266,\n",
       "  269,\n",
       "  270,\n",
       "  272,\n",
       "  273,\n",
       "  274,\n",
       "  275,\n",
       "  276,\n",
       "  277,\n",
       "  278,\n",
       "  279,\n",
       "  281,\n",
       "  282,\n",
       "  283,\n",
       "  285,\n",
       "  286,\n",
       "  287,\n",
       "  288,\n",
       "  289,\n",
       "  291,\n",
       "  292,\n",
       "  295,\n",
       "  297,\n",
       "  298,\n",
       "  299,\n",
       "  301,\n",
       "  302,\n",
       "  303,\n",
       "  304,\n",
       "  308,\n",
       "  309,\n",
       "  310,\n",
       "  311,\n",
       "  312,\n",
       "  313,\n",
       "  314,\n",
       "  315,\n",
       "  318,\n",
       "  319,\n",
       "  320,\n",
       "  324,\n",
       "  325,\n",
       "  327,\n",
       "  328,\n",
       "  330,\n",
       "  331,\n",
       "  332,\n",
       "  367,\n",
       "  368,\n",
       "  369,\n",
       "  371,\n",
       "  372,\n",
       "  373,\n",
       "  374,\n",
       "  376,\n",
       "  378,\n",
       "  379],\n",
       " 'Yes': [1,\n",
       "  13,\n",
       "  14,\n",
       "  19,\n",
       "  23,\n",
       "  24,\n",
       "  25,\n",
       "  26,\n",
       "  31,\n",
       "  32,\n",
       "  47,\n",
       "  58,\n",
       "  60,\n",
       "  62,\n",
       "  69,\n",
       "  70,\n",
       "  79,\n",
       "  80,\n",
       "  99,\n",
       "  102,\n",
       "  103,\n",
       "  111,\n",
       "  112,\n",
       "  116,\n",
       "  122,\n",
       "  123,\n",
       "  124,\n",
       "  125,\n",
       "  126,\n",
       "  127,\n",
       "  134,\n",
       "  135,\n",
       "  138,\n",
       "  144,\n",
       "  146,\n",
       "  147,\n",
       "  155,\n",
       "  156,\n",
       "  157,\n",
       "  163,\n",
       "  166,\n",
       "  169,\n",
       "  170,\n",
       "  173,\n",
       "  174,\n",
       "  175,\n",
       "  177,\n",
       "  180,\n",
       "  190,\n",
       "  191,\n",
       "  199,\n",
       "  211,\n",
       "  212,\n",
       "  213,\n",
       "  214,\n",
       "  222,\n",
       "  225,\n",
       "  226,\n",
       "  227,\n",
       "  231,\n",
       "  232,\n",
       "  233,\n",
       "  235,\n",
       "  236,\n",
       "  237,\n",
       "  238,\n",
       "  239,\n",
       "  240,\n",
       "  241,\n",
       "  242,\n",
       "  243,\n",
       "  244,\n",
       "  245,\n",
       "  246,\n",
       "  247,\n",
       "  248,\n",
       "  249,\n",
       "  250,\n",
       "  252,\n",
       "  253,\n",
       "  254,\n",
       "  255,\n",
       "  256,\n",
       "  257,\n",
       "  258,\n",
       "  259,\n",
       "  260,\n",
       "  261,\n",
       "  262,\n",
       "  263,\n",
       "  267,\n",
       "  268,\n",
       "  271,\n",
       "  280,\n",
       "  284,\n",
       "  290,\n",
       "  293,\n",
       "  294,\n",
       "  296,\n",
       "  300,\n",
       "  305,\n",
       "  306,\n",
       "  307,\n",
       "  316,\n",
       "  317,\n",
       "  321,\n",
       "  322,\n",
       "  323,\n",
       "  326,\n",
       "  329,\n",
       "  333,\n",
       "  334,\n",
       "  335,\n",
       "  336,\n",
       "  337,\n",
       "  338,\n",
       "  339,\n",
       "  340,\n",
       "  341,\n",
       "  342,\n",
       "  343,\n",
       "  344,\n",
       "  345,\n",
       "  346,\n",
       "  347,\n",
       "  348,\n",
       "  349,\n",
       "  350,\n",
       "  351,\n",
       "  352,\n",
       "  353,\n",
       "  354,\n",
       "  355,\n",
       "  356,\n",
       "  357,\n",
       "  358,\n",
       "  359,\n",
       "  360,\n",
       "  361,\n",
       "  362,\n",
       "  363,\n",
       "  364,\n",
       "  365,\n",
       "  366,\n",
       "  370,\n",
       "  375,\n",
       "  377]}"
      ]
     },
     "execution_count": 207,
     "metadata": {},
     "output_type": "execute_result"
    }
   ],
   "source": [
    "dt.ygroup"
   ]
  },
  {
   "cell_type": "code",
   "execution_count": 172,
   "metadata": {
    "collapsed": true
   },
   "outputs": [],
   "source": [
    "lc = np.array([[ 37,  21],[110, 212]])"
   ]
  },
  {
   "cell_type": "code",
   "execution_count": 175,
   "metadata": {
    "collapsed": false
   },
   "outputs": [],
   "source": [
    "ps = np.apply_along_axis(np.sum,0,lc)/np.sum(lc)"
   ]
  },
  {
   "cell_type": "code",
   "execution_count": 179,
   "metadata": {
    "collapsed": false
   },
   "outputs": [
    {
     "data": {
      "text/html": [
       "<div>\n",
       "<table border=\"1\" class=\"dataframe\">\n",
       "  <thead>\n",
       "    <tr style=\"text-align: right;\">\n",
       "      <th></th>\n",
       "      <th>LCSW</th>\n",
       "      <th>MFT</th>\n",
       "      <th>Psychiatrist</th>\n",
       "    </tr>\n",
       "    <tr>\n",
       "      <th>TRICARE</th>\n",
       "      <th></th>\n",
       "      <th></th>\n",
       "      <th></th>\n",
       "    </tr>\n",
       "  </thead>\n",
       "  <tbody>\n",
       "    <tr>\n",
       "      <th>No</th>\n",
       "      <td>233</td>\n",
       "      <td>233</td>\n",
       "      <td>233</td>\n",
       "    </tr>\n",
       "    <tr>\n",
       "      <th>Yes</th>\n",
       "      <td>147</td>\n",
       "      <td>147</td>\n",
       "      <td>147</td>\n",
       "    </tr>\n",
       "  </tbody>\n",
       "</table>\n",
       "</div>"
      ],
      "text/plain": [
       "         LCSW  MFT  Psychiatrist\n",
       "TRICARE                         \n",
       "No        233  233           233\n",
       "Yes       147  147           147"
      ]
     },
     "execution_count": 179,
     "metadata": {},
     "output_type": "execute_result"
    }
   ],
   "source": [
    "dff.groupby('TRICARE').count()"
   ]
  },
  {
   "cell_type": "code",
   "execution_count": 181,
   "metadata": {
    "collapsed": false
   },
   "outputs": [
    {
     "data": {
      "text/plain": [
       "0.96273138097465094"
      ]
     },
     "execution_count": 181,
     "metadata": {},
     "output_type": "execute_result"
    }
   ],
   "source": [
    "-(233/380)*np.log2((233/380))-(147/380)*np.log2((147/380))"
   ]
  },
  {
   "cell_type": "code",
   "execution_count": 190,
   "metadata": {
    "collapsed": false
   },
   "outputs": [],
   "source": [
    "yyy = np.sum(sum(lc[0])/sum(lc)*((-lc[0][0]/sum(lc[0]))*np.log2(lc[0][0]/sum(lc[0]))-(lc[0][1]/sum(lc[0]))*np.log2(lc[0][1]/sum(lc[0]))))"
   ]
  },
  {
   "cell_type": "code",
   "execution_count": 191,
   "metadata": {
    "collapsed": false
   },
   "outputs": [
    {
     "data": {
      "text/plain": [
       "3.9170586300912844"
      ]
     },
     "execution_count": 191,
     "metadata": {},
     "output_type": "execute_result"
    }
   ],
   "source": [
    "yyy + np.sum(sum(lc[1])/sum(lc)*((-lc[1][0]/sum(lc[1]))*np.log2(lc[1][0]/sum(lc[1]))-(lc[1][1]/sum(lc[1]))*np.log2(lc[1][1]/sum(lc[1]))))"
   ]
  },
  {
   "cell_type": "code",
   "execution_count": 180,
   "metadata": {
    "collapsed": false
   },
   "outputs": [
    {
     "data": {
      "text/plain": [
       "LCSW            380\n",
       "MFT             380\n",
       "Psychiatrist    380\n",
       "TRICARE         380\n",
       "dtype: int64"
      ]
     },
     "execution_count": 180,
     "metadata": {},
     "output_type": "execute_result"
    }
   ],
   "source": [
    "dff.count()"
   ]
  },
  {
   "cell_type": "code",
   "execution_count": 171,
   "metadata": {
    "collapsed": false
   },
   "outputs": [],
   "source": [
    "zz = np.zeros((2,2), dtype = np.int64)"
   ]
  },
  {
   "cell_type": "code",
   "execution_count": 151,
   "metadata": {
    "collapsed": false
   },
   "outputs": [],
   "source": [
    "zz = np.array([[1,2],[3,4]])"
   ]
  },
  {
   "cell_type": "code",
   "execution_count": 156,
   "metadata": {
    "collapsed": false
   },
   "outputs": [
    {
     "data": {
      "text/plain": [
       "array([3, 7])"
      ]
     },
     "execution_count": 156,
     "metadata": {},
     "output_type": "execute_result"
    }
   ],
   "source": [
    "np.apply_along_axis(np.sum, 1, zz)"
   ]
  },
  {
   "cell_type": "code",
   "execution_count": 166,
   "metadata": {
    "collapsed": false
   },
   "outputs": [
    {
     "ename": "AttributeError",
     "evalue": "'module' object has no attribute 'concat'",
     "output_type": "error",
     "traceback": [
      "\u001b[1;31m---------------------------------------------------------------------------\u001b[0m",
      "\u001b[1;31mAttributeError\u001b[0m                            Traceback (most recent call last)",
      "\u001b[1;32m<ipython-input-166-3dfed2d8d3dc>\u001b[0m in \u001b[0;36m<module>\u001b[1;34m()\u001b[0m\n\u001b[1;32m----> 1\u001b[1;33m \u001b[0mnp\u001b[0m\u001b[1;33m.\u001b[0m\u001b[0mconcat\u001b[0m\u001b[1;33m(\u001b[0m\u001b[0mzz\u001b[0m\u001b[1;33m)\u001b[0m\u001b[1;33m\u001b[0m\u001b[0m\n\u001b[0m",
      "\u001b[1;31mAttributeError\u001b[0m: 'module' object has no attribute 'concat'"
     ]
    }
   ],
   "source": [
    "np.concat(zz)"
   ]
  },
  {
   "cell_type": "code",
   "execution_count": 102,
   "metadata": {
    "collapsed": false
   },
   "outputs": [
    {
     "name": "stdout",
     "output_type": "stream",
     "text": [
      "Yes\n",
      "No\n"
     ]
    }
   ],
   "source": [
    "for n in dt.ycc:\n",
    "    print(n)"
   ]
  },
  {
   "cell_type": "code",
   "execution_count": 61,
   "metadata": {
    "collapsed": false
   },
   "outputs": [],
   "source": [
    "path1 = [('LCSW', '=', 'Yes')]\n",
    "path1.append(('MFT', '=', 'Yes'))"
   ]
  },
  {
   "cell_type": "code",
   "execution_count": 91,
   "metadata": {
    "collapsed": false
   },
   "outputs": [
    {
     "name": "stdout",
     "output_type": "stream",
     "text": [
      "hi!\n"
     ]
    }
   ],
   "source": [
    "for t in [()]:\n",
    "    print('hi!')"
   ]
  },
  {
   "cell_type": "code",
   "execution_count": 63,
   "metadata": {
    "collapsed": false
   },
   "outputs": [
    {
     "data": {
      "text/html": [
       "<div>\n",
       "<table border=\"1\" class=\"dataframe\">\n",
       "  <thead>\n",
       "    <tr style=\"text-align: right;\">\n",
       "      <th></th>\n",
       "      <th>LCSW</th>\n",
       "      <th>MFT</th>\n",
       "      <th>Psychiatrist</th>\n",
       "      <th>TRICARE</th>\n",
       "    </tr>\n",
       "  </thead>\n",
       "  <tbody>\n",
       "    <tr>\n",
       "      <th>235</th>\n",
       "      <td>Yes</td>\n",
       "      <td>Yes</td>\n",
       "      <td>No</td>\n",
       "      <td>Yes</td>\n",
       "    </tr>\n",
       "    <tr>\n",
       "      <th>337</th>\n",
       "      <td>Yes</td>\n",
       "      <td>Yes</td>\n",
       "      <td>No</td>\n",
       "      <td>Yes</td>\n",
       "    </tr>\n",
       "  </tbody>\n",
       "</table>\n",
       "</div>"
      ],
      "text/plain": [
       "    LCSW  MFT Psychiatrist TRICARE\n",
       "235  Yes  Yes           No     Yes\n",
       "337  Yes  Yes           No     Yes"
      ]
     },
     "execution_count": 63,
     "metadata": {},
     "output_type": "execute_result"
    }
   ],
   "source": [
    "subset = dff\n",
    "for p in path1:\n",
    "    subset = subset.loc[subset[p[0]] == p[2]]\n",
    "subset"
   ]
  },
  {
   "cell_type": "code",
   "execution_count": 43,
   "metadata": {
    "collapsed": false
   },
   "outputs": [
    {
     "data": {
      "text/html": [
       "<div>\n",
       "<table border=\"1\" class=\"dataframe\">\n",
       "  <thead>\n",
       "    <tr style=\"text-align: right;\">\n",
       "      <th></th>\n",
       "      <th>LCSW</th>\n",
       "      <th>MFT</th>\n",
       "      <th>Psychiatrist</th>\n",
       "      <th>TRICARE</th>\n",
       "    </tr>\n",
       "  </thead>\n",
       "  <tbody>\n",
       "    <tr>\n",
       "      <th>1</th>\n",
       "      <td>Yes</td>\n",
       "      <td>No</td>\n",
       "      <td>No</td>\n",
       "      <td>Yes</td>\n",
       "    </tr>\n",
       "    <tr>\n",
       "      <th>3</th>\n",
       "      <td>Yes</td>\n",
       "      <td>No</td>\n",
       "      <td>No</td>\n",
       "      <td>No</td>\n",
       "    </tr>\n",
       "    <tr>\n",
       "      <th>10</th>\n",
       "      <td>Yes</td>\n",
       "      <td>No</td>\n",
       "      <td>Yes</td>\n",
       "      <td>No</td>\n",
       "    </tr>\n",
       "    <tr>\n",
       "      <th>11</th>\n",
       "      <td>Yes</td>\n",
       "      <td>No</td>\n",
       "      <td>No</td>\n",
       "      <td>No</td>\n",
       "    </tr>\n",
       "    <tr>\n",
       "      <th>15</th>\n",
       "      <td>Yes</td>\n",
       "      <td>No</td>\n",
       "      <td>No</td>\n",
       "      <td>No</td>\n",
       "    </tr>\n",
       "    <tr>\n",
       "      <th>24</th>\n",
       "      <td>Yes</td>\n",
       "      <td>No</td>\n",
       "      <td>No</td>\n",
       "      <td>Yes</td>\n",
       "    </tr>\n",
       "    <tr>\n",
       "      <th>25</th>\n",
       "      <td>Yes</td>\n",
       "      <td>No</td>\n",
       "      <td>No</td>\n",
       "      <td>Yes</td>\n",
       "    </tr>\n",
       "    <tr>\n",
       "      <th>28</th>\n",
       "      <td>Yes</td>\n",
       "      <td>No</td>\n",
       "      <td>No</td>\n",
       "      <td>No</td>\n",
       "    </tr>\n",
       "    <tr>\n",
       "      <th>60</th>\n",
       "      <td>Yes</td>\n",
       "      <td>No</td>\n",
       "      <td>Yes</td>\n",
       "      <td>Yes</td>\n",
       "    </tr>\n",
       "    <tr>\n",
       "      <th>65</th>\n",
       "      <td>Yes</td>\n",
       "      <td>No</td>\n",
       "      <td>No</td>\n",
       "      <td>No</td>\n",
       "    </tr>\n",
       "    <tr>\n",
       "      <th>67</th>\n",
       "      <td>Yes</td>\n",
       "      <td>No</td>\n",
       "      <td>No</td>\n",
       "      <td>No</td>\n",
       "    </tr>\n",
       "    <tr>\n",
       "      <th>82</th>\n",
       "      <td>Yes</td>\n",
       "      <td>No</td>\n",
       "      <td>No</td>\n",
       "      <td>No</td>\n",
       "    </tr>\n",
       "    <tr>\n",
       "      <th>83</th>\n",
       "      <td>Yes</td>\n",
       "      <td>No</td>\n",
       "      <td>No</td>\n",
       "      <td>No</td>\n",
       "    </tr>\n",
       "    <tr>\n",
       "      <th>97</th>\n",
       "      <td>Yes</td>\n",
       "      <td>No</td>\n",
       "      <td>No</td>\n",
       "      <td>No</td>\n",
       "    </tr>\n",
       "    <tr>\n",
       "      <th>103</th>\n",
       "      <td>Yes</td>\n",
       "      <td>No</td>\n",
       "      <td>No</td>\n",
       "      <td>Yes</td>\n",
       "    </tr>\n",
       "    <tr>\n",
       "      <th>122</th>\n",
       "      <td>Yes</td>\n",
       "      <td>No</td>\n",
       "      <td>No</td>\n",
       "      <td>Yes</td>\n",
       "    </tr>\n",
       "    <tr>\n",
       "      <th>123</th>\n",
       "      <td>Yes</td>\n",
       "      <td>No</td>\n",
       "      <td>No</td>\n",
       "      <td>Yes</td>\n",
       "    </tr>\n",
       "    <tr>\n",
       "      <th>125</th>\n",
       "      <td>Yes</td>\n",
       "      <td>No</td>\n",
       "      <td>No</td>\n",
       "      <td>Yes</td>\n",
       "    </tr>\n",
       "    <tr>\n",
       "      <th>131</th>\n",
       "      <td>Yes</td>\n",
       "      <td>No</td>\n",
       "      <td>No</td>\n",
       "      <td>No</td>\n",
       "    </tr>\n",
       "    <tr>\n",
       "      <th>134</th>\n",
       "      <td>Yes</td>\n",
       "      <td>No</td>\n",
       "      <td>No</td>\n",
       "      <td>Yes</td>\n",
       "    </tr>\n",
       "    <tr>\n",
       "      <th>135</th>\n",
       "      <td>Yes</td>\n",
       "      <td>No</td>\n",
       "      <td>No</td>\n",
       "      <td>Yes</td>\n",
       "    </tr>\n",
       "    <tr>\n",
       "      <th>146</th>\n",
       "      <td>Yes</td>\n",
       "      <td>No</td>\n",
       "      <td>No</td>\n",
       "      <td>Yes</td>\n",
       "    </tr>\n",
       "    <tr>\n",
       "      <th>175</th>\n",
       "      <td>Yes</td>\n",
       "      <td>No</td>\n",
       "      <td>No</td>\n",
       "      <td>Yes</td>\n",
       "    </tr>\n",
       "    <tr>\n",
       "      <th>189</th>\n",
       "      <td>Yes</td>\n",
       "      <td>No</td>\n",
       "      <td>No</td>\n",
       "      <td>No</td>\n",
       "    </tr>\n",
       "    <tr>\n",
       "      <th>218</th>\n",
       "      <td>Yes</td>\n",
       "      <td>No</td>\n",
       "      <td>No</td>\n",
       "      <td>No</td>\n",
       "    </tr>\n",
       "    <tr>\n",
       "      <th>222</th>\n",
       "      <td>Yes</td>\n",
       "      <td>No</td>\n",
       "      <td>No</td>\n",
       "      <td>Yes</td>\n",
       "    </tr>\n",
       "    <tr>\n",
       "      <th>226</th>\n",
       "      <td>Yes</td>\n",
       "      <td>No</td>\n",
       "      <td>Yes</td>\n",
       "      <td>Yes</td>\n",
       "    </tr>\n",
       "    <tr>\n",
       "      <th>234</th>\n",
       "      <td>Yes</td>\n",
       "      <td>No</td>\n",
       "      <td>No</td>\n",
       "      <td>No</td>\n",
       "    </tr>\n",
       "    <tr>\n",
       "      <th>235</th>\n",
       "      <td>Yes</td>\n",
       "      <td>Yes</td>\n",
       "      <td>No</td>\n",
       "      <td>Yes</td>\n",
       "    </tr>\n",
       "    <tr>\n",
       "      <th>236</th>\n",
       "      <td>Yes</td>\n",
       "      <td>No</td>\n",
       "      <td>No</td>\n",
       "      <td>Yes</td>\n",
       "    </tr>\n",
       "    <tr>\n",
       "      <th>238</th>\n",
       "      <td>Yes</td>\n",
       "      <td>No</td>\n",
       "      <td>Yes</td>\n",
       "      <td>Yes</td>\n",
       "    </tr>\n",
       "    <tr>\n",
       "      <th>242</th>\n",
       "      <td>Yes</td>\n",
       "      <td>No</td>\n",
       "      <td>Yes</td>\n",
       "      <td>Yes</td>\n",
       "    </tr>\n",
       "    <tr>\n",
       "      <th>243</th>\n",
       "      <td>Yes</td>\n",
       "      <td>No</td>\n",
       "      <td>No</td>\n",
       "      <td>Yes</td>\n",
       "    </tr>\n",
       "    <tr>\n",
       "      <th>245</th>\n",
       "      <td>Yes</td>\n",
       "      <td>No</td>\n",
       "      <td>No</td>\n",
       "      <td>Yes</td>\n",
       "    </tr>\n",
       "    <tr>\n",
       "      <th>248</th>\n",
       "      <td>Yes</td>\n",
       "      <td>No</td>\n",
       "      <td>No</td>\n",
       "      <td>Yes</td>\n",
       "    </tr>\n",
       "    <tr>\n",
       "      <th>249</th>\n",
       "      <td>Yes</td>\n",
       "      <td>No</td>\n",
       "      <td>Yes</td>\n",
       "      <td>Yes</td>\n",
       "    </tr>\n",
       "    <tr>\n",
       "      <th>252</th>\n",
       "      <td>Yes</td>\n",
       "      <td>No</td>\n",
       "      <td>No</td>\n",
       "      <td>Yes</td>\n",
       "    </tr>\n",
       "    <tr>\n",
       "      <th>254</th>\n",
       "      <td>Yes</td>\n",
       "      <td>No</td>\n",
       "      <td>No</td>\n",
       "      <td>Yes</td>\n",
       "    </tr>\n",
       "    <tr>\n",
       "      <th>256</th>\n",
       "      <td>Yes</td>\n",
       "      <td>No</td>\n",
       "      <td>No</td>\n",
       "      <td>Yes</td>\n",
       "    </tr>\n",
       "    <tr>\n",
       "      <th>257</th>\n",
       "      <td>Yes</td>\n",
       "      <td>No</td>\n",
       "      <td>No</td>\n",
       "      <td>Yes</td>\n",
       "    </tr>\n",
       "    <tr>\n",
       "      <th>270</th>\n",
       "      <td>Yes</td>\n",
       "      <td>No</td>\n",
       "      <td>No</td>\n",
       "      <td>No</td>\n",
       "    </tr>\n",
       "    <tr>\n",
       "      <th>287</th>\n",
       "      <td>Yes</td>\n",
       "      <td>No</td>\n",
       "      <td>No</td>\n",
       "      <td>No</td>\n",
       "    </tr>\n",
       "    <tr>\n",
       "      <th>290</th>\n",
       "      <td>Yes</td>\n",
       "      <td>No</td>\n",
       "      <td>No</td>\n",
       "      <td>Yes</td>\n",
       "    </tr>\n",
       "    <tr>\n",
       "      <th>298</th>\n",
       "      <td>Yes</td>\n",
       "      <td>No</td>\n",
       "      <td>No</td>\n",
       "      <td>No</td>\n",
       "    </tr>\n",
       "    <tr>\n",
       "      <th>305</th>\n",
       "      <td>Yes</td>\n",
       "      <td>No</td>\n",
       "      <td>No</td>\n",
       "      <td>Yes</td>\n",
       "    </tr>\n",
       "    <tr>\n",
       "      <th>309</th>\n",
       "      <td>Yes</td>\n",
       "      <td>No</td>\n",
       "      <td>No</td>\n",
       "      <td>No</td>\n",
       "    </tr>\n",
       "    <tr>\n",
       "      <th>316</th>\n",
       "      <td>Yes</td>\n",
       "      <td>No</td>\n",
       "      <td>No</td>\n",
       "      <td>Yes</td>\n",
       "    </tr>\n",
       "    <tr>\n",
       "      <th>317</th>\n",
       "      <td>Yes</td>\n",
       "      <td>No</td>\n",
       "      <td>No</td>\n",
       "      <td>Yes</td>\n",
       "    </tr>\n",
       "    <tr>\n",
       "      <th>319</th>\n",
       "      <td>Yes</td>\n",
       "      <td>No</td>\n",
       "      <td>No</td>\n",
       "      <td>No</td>\n",
       "    </tr>\n",
       "    <tr>\n",
       "      <th>325</th>\n",
       "      <td>Yes</td>\n",
       "      <td>No</td>\n",
       "      <td>No</td>\n",
       "      <td>No</td>\n",
       "    </tr>\n",
       "    <tr>\n",
       "      <th>333</th>\n",
       "      <td>Yes</td>\n",
       "      <td>No</td>\n",
       "      <td>No</td>\n",
       "      <td>Yes</td>\n",
       "    </tr>\n",
       "    <tr>\n",
       "      <th>334</th>\n",
       "      <td>Yes</td>\n",
       "      <td>No</td>\n",
       "      <td>No</td>\n",
       "      <td>Yes</td>\n",
       "    </tr>\n",
       "    <tr>\n",
       "      <th>336</th>\n",
       "      <td>Yes</td>\n",
       "      <td>No</td>\n",
       "      <td>No</td>\n",
       "      <td>Yes</td>\n",
       "    </tr>\n",
       "    <tr>\n",
       "      <th>337</th>\n",
       "      <td>Yes</td>\n",
       "      <td>Yes</td>\n",
       "      <td>No</td>\n",
       "      <td>Yes</td>\n",
       "    </tr>\n",
       "    <tr>\n",
       "      <th>338</th>\n",
       "      <td>Yes</td>\n",
       "      <td>No</td>\n",
       "      <td>No</td>\n",
       "      <td>Yes</td>\n",
       "    </tr>\n",
       "    <tr>\n",
       "      <th>339</th>\n",
       "      <td>Yes</td>\n",
       "      <td>No</td>\n",
       "      <td>No</td>\n",
       "      <td>Yes</td>\n",
       "    </tr>\n",
       "    <tr>\n",
       "      <th>370</th>\n",
       "      <td>Yes</td>\n",
       "      <td>No</td>\n",
       "      <td>No</td>\n",
       "      <td>Yes</td>\n",
       "    </tr>\n",
       "    <tr>\n",
       "      <th>376</th>\n",
       "      <td>Yes</td>\n",
       "      <td>No</td>\n",
       "      <td>No</td>\n",
       "      <td>No</td>\n",
       "    </tr>\n",
       "  </tbody>\n",
       "</table>\n",
       "</div>"
      ],
      "text/plain": [
       "    LCSW  MFT Psychiatrist TRICARE\n",
       "1    Yes   No           No     Yes\n",
       "3    Yes   No           No      No\n",
       "10   Yes   No          Yes      No\n",
       "11   Yes   No           No      No\n",
       "15   Yes   No           No      No\n",
       "24   Yes   No           No     Yes\n",
       "25   Yes   No           No     Yes\n",
       "28   Yes   No           No      No\n",
       "60   Yes   No          Yes     Yes\n",
       "65   Yes   No           No      No\n",
       "67   Yes   No           No      No\n",
       "82   Yes   No           No      No\n",
       "83   Yes   No           No      No\n",
       "97   Yes   No           No      No\n",
       "103  Yes   No           No     Yes\n",
       "122  Yes   No           No     Yes\n",
       "123  Yes   No           No     Yes\n",
       "125  Yes   No           No     Yes\n",
       "131  Yes   No           No      No\n",
       "134  Yes   No           No     Yes\n",
       "135  Yes   No           No     Yes\n",
       "146  Yes   No           No     Yes\n",
       "175  Yes   No           No     Yes\n",
       "189  Yes   No           No      No\n",
       "218  Yes   No           No      No\n",
       "222  Yes   No           No     Yes\n",
       "226  Yes   No          Yes     Yes\n",
       "234  Yes   No           No      No\n",
       "235  Yes  Yes           No     Yes\n",
       "236  Yes   No           No     Yes\n",
       "238  Yes   No          Yes     Yes\n",
       "242  Yes   No          Yes     Yes\n",
       "243  Yes   No           No     Yes\n",
       "245  Yes   No           No     Yes\n",
       "248  Yes   No           No     Yes\n",
       "249  Yes   No          Yes     Yes\n",
       "252  Yes   No           No     Yes\n",
       "254  Yes   No           No     Yes\n",
       "256  Yes   No           No     Yes\n",
       "257  Yes   No           No     Yes\n",
       "270  Yes   No           No      No\n",
       "287  Yes   No           No      No\n",
       "290  Yes   No           No     Yes\n",
       "298  Yes   No           No      No\n",
       "305  Yes   No           No     Yes\n",
       "309  Yes   No           No      No\n",
       "316  Yes   No           No     Yes\n",
       "317  Yes   No           No     Yes\n",
       "319  Yes   No           No      No\n",
       "325  Yes   No           No      No\n",
       "333  Yes   No           No     Yes\n",
       "334  Yes   No           No     Yes\n",
       "336  Yes   No           No     Yes\n",
       "337  Yes  Yes           No     Yes\n",
       "338  Yes   No           No     Yes\n",
       "339  Yes   No           No     Yes\n",
       "370  Yes   No           No     Yes\n",
       "376  Yes   No           No      No"
      ]
     },
     "execution_count": 43,
     "metadata": {},
     "output_type": "execute_result"
    }
   ],
   "source": [
    "dff.loc[dff[path[0]] == path[2]]"
   ]
  },
  {
   "cell_type": "code",
   "execution_count": 9,
   "metadata": {
    "collapsed": false
   },
   "outputs": [],
   "source": [
    "y = 'TRICARE'\n",
    "X = ['LCSW','MFT','Psychiatrist']\n",
    "ygroup = dff.groupby(y).groups\n",
    "keystring = \"dff\""
   ]
  },
  {
   "cell_type": "code",
   "execution_count": 9,
   "metadata": {
    "collapsed": false
   },
   "outputs": [],
   "source": [
    "counts = {}\n",
    "for x in X:\n",
    "    counts[x] = {}\n",
    "    xgroup = eval(keystring).groupby(x).groups\n",
    "    for xc in xgroup:\n",
    "        counts[x][xc] = []\n",
    "        for yc in ygroup:\n",
    "            counts[x][xc].append(np.sum(np.in1d(xgroup[xc],ygroup[yc],assume_unique=True)))"
   ]
  },
  {
   "cell_type": "code",
   "execution_count": 10,
   "metadata": {
    "collapsed": false
   },
   "outputs": [
    {
     "data": {
      "text/plain": [
       "{'LCSW': {'No': [110, 212], 'Yes': [37, 21]},\n",
       " 'MFT': {'No': [143, 223], 'Yes': [4, 10]},\n",
       " 'Psychiatrist': {'No': [136, 230], 'Yes': [11, 3]}}"
      ]
     },
     "execution_count": 10,
     "metadata": {},
     "output_type": "execute_result"
    }
   ],
   "source": [
    "counts"
   ]
  },
  {
   "cell_type": "code",
   "execution_count": 118,
   "metadata": {
    "collapsed": false
   },
   "outputs": [],
   "source": [
    "chosen = X[0]\n",
    "splits = list(counts[chosen].keys())\n",
    "tackon = \".loc[dff['%s']=='%s']\" % (chosen, splits[1])"
   ]
  },
  {
   "cell_type": "code",
   "execution_count": 119,
   "metadata": {
    "collapsed": false
   },
   "outputs": [],
   "source": [
    "X.remove(chosen)\n",
    "keystring = keystring + tackon"
   ]
  },
  {
   "cell_type": "code",
   "execution_count": 24,
   "metadata": {
    "collapsed": false
   },
   "outputs": [
    {
     "name": "stdout",
     "output_type": "stream",
     "text": [
      "Yes\n",
      "[1, 13, 14, 19, 23, 24, 25, 26, 31, 32, 47, 58, 60, 62, 69, 70, 79, 80, 99, 102, 103, 111, 112, 116, 122, 123, 124, 125, 126, 127, 134, 135, 138, 144, 146, 147, 155, 156, 157, 163, 166, 169, 170, 173, 174, 175, 177, 180, 190, 191, 199, 211, 212, 213, 214, 222, 225, 226, 227, 231, 232, 233, 235, 236, 237, 238, 239, 240, 241, 242, 243, 244, 245, 246, 247, 248, 249, 250, 252, 253, 254, 255, 256, 257, 258, 259, 260, 261, 262, 263, 267, 268, 271, 280, 284, 290, 293, 294, 296, 300, 305, 306, 307, 316, 317, 321, 322, 323, 326, 329, 333, 334, 335, 336, 337, 338, 339, 340, 341, 342, 343, 344, 345, 346, 347, 348, 349, 350, 351, 352, 353, 354, 355, 356, 357, 358, 359, 360, 361, 362, 363, 364, 365, 366, 370, 375, 377]\n",
      "No\n",
      "[0, 2, 3, 4, 5, 6, 7, 8, 9, 10, 11, 12, 15, 16, 17, 18, 20, 21, 22, 27, 28, 29, 30, 33, 34, 35, 36, 37, 38, 39, 40, 41, 42, 43, 44, 45, 46, 48, 49, 50, 51, 52, 53, 54, 55, 56, 57, 59, 61, 63, 64, 65, 66, 67, 68, 71, 72, 73, 74, 75, 76, 77, 78, 81, 82, 83, 84, 85, 86, 87, 88, 89, 90, 91, 92, 93, 94, 95, 96, 97, 98, 100, 101, 104, 105, 106, 107, 108, 109, 110, 113, 114, 115, 117, 118, 119, 120, 121, 128, 129, 130, 131, 132, 133, 136, 137, 139, 140, 141, 142, 143, 145, 148, 149, 150, 151, 152, 153, 154, 158, 159, 160, 161, 162, 164, 165, 167, 168, 171, 172, 176, 178, 179, 181, 182, 183, 184, 185, 186, 187, 188, 189, 192, 193, 194, 195, 196, 197, 198, 200, 201, 202, 203, 204, 205, 206, 207, 208, 209, 210, 215, 216, 217, 218, 219, 220, 221, 223, 224, 228, 229, 230, 234, 251, 264, 265, 266, 269, 270, 272, 273, 274, 275, 276, 277, 278, 279, 281, 282, 283, 285, 286, 287, 288, 289, 291, 292, 295, 297, 298, 299, 301, 302, 303, 304, 308, 309, 310, 311, 312, 313, 314, 315, 318, 319, 320, 324, 325, 327, 328, 330, 331, 332, 367, 368, 369, 371, 372, 373, 374, 376, 378, 379]\n"
     ]
    }
   ],
   "source": [
    "for key in ygroup:\n",
    "    print(key)\n",
    "    print(ygroup[key])"
   ]
  },
  {
   "cell_type": "code",
   "execution_count": null,
   "metadata": {
    "collapsed": true
   },
   "outputs": [],
   "source": []
  },
  {
   "cell_type": "code",
   "execution_count": 44,
   "metadata": {
    "collapsed": false
   },
   "outputs": [],
   "source": [
    "tgroups = dff.groupby('TRICARE').groups"
   ]
  },
  {
   "cell_type": "code",
   "execution_count": 45,
   "metadata": {
    "collapsed": false
   },
   "outputs": [
    {
     "data": {
      "text/plain": [
       "dict_keys(['No', 'Yes'])"
      ]
     },
     "execution_count": 45,
     "metadata": {},
     "output_type": "execute_result"
    }
   ],
   "source": [
    "tgroups.keys()"
   ]
  },
  {
   "cell_type": "code",
   "execution_count": 47,
   "metadata": {
    "collapsed": false
   },
   "outputs": [],
   "source": [
    "pgroups = dff.groupby('Psychiatrist').groups"
   ]
  },
  {
   "cell_type": "code",
   "execution_count": 49,
   "metadata": {
    "collapsed": false
   },
   "outputs": [
    {
     "data": {
      "text/plain": [
       "dict_keys(['No', 'Yes'])"
      ]
     },
     "execution_count": 49,
     "metadata": {},
     "output_type": "execute_result"
    }
   ],
   "source": [
    "pgroups.keys()"
   ]
  },
  {
   "cell_type": "code",
   "execution_count": 65,
   "metadata": {
    "collapsed": false
   },
   "outputs": [
    {
     "name": "stdout",
     "output_type": "stream",
     "text": [
      "('No', [0, 1, 2, 3, 4, 5, 6, 7, 8, 10, 11, 12, 13, 14, 15, 16, 17, 18, 19, 20, 21, 22, 23, 24, 25, 26, 27, 28, 29, 30, 31, 32, 33, 34, 35, 36, 37, 38, 39, 40, 41, 42, 43, 44, 45, 46, 47, 48, 49, 50, 51, 52, 53, 54, 55, 56, 57, 58, 59, 61, 62, 63, 64, 65, 66, 67, 68, 69, 70, 71, 72, 73, 74, 75, 76, 77, 78, 79, 80, 81, 82, 83, 84, 85, 86, 87, 88, 89, 90, 91, 92, 93, 94, 95, 96, 97, 98, 99, 100, 101, 102, 103, 104, 105, 106, 107, 108, 109, 110, 111, 112, 113, 114, 115, 116, 117, 118, 119, 120, 121, 122, 123, 124, 125, 126, 127, 128, 129, 130, 131, 133, 134, 135, 136, 137, 138, 139, 140, 141, 142, 143, 144, 145, 146, 147, 148, 149, 150, 151, 152, 153, 154, 155, 156, 157, 158, 159, 160, 161, 162, 163, 164, 165, 166, 167, 168, 169, 170, 171, 172, 173, 174, 175, 176, 177, 178, 179, 180, 181, 182, 183, 184, 185, 186, 187, 188, 189, 190, 191, 192, 193, 194, 195, 196, 197, 198, 199, 200, 201, 202, 203, 204, 205, 206, 207, 208, 209, 210, 211, 212, 213, 214, 215, 216, 217, 218, 219, 220, 221, 222, 223, 224, 225, 227, 228, 229, 230, 231, 232, 233, 234, 235, 236, 240, 242, 245, 246, 247, 248, 249, 250, 251, 252, 254, 255, 256, 257, 258, 262, 263, 264, 265, 266, 267, 268, 269, 270, 271, 272, 273, 274, 275, 276, 277, 278, 279, 280, 281, 282, 283, 284, 285, 286, 287, 288, 289, 290, 291, 292, 293, 294, 295, 296, 297, 298, 299, 300, 301, 302, 303, 304, 305, 306, 307, 308, 309, 310, 311, 312, 313, 314, 315, 316, 317, 318, 319, 320, 321, 322, 323, 324, 325, 326, 327, 328, 329, 330, 331, 332, 333, 334, 335, 336, 337, 338, 339, 340, 341, 342, 343, 344, 345, 346, 347, 348, 349, 350, 351, 352, 353, 354, 355, 356, 357, 358, 359, 360, 361, 362, 363, 364, 365, 366, 367, 368, 369, 370, 371, 372, 373, 374, 375, 376, 377, 378])\n",
      "('Yes', [9, 60, 132, 226, 237, 238, 239, 241, 243, 244, 253, 259, 260, 261])\n"
     ]
    }
   ],
   "source": [
    "for group in pgroups.items():\n",
    "    print(group)"
   ]
  },
  {
   "cell_type": "code",
   "execution_count": 55,
   "metadata": {
    "collapsed": false
   },
   "outputs": [
    {
     "data": {
      "text/plain": [
       "3"
      ]
     },
     "execution_count": 55,
     "metadata": {},
     "output_type": "execute_result"
    }
   ],
   "source": [
    "np.sum(np.in1d(tgroups['No'].value,pgroups['Yes'],assume_unique=True))"
   ]
  },
  {
   "cell_type": "code",
   "execution_count": 67,
   "metadata": {
    "collapsed": false
   },
   "outputs": [
    {
     "name": "stdout",
     "output_type": "stream",
     "text": [
      "No No\n",
      "230\n",
      "No Yes\n",
      "3\n",
      "Yes No\n",
      "135\n",
      "Yes Yes\n",
      "11\n"
     ]
    }
   ],
   "source": [
    "for t in tgroups:\n",
    "    for p in pgroups:\n",
    "        print(t, p)\n",
    "        print(np.sum(np.in1d(tgroups[t],pgroups[p],assume_unique=True)))"
   ]
  },
  {
   "cell_type": "code",
   "execution_count": 51,
   "metadata": {
    "collapsed": false
   },
   "outputs": [
    {
     "data": {
      "text/plain": [
       "Psychiatrist\n",
       "No     365\n",
       "Yes     14\n",
       "Name: TRICARE, dtype: int64"
      ]
     },
     "execution_count": 51,
     "metadata": {},
     "output_type": "execute_result"
    }
   ],
   "source": [
    "dff['TRICARE'].groupby(by=dff['Psychiatrist']).count()"
   ]
  },
  {
   "cell_type": "code",
   "execution_count": null,
   "metadata": {
    "collapsed": true
   },
   "outputs": [],
   "source": [
    "grouped.apply(lambda x)"
   ]
  },
  {
   "cell_type": "code",
   "execution_count": 25,
   "metadata": {
    "collapsed": false
   },
   "outputs": [
    {
     "data": {
      "text/plain": [
       "0      False\n",
       "1      False\n",
       "2      False\n",
       "3      False\n",
       "4      False\n",
       "5      False\n",
       "6      False\n",
       "7      False\n",
       "8      False\n",
       "9      False\n",
       "10     False\n",
       "11     False\n",
       "12     False\n",
       "13     False\n",
       "14     False\n",
       "15     False\n",
       "16     False\n",
       "17     False\n",
       "18     False\n",
       "19     False\n",
       "20     False\n",
       "21     False\n",
       "22     False\n",
       "23     False\n",
       "24      True\n",
       "25      True\n",
       "26      True\n",
       "27     False\n",
       "28     False\n",
       "29     False\n",
       "       ...  \n",
       "350    False\n",
       "351    False\n",
       "352    False\n",
       "353    False\n",
       "354    False\n",
       "355    False\n",
       "356    False\n",
       "357    False\n",
       "358    False\n",
       "359    False\n",
       "360    False\n",
       "361    False\n",
       "362    False\n",
       "363    False\n",
       "364    False\n",
       "365    False\n",
       "366    False\n",
       "367    False\n",
       "368    False\n",
       "369    False\n",
       "370    False\n",
       "371    False\n",
       "372    False\n",
       "373    False\n",
       "374    False\n",
       "375     True\n",
       "376    False\n",
       "377    False\n",
       "378    False\n",
       "379    False\n",
       "Name: Psychologist, dtype: bool"
      ]
     },
     "execution_count": 25,
     "metadata": {},
     "output_type": "execute_result"
    }
   ],
   "source": [
    "df['Psychologist'].apply(lambda x: x == 'Yes')"
   ]
  },
  {
   "cell_type": "code",
   "execution_count": 6,
   "metadata": {
    "collapsed": false
   },
   "outputs": [
    {
     "ename": "ValueError",
     "evalue": "unknown type object",
     "output_type": "error",
     "traceback": [
      "\u001b[1;31m---------------------------------------------------------------------------\u001b[0m",
      "\u001b[1;31mValueError\u001b[0m                                Traceback (most recent call last)",
      "\u001b[1;32m<ipython-input-6-65146a44172b>\u001b[0m in \u001b[0;36m<module>\u001b[1;34m()\u001b[0m\n\u001b[1;32m----> 1\u001b[1;33m \u001b[0mdf2\u001b[0m \u001b[1;33m=\u001b[0m \u001b[0mpd\u001b[0m\u001b[1;33m.\u001b[0m\u001b[0meval\u001b[0m\u001b[1;33m(\u001b[0m\u001b[1;34m'df'\u001b[0m\u001b[1;33m)\u001b[0m\u001b[1;33m\u001b[0m\u001b[0m\n\u001b[0m",
      "\u001b[1;32mC:\\Anaconda3\\lib\\site-packages\\pandas\\computation\\eval.py\u001b[0m in \u001b[0;36meval\u001b[1;34m(expr, parser, engine, truediv, local_dict, global_dict, resolvers, level, target)\u001b[0m\n\u001b[0;32m    233\u001b[0m     \u001b[0meng\u001b[0m \u001b[1;33m=\u001b[0m \u001b[0m_engines\u001b[0m\u001b[1;33m[\u001b[0m\u001b[0mengine\u001b[0m\u001b[1;33m]\u001b[0m\u001b[1;33m\u001b[0m\u001b[0m\n\u001b[0;32m    234\u001b[0m     \u001b[0meng_inst\u001b[0m \u001b[1;33m=\u001b[0m \u001b[0meng\u001b[0m\u001b[1;33m(\u001b[0m\u001b[0mparsed_expr\u001b[0m\u001b[1;33m)\u001b[0m\u001b[1;33m\u001b[0m\u001b[0m\n\u001b[1;32m--> 235\u001b[1;33m     \u001b[0mret\u001b[0m \u001b[1;33m=\u001b[0m \u001b[0meng_inst\u001b[0m\u001b[1;33m.\u001b[0m\u001b[0mevaluate\u001b[0m\u001b[1;33m(\u001b[0m\u001b[1;33m)\u001b[0m\u001b[1;33m\u001b[0m\u001b[0m\n\u001b[0m\u001b[0;32m    236\u001b[0m \u001b[1;33m\u001b[0m\u001b[0m\n\u001b[0;32m    237\u001b[0m     \u001b[1;31m# assign if needed\u001b[0m\u001b[1;33m\u001b[0m\u001b[1;33m\u001b[0m\u001b[0m\n",
      "\u001b[1;32mC:\\Anaconda3\\lib\\site-packages\\pandas\\computation\\engines.py\u001b[0m in \u001b[0;36mevaluate\u001b[1;34m(self)\u001b[0m\n\u001b[0;32m     70\u001b[0m \u001b[1;33m\u001b[0m\u001b[0m\n\u001b[0;32m     71\u001b[0m         \u001b[1;31m# make sure no names in resolvers and locals/globals clash\u001b[0m\u001b[1;33m\u001b[0m\u001b[1;33m\u001b[0m\u001b[0m\n\u001b[1;32m---> 72\u001b[1;33m         \u001b[0mres\u001b[0m \u001b[1;33m=\u001b[0m \u001b[0mself\u001b[0m\u001b[1;33m.\u001b[0m\u001b[0m_evaluate\u001b[0m\u001b[1;33m(\u001b[0m\u001b[1;33m)\u001b[0m\u001b[1;33m\u001b[0m\u001b[0m\n\u001b[0m\u001b[0;32m     73\u001b[0m         return _reconstruct_object(self.result_type, res, self.aligned_axes,\n\u001b[0;32m     74\u001b[0m                                    self.expr.terms.return_type)\n",
      "\u001b[1;32mC:\\Anaconda3\\lib\\site-packages\\pandas\\computation\\engines.py\u001b[0m in \u001b[0;36m_evaluate\u001b[1;34m(self)\u001b[0m\n\u001b[0;32m    117\u001b[0m             \u001b[0mtruediv\u001b[0m \u001b[1;33m=\u001b[0m \u001b[0mscope\u001b[0m\u001b[1;33m[\u001b[0m\u001b[1;34m'truediv'\u001b[0m\u001b[1;33m]\u001b[0m\u001b[1;33m\u001b[0m\u001b[0m\n\u001b[0;32m    118\u001b[0m             \u001b[0m_check_ne_builtin_clash\u001b[0m\u001b[1;33m(\u001b[0m\u001b[0mself\u001b[0m\u001b[1;33m.\u001b[0m\u001b[0mexpr\u001b[0m\u001b[1;33m)\u001b[0m\u001b[1;33m\u001b[0m\u001b[0m\n\u001b[1;32m--> 119\u001b[1;33m             \u001b[1;32mreturn\u001b[0m \u001b[0mne\u001b[0m\u001b[1;33m.\u001b[0m\u001b[0mevaluate\u001b[0m\u001b[1;33m(\u001b[0m\u001b[0ms\u001b[0m\u001b[1;33m,\u001b[0m \u001b[0mlocal_dict\u001b[0m\u001b[1;33m=\u001b[0m\u001b[0mscope\u001b[0m\u001b[1;33m,\u001b[0m \u001b[0mtruediv\u001b[0m\u001b[1;33m=\u001b[0m\u001b[0mtruediv\u001b[0m\u001b[1;33m)\u001b[0m\u001b[1;33m\u001b[0m\u001b[0m\n\u001b[0m\u001b[0;32m    120\u001b[0m         \u001b[1;32mexcept\u001b[0m \u001b[0mKeyError\u001b[0m \u001b[1;32mas\u001b[0m \u001b[0me\u001b[0m\u001b[1;33m:\u001b[0m\u001b[1;33m\u001b[0m\u001b[0m\n\u001b[0;32m    121\u001b[0m             \u001b[1;31m# python 3 compat kludge\u001b[0m\u001b[1;33m\u001b[0m\u001b[1;33m\u001b[0m\u001b[0m\n",
      "\u001b[1;32mC:\\Anaconda3\\lib\\site-packages\\numexpr\\necompiler.py\u001b[0m in \u001b[0;36mevaluate\u001b[1;34m(ex, local_dict, global_dict, out, order, casting, **kwargs)\u001b[0m\n\u001b[0;32m    754\u001b[0m \u001b[1;33m\u001b[0m\u001b[0m\n\u001b[0;32m    755\u001b[0m     \u001b[1;31m# Create a signature\u001b[0m\u001b[1;33m\u001b[0m\u001b[1;33m\u001b[0m\u001b[0m\n\u001b[1;32m--> 756\u001b[1;33m     \u001b[0msignature\u001b[0m \u001b[1;33m=\u001b[0m \u001b[1;33m[\u001b[0m\u001b[1;33m(\u001b[0m\u001b[0mname\u001b[0m\u001b[1;33m,\u001b[0m \u001b[0mgetType\u001b[0m\u001b[1;33m(\u001b[0m\u001b[0marg\u001b[0m\u001b[1;33m)\u001b[0m\u001b[1;33m)\u001b[0m \u001b[1;32mfor\u001b[0m \u001b[1;33m(\u001b[0m\u001b[0mname\u001b[0m\u001b[1;33m,\u001b[0m \u001b[0marg\u001b[0m\u001b[1;33m)\u001b[0m \u001b[1;32min\u001b[0m \u001b[0mzip\u001b[0m\u001b[1;33m(\u001b[0m\u001b[0mnames\u001b[0m\u001b[1;33m,\u001b[0m \u001b[0marguments\u001b[0m\u001b[1;33m)\u001b[0m\u001b[1;33m]\u001b[0m\u001b[1;33m\u001b[0m\u001b[0m\n\u001b[0m\u001b[0;32m    757\u001b[0m \u001b[1;33m\u001b[0m\u001b[0m\n\u001b[0;32m    758\u001b[0m     \u001b[1;31m# Look up numexpr if possible.\u001b[0m\u001b[1;33m\u001b[0m\u001b[1;33m\u001b[0m\u001b[0m\n",
      "\u001b[1;32mC:\\Anaconda3\\lib\\site-packages\\numexpr\\necompiler.py\u001b[0m in \u001b[0;36m<listcomp>\u001b[1;34m(.0)\u001b[0m\n\u001b[0;32m    754\u001b[0m \u001b[1;33m\u001b[0m\u001b[0m\n\u001b[0;32m    755\u001b[0m     \u001b[1;31m# Create a signature\u001b[0m\u001b[1;33m\u001b[0m\u001b[1;33m\u001b[0m\u001b[0m\n\u001b[1;32m--> 756\u001b[1;33m     \u001b[0msignature\u001b[0m \u001b[1;33m=\u001b[0m \u001b[1;33m[\u001b[0m\u001b[1;33m(\u001b[0m\u001b[0mname\u001b[0m\u001b[1;33m,\u001b[0m \u001b[0mgetType\u001b[0m\u001b[1;33m(\u001b[0m\u001b[0marg\u001b[0m\u001b[1;33m)\u001b[0m\u001b[1;33m)\u001b[0m \u001b[1;32mfor\u001b[0m \u001b[1;33m(\u001b[0m\u001b[0mname\u001b[0m\u001b[1;33m,\u001b[0m \u001b[0marg\u001b[0m\u001b[1;33m)\u001b[0m \u001b[1;32min\u001b[0m \u001b[0mzip\u001b[0m\u001b[1;33m(\u001b[0m\u001b[0mnames\u001b[0m\u001b[1;33m,\u001b[0m \u001b[0marguments\u001b[0m\u001b[1;33m)\u001b[0m\u001b[1;33m]\u001b[0m\u001b[1;33m\u001b[0m\u001b[0m\n\u001b[0m\u001b[0;32m    757\u001b[0m \u001b[1;33m\u001b[0m\u001b[0m\n\u001b[0;32m    758\u001b[0m     \u001b[1;31m# Look up numexpr if possible.\u001b[0m\u001b[1;33m\u001b[0m\u001b[1;33m\u001b[0m\u001b[0m\n",
      "\u001b[1;32mC:\\Anaconda3\\lib\\site-packages\\numexpr\\necompiler.py\u001b[0m in \u001b[0;36mgetType\u001b[1;34m(a)\u001b[0m\n\u001b[0;32m    652\u001b[0m     \u001b[1;32mif\u001b[0m \u001b[0mkind\u001b[0m \u001b[1;33m==\u001b[0m \u001b[1;34m'S'\u001b[0m\u001b[1;33m:\u001b[0m\u001b[1;33m\u001b[0m\u001b[0m\n\u001b[0;32m    653\u001b[0m         \u001b[1;32mreturn\u001b[0m \u001b[0mbytes\u001b[0m\u001b[1;33m\u001b[0m\u001b[0m\n\u001b[1;32m--> 654\u001b[1;33m     \u001b[1;32mraise\u001b[0m \u001b[0mValueError\u001b[0m\u001b[1;33m(\u001b[0m\u001b[1;34m\"unknown type %s\"\u001b[0m \u001b[1;33m%\u001b[0m \u001b[0ma\u001b[0m\u001b[1;33m.\u001b[0m\u001b[0mdtype\u001b[0m\u001b[1;33m.\u001b[0m\u001b[0mname\u001b[0m\u001b[1;33m)\u001b[0m\u001b[1;33m\u001b[0m\u001b[0m\n\u001b[0m\u001b[0;32m    655\u001b[0m \u001b[1;33m\u001b[0m\u001b[0m\n\u001b[0;32m    656\u001b[0m \u001b[1;33m\u001b[0m\u001b[0m\n",
      "\u001b[1;31mValueError\u001b[0m: unknown type object"
     ]
    }
   ],
   "source": [
    "df2 = pd.eval('df')"
   ]
  },
  {
   "cell_type": "code",
   "execution_count": 9,
   "metadata": {
    "collapsed": false
   },
   "outputs": [
    {
     "data": {
      "text/plain": [
       "array([[  1.39610347e-309,   1.26974871e-321],\n",
       "       [  1.39610355e-309,   1.39067124e-309]])"
      ]
     },
     "execution_count": 9,
     "metadata": {},
     "output_type": "execute_result"
    }
   ],
   "source": [
    "np.ndarray(shape=(2,2), dtype=float, order='F')"
   ]
  },
  {
   "cell_type": "code",
   "execution_count": 9,
   "metadata": {
    "collapsed": false
   },
   "outputs": [
    {
     "data": {
      "text/plain": [
       "0.69353613889619181"
      ]
     },
     "execution_count": 9,
     "metadata": {},
     "output_type": "execute_result"
    }
   ],
   "source": [
    "5/14*(-2/5*np.log2(2/5)-3/5*np.log2(3/5)) + 4/14*(-1*np.log2(1)) + 5/14*(-3/5*np.log2(3/5)-2/5*np.log2(2/5))"
   ]
  },
  {
   "cell_type": "code",
   "execution_count": 52,
   "metadata": {
    "collapsed": true
   },
   "outputs": [],
   "source": [
    "def I(counts):\n",
    "    I = 0\n",
    "    total = sum(counts)\n",
    "    for c in iter(counts):\n",
    "        c_i = c\n",
    "        p_i = float(c/total)\n",
    "        I += -p_i*np.log2(p_i)\n",
    "    return(I)"
   ]
  },
  {
   "cell_type": "code",
   "execution_count": 13,
   "metadata": {
    "collapsed": false
   },
   "outputs": [],
   "source": [
    "grouped = df.groupby('TRICARE')"
   ]
  },
  {
   "cell_type": "code",
   "execution_count": 23,
   "metadata": {
    "collapsed": false
   },
   "outputs": [],
   "source": [
    "no_t = grouped.count()['Company Name'][0]\n",
    "yes_t = grouped.count()['Company Name'][1]\n",
    "T = yes_t + no_t\n",
    "p_yt = float(yes_t/T)\n",
    "p_nt = float(no_t/T)"
   ]
  },
  {
   "cell_type": "code",
   "execution_count": 25,
   "metadata": {
    "collapsed": false
   },
   "outputs": [],
   "source": [
    "Info_t = -(p_yt*np.log2(p_yt) + p_nt*np.log2(p_nt))"
   ]
  },
  {
   "cell_type": "code",
   "execution_count": 93,
   "metadata": {
    "collapsed": false
   },
   "outputs": [],
   "source": [
    "x_keys = ['LCSW', 'Psychiatrist', 'MFT', 'Psychologist']"
   ]
  },
  {
   "cell_type": "code",
   "execution_count": 32,
   "metadata": {
    "collapsed": false
   },
   "outputs": [],
   "source": [
    "X = np.array([[df[x_keys[0]]],[df[x_keys[1]]],[df[x_keys[2]]],[df[x_keys[3]]]])"
   ]
  },
  {
   "cell_type": "code",
   "execution_count": 34,
   "metadata": {
    "collapsed": false
   },
   "outputs": [],
   "source": [
    "grouped = df.groupby(['TRICARE', x_keys[0]])"
   ]
  },
  {
   "cell_type": "code",
   "execution_count": 38,
   "metadata": {
    "collapsed": false
   },
   "outputs": [
    {
     "data": {
      "text/plain": [
       "TRICARE  LCSW\n",
       "No       No      202\n",
       "         Yes      21\n",
       "Yes      No      109\n",
       "         Yes      37\n",
       "Name: Company Name, dtype: int64"
      ]
     },
     "execution_count": 38,
     "metadata": {},
     "output_type": "execute_result"
    }
   ],
   "source": [
    "grouped.count()['Company Name']"
   ]
  },
  {
   "cell_type": "code",
   "execution_count": 40,
   "metadata": {
    "collapsed": false
   },
   "outputs": [],
   "source": [
    "no_i_no = grouped.count()['Company Name'][0]\n",
    "no_i_yes = grouped.count()['Company Name'][1]\n",
    "yes_i_no = grouped.count()['Company Name'][2]\n",
    "yes_i_yes = grouped.count()['Company Name'][3]"
   ]
  },
  {
   "cell_type": "code",
   "execution_count": 50,
   "metadata": {
    "collapsed": true
   },
   "outputs": [],
   "source": [
    "counts_i_no = [grouped.count()['Company Name'][0],grouped.count()['Company Name'][2]]\n",
    "counts_i_yes = [grouped.count()['Company Name'][1],grouped.count()['Company Name'][3]]\n"
   ]
  },
  {
   "cell_type": "code",
   "execution_count": 58,
   "metadata": {
    "collapsed": false
   },
   "outputs": [],
   "source": [
    "Info_i = sum(counts_i_no)/T*I(counts_i_no) + sum(counts_i_yes)/T*I(counts_i_yes)\n",
    "G_i = I_t - Info_i"
   ]
  },
  {
   "cell_type": "code",
   "execution_count": 67,
   "metadata": {
    "collapsed": false
   },
   "outputs": [],
   "source": [
    "Gains = []\n",
    "for key in x_keys:\n",
    "    grouped = df.groupby(['TRICARE', key])\n",
    "    counts_i_no = [grouped.count()['Company Name'][0],grouped.count()['Company Name'][2]]\n",
    "    counts_i_yes = [grouped.count()['Company Name'][1],grouped.count()['Company Name'][3]]\n",
    "    Info_i = sum(counts_i_no)/T*I(counts_i_no) + sum(counts_i_yes)/T*I(counts_i_yes)\n",
    "    bisect.insort_left(Gains, (I_t - Info_i, key))"
   ]
  },
  {
   "cell_type": "code",
   "execution_count": 75,
   "metadata": {
    "collapsed": false
   },
   "outputs": [],
   "source": [
    "root = Gains[-1][1]\n",
    "rootcats = list(set(df[root]))"
   ]
  },
  {
   "cell_type": "code",
   "execution_count": 113,
   "metadata": {
    "collapsed": false
   },
   "outputs": [
    {
     "data": {
      "text/plain": [
       "'Psychologist'"
      ]
     },
     "execution_count": 113,
     "metadata": {},
     "output_type": "execute_result"
    }
   ],
   "source": [
    "root"
   ]
  },
  {
   "cell_type": "code",
   "execution_count": 84,
   "metadata": {
    "collapsed": true
   },
   "outputs": [],
   "source": [
    "branchdict = {}\n",
    "resultdict = {'root':{'Gain':Gains[-1], 'Branches':set(df[Gains[-1][1]])}}"
   ]
  },
  {
   "cell_type": "code",
   "execution_count": 87,
   "metadata": {
    "collapsed": false
   },
   "outputs": [],
   "source": [
    "nbranch = len(rootcats)"
   ]
  },
  {
   "cell_type": "code",
   "execution_count": 97,
   "metadata": {
    "collapsed": false
   },
   "outputs": [
    {
     "ename": "ValueError",
     "evalue": "list.remove(x): x not in list",
     "output_type": "error",
     "traceback": [
      "\u001b[1;31m---------------------------------------------------------------------------\u001b[0m",
      "\u001b[1;31mValueError\u001b[0m                                Traceback (most recent call last)",
      "\u001b[1;32m<ipython-input-97-8fcb582fc85e>\u001b[0m in \u001b[0;36m<module>\u001b[1;34m()\u001b[0m\n\u001b[0;32m      1\u001b[0m \u001b[0mbranch_i\u001b[0m \u001b[1;33m=\u001b[0m \u001b[0mrootcats\u001b[0m\u001b[1;33m[\u001b[0m\u001b[1;36m0\u001b[0m\u001b[1;33m]\u001b[0m\u001b[1;33m\u001b[0m\u001b[0m\n\u001b[0;32m      2\u001b[0m \u001b[0mnew_keys_0\u001b[0m \u001b[1;33m=\u001b[0m \u001b[0mx_keys\u001b[0m\u001b[1;33m\u001b[0m\u001b[0m\n\u001b[1;32m----> 3\u001b[1;33m \u001b[0mnew_keys_0\u001b[0m\u001b[1;33m.\u001b[0m\u001b[0mremove\u001b[0m\u001b[1;33m(\u001b[0m\u001b[0mGains\u001b[0m\u001b[1;33m[\u001b[0m\u001b[1;33m-\u001b[0m\u001b[1;36m1\u001b[0m\u001b[1;33m]\u001b[0m\u001b[1;33m[\u001b[0m\u001b[1;36m1\u001b[0m\u001b[1;33m]\u001b[0m\u001b[1;33m)\u001b[0m\u001b[1;33m\u001b[0m\u001b[0m\n\u001b[0m",
      "\u001b[1;31mValueError\u001b[0m: list.remove(x): x not in list"
     ]
    }
   ],
   "source": [
    "branch_i = rootcats[0]\n",
    "new_keys_0 = x_keys\n",
    "new_keys_0.remove(Gains[-1][1])"
   ]
  },
  {
   "cell_type": "code",
   "execution_count": 99,
   "metadata": {
    "collapsed": false
   },
   "outputs": [
    {
     "data": {
      "text/plain": [
       "['LCSW', 'Psychiatrist', 'MFT']"
      ]
     },
     "execution_count": 99,
     "metadata": {},
     "output_type": "execute_result"
    }
   ],
   "source": [
    "new_keys_0\n"
   ]
  },
  {
   "cell_type": "code",
   "execution_count": 98,
   "metadata": {
    "collapsed": true
   },
   "outputs": [],
   "source": [
    "branch_i = rootcats[0]"
   ]
  },
  {
   "cell_type": "code",
   "execution_count": 100,
   "metadata": {
    "collapsed": true
   },
   "outputs": [],
   "source": [
    "sdf = df.loc[df[Gains[-1][1]] == branch_i]"
   ]
  },
  {
   "cell_type": "code",
   "execution_count": 101,
   "metadata": {
    "collapsed": true
   },
   "outputs": [],
   "source": [
    "grouped = sdf.groupby('TRICARE')\n",
    "no_t = grouped.count()['Company Name'][0]\n",
    "yes_t = grouped.count()['Company Name'][1]\n",
    "T = yes_t + no_t"
   ]
  },
  {
   "cell_type": "code",
   "execution_count": 104,
   "metadata": {
    "collapsed": false
   },
   "outputs": [
    {
     "data": {
      "text/plain": [
       "0.72192809488736231"
      ]
     },
     "execution_count": 104,
     "metadata": {},
     "output_type": "execute_result"
    }
   ],
   "source": [
    "Info_t = I([yes_t, no_t])#-(p_yt*np.log2(p_yt) + p_nt*np.log2(p_nt))\n",
    "Info_t"
   ]
  },
  {
   "cell_type": "code",
   "execution_count": 108,
   "metadata": {
    "collapsed": false
   },
   "outputs": [
    {
     "ename": "IndexError",
     "evalue": "index out of bounds",
     "output_type": "error",
     "traceback": [
      "\u001b[1;31m---------------------------------------------------------------------------\u001b[0m",
      "\u001b[1;31mKeyError\u001b[0m                                  Traceback (most recent call last)",
      "\u001b[1;32mC:\\Anaconda3\\lib\\site-packages\\pandas\\core\\index.py\u001b[0m in \u001b[0;36mget_value\u001b[1;34m(self, series, key)\u001b[0m\n\u001b[0;32m   4183\u001b[0m         \u001b[1;32mtry\u001b[0m\u001b[1;33m:\u001b[0m\u001b[1;33m\u001b[0m\u001b[0m\n\u001b[1;32m-> 4184\u001b[1;33m             \u001b[1;32mreturn\u001b[0m \u001b[0mself\u001b[0m\u001b[1;33m.\u001b[0m\u001b[0m_engine\u001b[0m\u001b[1;33m.\u001b[0m\u001b[0mget_value\u001b[0m\u001b[1;33m(\u001b[0m\u001b[0ms\u001b[0m\u001b[1;33m,\u001b[0m \u001b[0mk\u001b[0m\u001b[1;33m)\u001b[0m\u001b[1;33m\u001b[0m\u001b[0m\n\u001b[0m\u001b[0;32m   4185\u001b[0m         \u001b[1;32mexcept\u001b[0m \u001b[0mKeyError\u001b[0m \u001b[1;32mas\u001b[0m \u001b[0me1\u001b[0m\u001b[1;33m:\u001b[0m\u001b[1;33m\u001b[0m\u001b[0m\n",
      "\u001b[1;32mpandas\\index.pyx\u001b[0m in \u001b[0;36mpandas.index.IndexEngine.get_value (pandas\\index.c:3113)\u001b[1;34m()\u001b[0m\n",
      "\u001b[1;32mpandas\\index.pyx\u001b[0m in \u001b[0;36mpandas.index.IndexEngine.get_value (pandas\\index.c:2844)\u001b[1;34m()\u001b[0m\n",
      "\u001b[1;32mpandas\\index.pyx\u001b[0m in \u001b[0;36mpandas.index.IndexEngine.get_loc (pandas\\index.c:3704)\u001b[1;34m()\u001b[0m\n",
      "\u001b[1;32mpandas\\hashtable.pyx\u001b[0m in \u001b[0;36mpandas.hashtable.PyObjectHashTable.get_item (pandas\\hashtable.c:12280)\u001b[1;34m()\u001b[0m\n",
      "\u001b[1;32mpandas\\hashtable.pyx\u001b[0m in \u001b[0;36mpandas.hashtable.PyObjectHashTable.get_item (pandas\\hashtable.c:12231)\u001b[1;34m()\u001b[0m\n",
      "\u001b[1;31mKeyError\u001b[0m: 3",
      "\nDuring handling of the above exception, another exception occurred:\n",
      "\u001b[1;31mIndexError\u001b[0m                                Traceback (most recent call last)",
      "\u001b[1;32m<ipython-input-108-b7becf60494f>\u001b[0m in \u001b[0;36m<module>\u001b[1;34m()\u001b[0m\n\u001b[0;32m      3\u001b[0m     \u001b[0mgrouped\u001b[0m \u001b[1;33m=\u001b[0m \u001b[0msdf\u001b[0m\u001b[1;33m.\u001b[0m\u001b[0mgroupby\u001b[0m\u001b[1;33m(\u001b[0m\u001b[1;33m[\u001b[0m\u001b[1;34m'TRICARE'\u001b[0m\u001b[1;33m,\u001b[0m \u001b[0mkey\u001b[0m\u001b[1;33m]\u001b[0m\u001b[1;33m)\u001b[0m\u001b[1;33m\u001b[0m\u001b[0m\n\u001b[0;32m      4\u001b[0m     \u001b[0mcounts_i_no\u001b[0m \u001b[1;33m=\u001b[0m \u001b[1;33m[\u001b[0m\u001b[0mgrouped\u001b[0m\u001b[1;33m.\u001b[0m\u001b[0mcount\u001b[0m\u001b[1;33m(\u001b[0m\u001b[1;33m)\u001b[0m\u001b[1;33m[\u001b[0m\u001b[1;34m'Company Name'\u001b[0m\u001b[1;33m]\u001b[0m\u001b[1;33m[\u001b[0m\u001b[1;36m0\u001b[0m\u001b[1;33m]\u001b[0m\u001b[1;33m,\u001b[0m\u001b[0mgrouped\u001b[0m\u001b[1;33m.\u001b[0m\u001b[0mcount\u001b[0m\u001b[1;33m(\u001b[0m\u001b[1;33m)\u001b[0m\u001b[1;33m[\u001b[0m\u001b[1;34m'Company Name'\u001b[0m\u001b[1;33m]\u001b[0m\u001b[1;33m[\u001b[0m\u001b[1;36m2\u001b[0m\u001b[1;33m]\u001b[0m\u001b[1;33m]\u001b[0m\u001b[1;33m\u001b[0m\u001b[0m\n\u001b[1;32m----> 5\u001b[1;33m     \u001b[0mcounts_i_yes\u001b[0m \u001b[1;33m=\u001b[0m \u001b[1;33m[\u001b[0m\u001b[0mgrouped\u001b[0m\u001b[1;33m.\u001b[0m\u001b[0mcount\u001b[0m\u001b[1;33m(\u001b[0m\u001b[1;33m)\u001b[0m\u001b[1;33m[\u001b[0m\u001b[1;34m'Company Name'\u001b[0m\u001b[1;33m]\u001b[0m\u001b[1;33m[\u001b[0m\u001b[1;36m1\u001b[0m\u001b[1;33m]\u001b[0m\u001b[1;33m,\u001b[0m\u001b[0mgrouped\u001b[0m\u001b[1;33m.\u001b[0m\u001b[0mcount\u001b[0m\u001b[1;33m(\u001b[0m\u001b[1;33m)\u001b[0m\u001b[1;33m[\u001b[0m\u001b[1;34m'Company Name'\u001b[0m\u001b[1;33m]\u001b[0m\u001b[1;33m[\u001b[0m\u001b[1;36m3\u001b[0m\u001b[1;33m]\u001b[0m\u001b[1;33m]\u001b[0m\u001b[1;33m\u001b[0m\u001b[0m\n\u001b[0m\u001b[0;32m      6\u001b[0m     \u001b[0mInfo_i\u001b[0m \u001b[1;33m=\u001b[0m \u001b[0msum\u001b[0m\u001b[1;33m(\u001b[0m\u001b[0mcounts_i_no\u001b[0m\u001b[1;33m)\u001b[0m\u001b[1;33m/\u001b[0m\u001b[0mT\u001b[0m\u001b[1;33m*\u001b[0m\u001b[0mI\u001b[0m\u001b[1;33m(\u001b[0m\u001b[0mcounts_i_no\u001b[0m\u001b[1;33m)\u001b[0m \u001b[1;33m+\u001b[0m \u001b[0msum\u001b[0m\u001b[1;33m(\u001b[0m\u001b[0mcounts_i_yes\u001b[0m\u001b[1;33m)\u001b[0m\u001b[1;33m/\u001b[0m\u001b[0mT\u001b[0m\u001b[1;33m*\u001b[0m\u001b[0mI\u001b[0m\u001b[1;33m(\u001b[0m\u001b[0mcounts_i_yes\u001b[0m\u001b[1;33m)\u001b[0m\u001b[1;33m\u001b[0m\u001b[0m\n\u001b[0;32m      7\u001b[0m     \u001b[0mbisect\u001b[0m\u001b[1;33m.\u001b[0m\u001b[0minsort_left\u001b[0m\u001b[1;33m(\u001b[0m\u001b[0mGains\u001b[0m\u001b[1;33m,\u001b[0m \u001b[1;33m(\u001b[0m\u001b[0mI_t\u001b[0m \u001b[1;33m-\u001b[0m \u001b[0mInfo_i\u001b[0m\u001b[1;33m,\u001b[0m \u001b[0mkey\u001b[0m\u001b[1;33m)\u001b[0m\u001b[1;33m)\u001b[0m\u001b[1;33m\u001b[0m\u001b[0m\n",
      "\u001b[1;32mC:\\Anaconda3\\lib\\site-packages\\pandas\\core\\series.py\u001b[0m in \u001b[0;36m__getitem__\u001b[1;34m(self, key)\u001b[0m\n\u001b[0;32m    519\u001b[0m     \u001b[1;32mdef\u001b[0m \u001b[0m__getitem__\u001b[0m\u001b[1;33m(\u001b[0m\u001b[0mself\u001b[0m\u001b[1;33m,\u001b[0m \u001b[0mkey\u001b[0m\u001b[1;33m)\u001b[0m\u001b[1;33m:\u001b[0m\u001b[1;33m\u001b[0m\u001b[0m\n\u001b[0;32m    520\u001b[0m         \u001b[1;32mtry\u001b[0m\u001b[1;33m:\u001b[0m\u001b[1;33m\u001b[0m\u001b[0m\n\u001b[1;32m--> 521\u001b[1;33m             \u001b[0mresult\u001b[0m \u001b[1;33m=\u001b[0m \u001b[0mself\u001b[0m\u001b[1;33m.\u001b[0m\u001b[0mindex\u001b[0m\u001b[1;33m.\u001b[0m\u001b[0mget_value\u001b[0m\u001b[1;33m(\u001b[0m\u001b[0mself\u001b[0m\u001b[1;33m,\u001b[0m \u001b[0mkey\u001b[0m\u001b[1;33m)\u001b[0m\u001b[1;33m\u001b[0m\u001b[0m\n\u001b[0m\u001b[0;32m    522\u001b[0m \u001b[1;33m\u001b[0m\u001b[0m\n\u001b[0;32m    523\u001b[0m             \u001b[1;32mif\u001b[0m \u001b[1;32mnot\u001b[0m \u001b[0mnp\u001b[0m\u001b[1;33m.\u001b[0m\u001b[0misscalar\u001b[0m\u001b[1;33m(\u001b[0m\u001b[0mresult\u001b[0m\u001b[1;33m)\u001b[0m\u001b[1;33m:\u001b[0m\u001b[1;33m\u001b[0m\u001b[0m\n",
      "\u001b[1;32mC:\\Anaconda3\\lib\\site-packages\\pandas\\core\\index.py\u001b[0m in \u001b[0;36mget_value\u001b[1;34m(self, series, key)\u001b[0m\n\u001b[0;32m   4190\u001b[0m \u001b[1;33m\u001b[0m\u001b[0m\n\u001b[0;32m   4191\u001b[0m             \u001b[1;32mtry\u001b[0m\u001b[1;33m:\u001b[0m\u001b[1;33m\u001b[0m\u001b[0m\n\u001b[1;32m-> 4192\u001b[1;33m                 \u001b[1;32mreturn\u001b[0m \u001b[0m_index\u001b[0m\u001b[1;33m.\u001b[0m\u001b[0mget_value_at\u001b[0m\u001b[1;33m(\u001b[0m\u001b[0ms\u001b[0m\u001b[1;33m,\u001b[0m \u001b[0mk\u001b[0m\u001b[1;33m)\u001b[0m\u001b[1;33m\u001b[0m\u001b[0m\n\u001b[0m\u001b[0;32m   4193\u001b[0m             \u001b[1;32mexcept\u001b[0m \u001b[0mIndexError\u001b[0m\u001b[1;33m:\u001b[0m\u001b[1;33m\u001b[0m\u001b[0m\n\u001b[0;32m   4194\u001b[0m                 \u001b[1;32mraise\u001b[0m\u001b[1;33m\u001b[0m\u001b[0m\n",
      "\u001b[1;32mpandas\\index.pyx\u001b[0m in \u001b[0;36mpandas.index.get_value_at (pandas\\index.c:2358)\u001b[1;34m()\u001b[0m\n",
      "\u001b[1;32mpandas\\src\\util.pxd\u001b[0m in \u001b[0;36mutil.get_value_at (pandas\\index.c:15287)\u001b[1;34m()\u001b[0m\n",
      "\u001b[1;31mIndexError\u001b[0m: index out of bounds"
     ]
    }
   ],
   "source": [
    "Gains = []\n",
    "for key in new_keys_0:\n",
    "    grouped = sdf.groupby(['TRICARE', key])\n",
    "    counts_i_no = [grouped.count()['Company Name'][0],grouped.count()['Company Name'][2]]\n",
    "    counts_i_yes = [grouped.count()['Company Name'][1],grouped.count()['Company Name'][3]]\n",
    "    Info_i = sum(counts_i_no)/T*I(counts_i_no) + sum(counts_i_yes)/T*I(counts_i_yes)\n",
    "    bisect.insort_left(Gains, (I_t - Info_i, key))"
   ]
  },
  {
   "cell_type": "code",
   "execution_count": 112,
   "metadata": {
    "collapsed": false
   },
   "outputs": [
    {
     "data": {
      "text/plain": [
       "TRICARE  Psychiatrist\n",
       "No       No               6\n",
       "Yes      No              22\n",
       "         Yes              2\n",
       "Name: Company Name, dtype: int64"
      ]
     },
     "execution_count": 112,
     "metadata": {},
     "output_type": "execute_result"
    }
   ],
   "source": [
    "grouped = sdf.groupby(['TRICARE', 'Psychiatrist'])\n",
    "grouped.count()['Company Name']"
   ]
  },
  {
   "cell_type": "code",
   "execution_count": 76,
   "metadata": {
    "collapsed": true
   },
   "outputs": [],
   "source": [
    "branches = []\n",
    "for cat in rootcats:\n",
    "    branches.append(root + ':' + cat)"
   ]
  },
  {
   "cell_type": "code",
   "execution_count": 77,
   "metadata": {
    "collapsed": false
   },
   "outputs": [
    {
     "data": {
      "text/plain": [
       "['Psychologist:Yes', 'Psychologist:No']"
      ]
     },
     "execution_count": 77,
     "metadata": {},
     "output_type": "execute_result"
    }
   ],
   "source": [
    "branches"
   ]
  },
  {
   "cell_type": "code",
   "execution_count": 8,
   "metadata": {
    "collapsed": false
   },
   "outputs": [
    {
     "data": {
      "application/javascript": [
       "require.config({\n",
       "    paths: {\n",
       "        d3: \"http://d3js.org/d3.v3.min.js\"\n",
       "    }\n",
       "});"
      ],
      "text/plain": [
       "<IPython.core.display.Javascript object>"
      ]
     },
     "metadata": {},
     "output_type": "display_data"
    }
   ],
   "source": [
    "%%javascript\n",
    "require.config({\n",
    "    paths: {\n",
    "        d3: \"http://d3js.org/d3.v3.min.js\"\n",
    "    }\n",
    "});"
   ]
  },
  {
   "cell_type": "code",
   "execution_count": 16,
   "metadata": {
    "collapsed": false
   },
   "outputs": [
    {
     "data": {
      "application/javascript": [
       "require(['d3'], function(d3){\n",
       "  //a weird idempotency thing\n",
       "  $(\"#body\").remove();\n",
       "  //create canvas\n",
       "  element.append(\"<div id='body'></div>\");\n",
       "  var sheets = document.styleSheets;\n",
       "  var sheet = document.styleSheets[0];\n",
       "  sheet.insertRule(\".link {fill: none;stroke: #ccc;stroke-width: 1.5px;}\", 1);\n",
       "  var margin = {\n",
       "    top: 20,\n",
       "    right: 120,\n",
       "    bottom: 20,\n",
       "    left: 120\n",
       "},\n",
       "width = 960 - margin.right - margin.left,\n",
       "height = 800 - margin.top - margin.bottom;\n",
       "\n",
       "var root = {\n",
       "    \"name\": \"flare\",\n",
       "        \"children\": [{\n",
       "        \"name\": \"analytics\",\n",
       "            \"children\": [{\n",
       "            \"name\": \"cluster\"\n",
       "        }, {\n",
       "            \"name\": \"graph\"\n",
       "        }, {\n",
       "            \"name\": \"optimization\"\n",
       "        }]\n",
       "    }, {\n",
       "        \"name\": \"animate\",\n",
       "            \"children\": [{\n",
       "            \"name\": \"Easing\"\n",
       "        }, {\n",
       "            \"name\": \"ISchedulable\",\n",
       "        }, {\n",
       "            \"name\": \"Parallel\",\n",
       "        }, {\n",
       "            \"name\": \"Tween\"\n",
       "        }]\n",
       "    }, {\n",
       "        \"name\": \"data\",\n",
       "            \"children\": [{\n",
       "            \"name\": \"converters\",\n",
       "                \"children\": [{\n",
       "                \"name\": \"Converters\"\n",
       "            }, {\n",
       "                \"name\": \"DelimitedTextConverter\"\n",
       "            }, {\n",
       "                \"name\": \"GraphMLConverter\"\n",
       "            }, {\n",
       "                \"name\": \"IDataConverter\"\n",
       "            }, {\n",
       "                \"name\": \"JSONConverter\"\n",
       "            }]\n",
       "        }]\n",
       "    }]\n",
       "};\n",
       "\n",
       "var i = 0,\n",
       "    duration = 750,\n",
       "    rectW = 60,\n",
       "    rectH = 30;\n",
       "\n",
       "var tree = d3.layout.cluster().nodeSize([70, 40]);\n",
       "var diagonal = d3.svg.diagonal()\n",
       "    .projection(function(d) {\n",
       "    return [d.x + rectW / 2, d.y + rectH/2];\n",
       "});\n",
       "\n",
       "var svg = d3.select(\"#body\").append(\"svg\").attr(\"width\", 1000).attr(\"height\", 1000)\n",
       "    .append(\"g\")\n",
       "    .attr(\"transform\", \"translate(\" + 350 + \",\" + 20 + \")\");\n",
       "\n",
       "root.x0 = 0;\n",
       "root.y0 = height / 2;\n",
       "\n",
       "function collapse(d) {\n",
       "    if (d.children) {\n",
       "\t    d._children = d.children;\n",
       "\t\td._children.forEach(collapse);\n",
       "\t\td.children = null;\n",
       "\t}\n",
       "}\n",
       "\n",
       "root.children.forEach(collapse);\n",
       "update(root);\t\t\t\n",
       "\n",
       "d3.select(\"#body\").style(\"height\", \"800px\");\n",
       "\n",
       "function update(source) {\n",
       "    \n",
       "\t//compute new tree layout\n",
       "\tvar nodes = tree.nodes(root).reverse(),\n",
       "\t    links = tree.links(nodes);\n",
       "\t\t\n",
       "\t//normalize for fixed-depth\n",
       "\tnodes.forEach(function (d) {\n",
       "\t    d.y = d.depth * 180;\n",
       "\t});\n",
       "\t\n",
       "\t//update nodes\n",
       "\tvar node = svg.selectAll(\"g.node\")\n",
       "\t    .data(nodes, function (d) {\n",
       "\t\treturn d.id || (d.id = ++i);\n",
       "\t});\n",
       "\t\n",
       "\t//Enter any new nodes at the parent's previous position.\n",
       "\tvar nodeEnter = node.enter().append(\"g\")\n",
       "\t    .attr(\"class\", \"node\")\n",
       "\t\t.attr(\"transform\", function (d) {\n",
       "\t\treturn \"translate(\" + source.x0 + \",\" + source.y0 + \")\";\n",
       "\t})\n",
       "\t\t.on(\"click\", click);\n",
       "\t\t\n",
       "\tnodeEnter.append(\"rect\")\n",
       "\t    .attr(\"width\", rectW)\n",
       "\t\t.attr(\"height\", rectH)\n",
       "\t\t.attr(\"stroke\", \"black\")\n",
       "\t\t.attr(\"stroke\", \"black\")\n",
       "\t\t.attr(\"stroke-width\", 1)\n",
       "\t\t.style(\"fill\", function (d) {\n",
       "\t\treturn d._children ? \"lightsteelblue\" : \"#fff\";\n",
       "\t});\n",
       "\t\n",
       "\tnodeEnter.append(\"text\")\n",
       "        .attr(\"x\", rectW / 2)\n",
       "        .attr(\"y\", rectH / 2)\n",
       "        .attr(\"dy\", \".35em\")\n",
       "        .attr(\"text-anchor\", \"middle\")\n",
       "        .text(function (d) {\n",
       "        return d.name;\n",
       "    });\n",
       "\t\n",
       "\tvar nodeUpdate = node.transition()\n",
       "\t    .duration(duration)\n",
       "\t\t.attr(\"transform\", function (d) {\n",
       "\t\treturn \"translate(\" + d.x + \",\" + d.y + \")\";\n",
       "\t});\n",
       "\t\n",
       "\tnodeUpdate.select(\"rect\")\n",
       "        .attr(\"width\", rectW)\n",
       "        .attr(\"height\", rectH)\n",
       "        .attr(\"stroke\", \"black\")\n",
       "        .attr(\"stroke-width\", 1)\n",
       "        .style(\"fill\", function (d) {\n",
       "        return d._children ? \"lightsteelblue\" : \"#fff\";\n",
       "    });\n",
       "\t\n",
       "\tnodeUpdate.select(\"text\")\n",
       "        .style(\"fill-opacity\", 1);\n",
       "\t\t\n",
       "\tvar nodeExit = node.exit().transition()\n",
       "        .duration(duration)\n",
       "        .attr(\"transform\", function (d) {\n",
       "        return \"translate(\" + source.x + \",\" + source.y + \")\";\n",
       "    })\n",
       "        .remove();\n",
       "\n",
       "    nodeExit.select(\"rect\")\n",
       "\t    .attr(\"width\", rectW)\n",
       "\t\t.attr(\"height\", rectH)\n",
       "\t\t.attr(\"stroke\", \"black\")\n",
       "\t\t.attr(\"stroke-width\", 1);\n",
       "\t\t\n",
       "\tnodeExit.select(\"text\");\n",
       "\t\n",
       "\tvar link = svg.selectAll(\"path.link\")\n",
       "\t    .data(links, function (d) {\n",
       "\t\treturn d.target.id;\n",
       "\t});\n",
       "\t\n",
       "\tlink.enter().insert(\"path\", \"g\")\n",
       "\t    .attr(\"class\", \"link\")\n",
       "\t\t.attr(\"x\", rectW / 2)\n",
       "\t\t.attr(\"y\", rectH / 2)\n",
       "\t\t.attr(\"d\", function (d) {\n",
       "\t\tvar o = {\n",
       "\t\t    x: source.x0,\n",
       "\t\t\ty: source.y0\n",
       "\t\t};\n",
       "\t\treturn diagonal({\n",
       "\t\t    source: o,\n",
       "\t\t\ttarget: o\n",
       "\t\t});\n",
       "\t});\n",
       "\t\n",
       "\tlink.transition()\n",
       "\t    .duration(duration)\n",
       "\t\t.attr(\"d\", diagonal);\n",
       "\t\t\n",
       "    link.exit().transition()\n",
       "        .duration(duration)\n",
       "        .attr(\"d\", function (d) {\n",
       "        var o = {\n",
       "            x: source.x,\n",
       "            y: source.y\n",
       "        };\n",
       "        return diagonal({\n",
       "            source: o,\n",
       "            target: o\n",
       "        });\n",
       "    })\n",
       "        .remove();\n",
       "\n",
       "    nodes.forEach(function (d) {\n",
       "        d.x0 = d.x;\n",
       "        d.y0 = d.y;\n",
       "    });\n",
       "\n",
       "}\n",
       "\n",
       "function click(d) {\n",
       "    if (d.children) {\n",
       "\t    d._children = d.children;\n",
       "\t\td.children = null;\n",
       "\t} else {\n",
       "\t    d.children = d._children;\n",
       "\t\td._children = null;\n",
       "\t}\n",
       "\tupdate(d);\n",
       "}\n",
       "\n",
       "\n",
       "});"
      ],
      "text/plain": [
       "<IPython.core.display.Javascript object>"
      ]
     },
     "metadata": {},
     "output_type": "display_data"
    }
   ],
   "source": [
    "%%javascript\n",
    "require(['d3'], function(d3){\n",
    "  //a weird idempotency thing\n",
    "  $(\"#body\").remove();\n",
    "  //create canvas\n",
    "  element.append(\"<div id='body'></div>\");\n",
    "  var sheets = document.styleSheets;\n",
    "  var sheet = document.styleSheets[0];\n",
    "  sheet.insertRule(\".link {fill: none;stroke: #ccc;stroke-width: 1.5px;}\", 1);\n",
    "  var margin = {\n",
    "    top: 20,\n",
    "    right: 120,\n",
    "    bottom: 20,\n",
    "    left: 120\n",
    "},\n",
    "width = 960 - margin.right - margin.left,\n",
    "height = 800 - margin.top - margin.bottom;\n",
    "\n",
    "var root = {\n",
    "    \"name\": \"flare\",\n",
    "        \"children\": [{\n",
    "        \"name\": \"analytics\",\n",
    "            \"children\": [{\n",
    "            \"name\": \"cluster\"\n",
    "        }, {\n",
    "            \"name\": \"graph\"\n",
    "        }, {\n",
    "            \"name\": \"optimization\"\n",
    "        }]\n",
    "    }, {\n",
    "        \"name\": \"animate\",\n",
    "            \"children\": [{\n",
    "            \"name\": \"Easing\"\n",
    "        }, {\n",
    "            \"name\": \"ISchedulable\",\n",
    "        }, {\n",
    "            \"name\": \"Parallel\",\n",
    "        }, {\n",
    "            \"name\": \"Tween\"\n",
    "        }]\n",
    "    }, {\n",
    "        \"name\": \"data\",\n",
    "            \"children\": [{\n",
    "            \"name\": \"converters\",\n",
    "                \"children\": [{\n",
    "                \"name\": \"Converters\"\n",
    "            }, {\n",
    "                \"name\": \"DelimitedTextConverter\"\n",
    "            }, {\n",
    "                \"name\": \"GraphMLConverter\"\n",
    "            }, {\n",
    "                \"name\": \"IDataConverter\"\n",
    "            }, {\n",
    "                \"name\": \"JSONConverter\"\n",
    "            }]\n",
    "        }]\n",
    "    }]\n",
    "};\n",
    "\n",
    "var i = 0,\n",
    "    duration = 750,\n",
    "    rectW = 60,\n",
    "    rectH = 30;\n",
    "\n",
    "var tree = d3.layout.cluster().nodeSize([70, 40]);\n",
    "var diagonal = d3.svg.diagonal()\n",
    "    .projection(function(d) {\n",
    "    return [d.x + rectW / 2, d.y + rectH/2];\n",
    "});\n",
    "\n",
    "var svg = d3.select(\"#body\").append(\"svg\").attr(\"width\", 1000).attr(\"height\", 1000)\n",
    "    .append(\"g\")\n",
    "    .attr(\"transform\", \"translate(\" + 350 + \",\" + 20 + \")\");\n",
    "\n",
    "root.x0 = 0;\n",
    "root.y0 = height / 2;\n",
    "\n",
    "function collapse(d) {\n",
    "    if (d.children) {\n",
    "\t    d._children = d.children;\n",
    "\t\td._children.forEach(collapse);\n",
    "\t\td.children = null;\n",
    "\t}\n",
    "}\n",
    "\n",
    "root.children.forEach(collapse);\n",
    "update(root);\t\t\t\n",
    "\n",
    "d3.select(\"#body\").style(\"height\", \"800px\");\n",
    "\n",
    "function update(source) {\n",
    "    \n",
    "\t//compute new tree layout\n",
    "\tvar nodes = tree.nodes(root).reverse(),\n",
    "\t    links = tree.links(nodes);\n",
    "\t\t\n",
    "\t//normalize for fixed-depth\n",
    "\tnodes.forEach(function (d) {\n",
    "\t    d.y = d.depth * 180;\n",
    "\t});\n",
    "\t\n",
    "\t//update nodes\n",
    "\tvar node = svg.selectAll(\"g.node\")\n",
    "\t    .data(nodes, function (d) {\n",
    "\t\treturn d.id || (d.id = ++i);\n",
    "\t});\n",
    "\t\n",
    "\t//Enter any new nodes at the parent's previous position.\n",
    "\tvar nodeEnter = node.enter().append(\"g\")\n",
    "\t    .attr(\"class\", \"node\")\n",
    "\t\t.attr(\"transform\", function (d) {\n",
    "\t\treturn \"translate(\" + source.x0 + \",\" + source.y0 + \")\";\n",
    "\t})\n",
    "\t\t.on(\"click\", click);\n",
    "\t\t\n",
    "\tnodeEnter.append(\"rect\")\n",
    "\t    .attr(\"width\", rectW)\n",
    "\t\t.attr(\"height\", rectH)\n",
    "\t\t.attr(\"stroke\", \"black\")\n",
    "\t\t.attr(\"stroke\", \"black\")\n",
    "\t\t.attr(\"stroke-width\", 1)\n",
    "\t\t.style(\"fill\", function (d) {\n",
    "\t\treturn d._children ? \"lightsteelblue\" : \"#fff\";\n",
    "\t});\n",
    "\t\n",
    "\tnodeEnter.append(\"text\")\n",
    "        .attr(\"x\", rectW / 2)\n",
    "        .attr(\"y\", rectH / 2)\n",
    "        .attr(\"dy\", \".35em\")\n",
    "        .attr(\"text-anchor\", \"middle\")\n",
    "        .text(function (d) {\n",
    "        return d.name;\n",
    "    });\n",
    "\t\n",
    "\tvar nodeUpdate = node.transition()\n",
    "\t    .duration(duration)\n",
    "\t\t.attr(\"transform\", function (d) {\n",
    "\t\treturn \"translate(\" + d.x + \",\" + d.y + \")\";\n",
    "\t});\n",
    "\t\n",
    "\tnodeUpdate.select(\"rect\")\n",
    "        .attr(\"width\", rectW)\n",
    "        .attr(\"height\", rectH)\n",
    "        .attr(\"stroke\", \"black\")\n",
    "        .attr(\"stroke-width\", 1)\n",
    "        .style(\"fill\", function (d) {\n",
    "        return d._children ? \"lightsteelblue\" : \"#fff\";\n",
    "    });\n",
    "\t\n",
    "\tnodeUpdate.select(\"text\")\n",
    "        .style(\"fill-opacity\", 1);\n",
    "\t\t\n",
    "\tvar nodeExit = node.exit().transition()\n",
    "        .duration(duration)\n",
    "        .attr(\"transform\", function (d) {\n",
    "        return \"translate(\" + source.x + \",\" + source.y + \")\";\n",
    "    })\n",
    "        .remove();\n",
    "\n",
    "    nodeExit.select(\"rect\")\n",
    "\t    .attr(\"width\", rectW)\n",
    "\t\t.attr(\"height\", rectH)\n",
    "\t\t.attr(\"stroke\", \"black\")\n",
    "\t\t.attr(\"stroke-width\", 1);\n",
    "\t\t\n",
    "\tnodeExit.select(\"text\");\n",
    "\t\n",
    "\tvar link = svg.selectAll(\"path.link\")\n",
    "\t    .data(links, function (d) {\n",
    "\t\treturn d.target.id;\n",
    "\t});\n",
    "\t\n",
    "\tlink.enter().insert(\"path\", \"g\")\n",
    "\t    .attr(\"class\", \"link\")\n",
    "\t\t.attr(\"x\", rectW / 2)\n",
    "\t\t.attr(\"y\", rectH / 2)\n",
    "\t\t.attr(\"d\", function (d) {\n",
    "\t\tvar o = {\n",
    "\t\t    x: source.x0,\n",
    "\t\t\ty: source.y0\n",
    "\t\t};\n",
    "\t\treturn diagonal({\n",
    "\t\t    source: o,\n",
    "\t\t\ttarget: o\n",
    "\t\t});\n",
    "\t});\n",
    "\t\n",
    "\tlink.transition()\n",
    "\t    .duration(duration)\n",
    "\t\t.attr(\"d\", diagonal);\n",
    "\t\t\n",
    "    link.exit().transition()\n",
    "        .duration(duration)\n",
    "        .attr(\"d\", function (d) {\n",
    "        var o = {\n",
    "            x: source.x,\n",
    "            y: source.y\n",
    "        };\n",
    "        return diagonal({\n",
    "            source: o,\n",
    "            target: o\n",
    "        });\n",
    "    })\n",
    "        .remove();\n",
    "\n",
    "    nodes.forEach(function (d) {\n",
    "        d.x0 = d.x;\n",
    "        d.y0 = d.y;\n",
    "    });\n",
    "\n",
    "}\n",
    "\n",
    "function click(d) {\n",
    "    if (d.children) {\n",
    "\t    d._children = d.children;\n",
    "\t\td.children = null;\n",
    "\t} else {\n",
    "\t    d.children = d._children;\n",
    "\t\td._children = null;\n",
    "\t}\n",
    "\tupdate(d);\n",
    "}\n",
    "\n",
    "\n",
    "});"
   ]
  },
  {
   "cell_type": "code",
   "execution_count": null,
   "metadata": {
    "collapsed": true
   },
   "outputs": [],
   "source": []
  }
 ],
 "metadata": {
  "kernelspec": {
   "display_name": "Python 3",
   "language": "python",
   "name": "python3"
  },
  "language_info": {
   "codemirror_mode": {
    "name": "ipython",
    "version": 3
   },
   "file_extension": ".py",
   "mimetype": "text/x-python",
   "name": "python",
   "nbconvert_exporter": "python",
   "pygments_lexer": "ipython3",
   "version": "3.4.3"
  }
 },
 "nbformat": 4,
 "nbformat_minor": 0
}
