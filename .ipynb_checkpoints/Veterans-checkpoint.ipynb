{
 "cells": [
  {
   "cell_type": "code",
   "execution_count": 66,
   "metadata": {
    "collapsed": true
   },
   "outputs": [],
   "source": [
    "import pandas as pd\n",
    "import numpy as np\n",
    "import bisect"
   ]
  },
  {
   "cell_type": "code",
   "execution_count": 114,
   "metadata": {
    "collapsed": true
   },
   "outputs": [],
   "source": [
    "#DHM_Veterans_Provider_Enrollment.csv\n",
    "f = 'https://data.mo.gov/api/views/8zvy-7azn/rows.csv'"
   ]
  },
  {
   "cell_type": "code",
   "execution_count": 115,
   "metadata": {
    "collapsed": false
   },
   "outputs": [],
   "source": [
    "df = pd.read_csv(f, header = 0)"
   ]
  },
  {
   "cell_type": "code",
   "execution_count": 116,
   "metadata": {
    "collapsed": false
   },
   "outputs": [
    {
     "data": {
      "text/html": [
       "<div>\n",
       "<table border=\"1\" class=\"dataframe\">\n",
       "  <thead>\n",
       "    <tr style=\"text-align: right;\">\n",
       "      <th></th>\n",
       "      <th>Company Name</th>\n",
       "      <th>BAN</th>\n",
       "      <th>Substance Abuse</th>\n",
       "      <th>LCSW</th>\n",
       "      <th>LPC</th>\n",
       "      <th>MFT</th>\n",
       "      <th>LMSW</th>\n",
       "      <th>PLPC</th>\n",
       "      <th>Psychiatric Nurse Practitioner</th>\n",
       "      <th>Psychiatrist</th>\n",
       "      <th>...</th>\n",
       "      <th>Traumatic Brain Injury</th>\n",
       "      <th>Website</th>\n",
       "      <th>Phone Number</th>\n",
       "      <th>Zip Code</th>\n",
       "      <th>Country</th>\n",
       "      <th>TRICARE</th>\n",
       "      <th>Military Culture</th>\n",
       "      <th>Admin Notes</th>\n",
       "      <th>Location 1</th>\n",
       "      <th>Suite No.</th>\n",
       "    </tr>\n",
       "  </thead>\n",
       "  <tbody>\n",
       "    <tr>\n",
       "      <th>0</th>\n",
       "      <td>Abundant Life Counseling Center</td>\n",
       "      <td>No</td>\n",
       "      <td>No</td>\n",
       "      <td>No</td>\n",
       "      <td>Yes</td>\n",
       "      <td>No</td>\n",
       "      <td>No</td>\n",
       "      <td>No</td>\n",
       "      <td>No</td>\n",
       "      <td>No</td>\n",
       "      <td>...</td>\n",
       "      <td>Yes</td>\n",
       "      <td>NaN</td>\n",
       "      <td>8167183080</td>\n",
       "      <td>64081</td>\n",
       "      <td>United States</td>\n",
       "      <td>No</td>\n",
       "      <td>Not yet, but I would like to work with the mil...</td>\n",
       "      <td>NaN</td>\n",
       "      <td>414 SW Persels Rd\\nLee's Summit, Missouri 6408...</td>\n",
       "      <td>NaN</td>\n",
       "    </tr>\n",
       "    <tr>\n",
       "      <th>1</th>\n",
       "      <td>Accessing Change, Inc.</td>\n",
       "      <td>No</td>\n",
       "      <td>No</td>\n",
       "      <td>Yes</td>\n",
       "      <td>No</td>\n",
       "      <td>No</td>\n",
       "      <td>Yes</td>\n",
       "      <td>No</td>\n",
       "      <td>No</td>\n",
       "      <td>No</td>\n",
       "      <td>...</td>\n",
       "      <td>No</td>\n",
       "      <td>http://www.accessingchange.com</td>\n",
       "      <td>8165824684</td>\n",
       "      <td>64158</td>\n",
       "      <td>United States</td>\n",
       "      <td>Yes</td>\n",
       "      <td>Not yet, but I would like to work with the mil...</td>\n",
       "      <td>NaN</td>\n",
       "      <td>9601 NE Barry Road\\nKansas City, Missouri 6415...</td>\n",
       "      <td>Suite 220</td>\n",
       "    </tr>\n",
       "    <tr>\n",
       "      <th>2</th>\n",
       "      <td>Adriatik Likcani, MFT</td>\n",
       "      <td>No</td>\n",
       "      <td>Yes</td>\n",
       "      <td>No</td>\n",
       "      <td>No</td>\n",
       "      <td>Yes</td>\n",
       "      <td>No</td>\n",
       "      <td>No</td>\n",
       "      <td>No</td>\n",
       "      <td>No</td>\n",
       "      <td>...</td>\n",
       "      <td>No</td>\n",
       "      <td>http://www.recoverylighthouse.org</td>\n",
       "      <td>6604292222</td>\n",
       "      <td>65301</td>\n",
       "      <td>United States</td>\n",
       "      <td>No</td>\n",
       "      <td>Not yet, but I would like to work with the mil...</td>\n",
       "      <td>NaN</td>\n",
       "      <td>417 West Pettis\\nSedalia, Missouri 65301\\n(38....</td>\n",
       "      <td>NaN</td>\n",
       "    </tr>\n",
       "    <tr>\n",
       "      <th>3</th>\n",
       "      <td>Alford Counseling</td>\n",
       "      <td>No</td>\n",
       "      <td>No</td>\n",
       "      <td>Yes</td>\n",
       "      <td>No</td>\n",
       "      <td>No</td>\n",
       "      <td>No</td>\n",
       "      <td>No</td>\n",
       "      <td>No</td>\n",
       "      <td>No</td>\n",
       "      <td>...</td>\n",
       "      <td>No</td>\n",
       "      <td>NaN</td>\n",
       "      <td>6605826470</td>\n",
       "      <td>64468</td>\n",
       "      <td>United States</td>\n",
       "      <td>No</td>\n",
       "      <td>Not yet, but I would like to work with the mil...</td>\n",
       "      <td>NaN</td>\n",
       "      <td>106 West Edwards\\nMaryville, Missouri 64468\\n(...</td>\n",
       "      <td>NaN</td>\n",
       "    </tr>\n",
       "    <tr>\n",
       "      <th>4</th>\n",
       "      <td>Alicia Ozenberger, LPC</td>\n",
       "      <td>No</td>\n",
       "      <td>No</td>\n",
       "      <td>No</td>\n",
       "      <td>Yes</td>\n",
       "      <td>No</td>\n",
       "      <td>No</td>\n",
       "      <td>No</td>\n",
       "      <td>No</td>\n",
       "      <td>No</td>\n",
       "      <td>...</td>\n",
       "      <td>No</td>\n",
       "      <td>NaN</td>\n",
       "      <td>5739901112</td>\n",
       "      <td>65010</td>\n",
       "      <td>United States</td>\n",
       "      <td>No</td>\n",
       "      <td>Not yet, but I would like to work with the mil...</td>\n",
       "      <td>NaN</td>\n",
       "      <td>305 E. Broadway\\nAshland, Missouri 65010\\n(38....</td>\n",
       "      <td>NaN</td>\n",
       "    </tr>\n",
       "  </tbody>\n",
       "</table>\n",
       "<p>5 rows × 31 columns</p>\n",
       "</div>"
      ],
      "text/plain": [
       "                      Company Name BAN Substance Abuse LCSW  LPC  MFT LMSW  \\\n",
       "0  Abundant Life Counseling Center  No              No   No  Yes   No   No   \n",
       "1           Accessing Change, Inc.  No              No  Yes   No   No  Yes   \n",
       "2            Adriatik Likcani, MFT  No             Yes   No   No  Yes   No   \n",
       "3                Alford Counseling  No              No  Yes   No   No   No   \n",
       "4           Alicia Ozenberger, LPC  No              No   No  Yes   No   No   \n",
       "\n",
       "  PLPC Psychiatric Nurse Practitioner Psychiatrist    ...      \\\n",
       "0   No                             No           No    ...       \n",
       "1   No                             No           No    ...       \n",
       "2   No                             No           No    ...       \n",
       "3   No                             No           No    ...       \n",
       "4   No                             No           No    ...       \n",
       "\n",
       "  Traumatic Brain Injury                            Website Phone Number  \\\n",
       "0                    Yes                                NaN   8167183080   \n",
       "1                     No     http://www.accessingchange.com   8165824684   \n",
       "2                     No  http://www.recoverylighthouse.org   6604292222   \n",
       "3                     No                                NaN   6605826470   \n",
       "4                     No                                NaN   5739901112   \n",
       "\n",
       "  Zip Code       Country  TRICARE  \\\n",
       "0    64081  United States      No   \n",
       "1    64158  United States     Yes   \n",
       "2    65301  United States      No   \n",
       "3    64468  United States      No   \n",
       "4    65010  United States      No   \n",
       "\n",
       "                                    Military Culture Admin Notes  \\\n",
       "0  Not yet, but I would like to work with the mil...         NaN   \n",
       "1  Not yet, but I would like to work with the mil...         NaN   \n",
       "2  Not yet, but I would like to work with the mil...         NaN   \n",
       "3  Not yet, but I would like to work with the mil...         NaN   \n",
       "4  Not yet, but I would like to work with the mil...         NaN   \n",
       "\n",
       "                                          Location 1  Suite No.  \n",
       "0  414 SW Persels Rd\\nLee's Summit, Missouri 6408...        NaN  \n",
       "1  9601 NE Barry Road\\nKansas City, Missouri 6415...  Suite 220  \n",
       "2  417 West Pettis\\nSedalia, Missouri 65301\\n(38....        NaN  \n",
       "3  106 West Edwards\\nMaryville, Missouri 64468\\n(...        NaN  \n",
       "4  305 E. Broadway\\nAshland, Missouri 65010\\n(38....        NaN  \n",
       "\n",
       "[5 rows x 31 columns]"
      ]
     },
     "execution_count": 116,
     "metadata": {},
     "output_type": "execute_result"
    }
   ],
   "source": [
    "df.head()"
   ]
  },
  {
   "cell_type": "code",
   "execution_count": 8,
   "metadata": {
    "collapsed": false
   },
   "outputs": [
    {
     "data": {
      "text/plain": [
       "Index(['Company Name', 'BAN', 'Substance Abuse', 'LCSW', 'LPC', 'MFT', 'LMSW',\n",
       "       'PLPC', 'Psychiatric Nurse Practitioner', 'Psychiatrist',\n",
       "       'Psychologist', 'Alcohol and Substance Abuse', 'Anger Management',\n",
       "       'Child/Adolescent', 'Domestic Violence', 'Faith Based',\n",
       "       'Family/Marriage', 'General Mental Health', 'Post Traumatic Stress',\n",
       "       'Sexual Assault', 'Suicide Prevention', 'Traumatic Brain Injury',\n",
       "       'Website', 'Phone Number', 'Zip Code', 'Country ', 'TRICARE',\n",
       "       'Military Culture', 'Admin Notes', 'Location 1', 'Suite No.'],\n",
       "      dtype='object')"
      ]
     },
     "execution_count": 8,
     "metadata": {},
     "output_type": "execute_result"
    }
   ],
   "source": [
    "df.keys()"
   ]
  },
  {
   "cell_type": "code",
   "execution_count": 9,
   "metadata": {
    "collapsed": false
   },
   "outputs": [
    {
     "data": {
      "text/plain": [
       "0.69353613889619181"
      ]
     },
     "execution_count": 9,
     "metadata": {},
     "output_type": "execute_result"
    }
   ],
   "source": [
    "5/14*(-2/5*np.log2(2/5)-3/5*np.log2(3/5)) + 4/14*(-1*np.log2(1)) + 5/14*(-3/5*np.log2(3/5)-2/5*np.log2(2/5))"
   ]
  },
  {
   "cell_type": "code",
   "execution_count": 52,
   "metadata": {
    "collapsed": true
   },
   "outputs": [],
   "source": [
    "def I(counts):\n",
    "    I = 0\n",
    "    total = sum(counts)\n",
    "    for c in iter(counts):\n",
    "        c_i = c\n",
    "        p_i = float(c/total)\n",
    "        I += -p_i*np.log2(p_i)\n",
    "    return(I)"
   ]
  },
  {
   "cell_type": "code",
   "execution_count": 13,
   "metadata": {
    "collapsed": false
   },
   "outputs": [],
   "source": [
    "grouped = df.groupby('TRICARE')"
   ]
  },
  {
   "cell_type": "code",
   "execution_count": 23,
   "metadata": {
    "collapsed": false
   },
   "outputs": [],
   "source": [
    "no_t = grouped.count()['Company Name'][0]\n",
    "yes_t = grouped.count()['Company Name'][1]\n",
    "T = yes_t + no_t\n",
    "p_yt = float(yes_t/T)\n",
    "p_nt = float(no_t/T)"
   ]
  },
  {
   "cell_type": "code",
   "execution_count": 25,
   "metadata": {
    "collapsed": false
   },
   "outputs": [],
   "source": [
    "Info_t = -(p_yt*np.log2(p_yt) + p_nt*np.log2(p_nt))"
   ]
  },
  {
   "cell_type": "code",
   "execution_count": 93,
   "metadata": {
    "collapsed": false
   },
   "outputs": [],
   "source": [
    "x_keys = ['LCSW', 'Psychiatrist', 'MFT', 'Psychologist']"
   ]
  },
  {
   "cell_type": "code",
   "execution_count": 32,
   "metadata": {
    "collapsed": false
   },
   "outputs": [],
   "source": [
    "X = np.array([[df[x_keys[0]]],[df[x_keys[1]]],[df[x_keys[2]]],[df[x_keys[3]]]])"
   ]
  },
  {
   "cell_type": "code",
   "execution_count": 34,
   "metadata": {
    "collapsed": false
   },
   "outputs": [],
   "source": [
    "grouped = df.groupby(['TRICARE', x_keys[0]])"
   ]
  },
  {
   "cell_type": "code",
   "execution_count": 38,
   "metadata": {
    "collapsed": false
   },
   "outputs": [
    {
     "data": {
      "text/plain": [
       "TRICARE  LCSW\n",
       "No       No      202\n",
       "         Yes      21\n",
       "Yes      No      109\n",
       "         Yes      37\n",
       "Name: Company Name, dtype: int64"
      ]
     },
     "execution_count": 38,
     "metadata": {},
     "output_type": "execute_result"
    }
   ],
   "source": [
    "grouped.count()['Company Name']"
   ]
  },
  {
   "cell_type": "code",
   "execution_count": 40,
   "metadata": {
    "collapsed": false
   },
   "outputs": [],
   "source": [
    "no_i_no = grouped.count()['Company Name'][0]\n",
    "no_i_yes = grouped.count()['Company Name'][1]\n",
    "yes_i_no = grouped.count()['Company Name'][2]\n",
    "yes_i_yes = grouped.count()['Company Name'][3]"
   ]
  },
  {
   "cell_type": "code",
   "execution_count": 50,
   "metadata": {
    "collapsed": true
   },
   "outputs": [],
   "source": [
    "counts_i_no = [grouped.count()['Company Name'][0],grouped.count()['Company Name'][2]]\n",
    "counts_i_yes = [grouped.count()['Company Name'][1],grouped.count()['Company Name'][3]]\n"
   ]
  },
  {
   "cell_type": "code",
   "execution_count": 58,
   "metadata": {
    "collapsed": false
   },
   "outputs": [],
   "source": [
    "Info_i = sum(counts_i_no)/T*I(counts_i_no) + sum(counts_i_yes)/T*I(counts_i_yes)\n",
    "G_i = I_t - Info_i"
   ]
  },
  {
   "cell_type": "code",
   "execution_count": 67,
   "metadata": {
    "collapsed": false
   },
   "outputs": [],
   "source": [
    "Gains = []\n",
    "for key in x_keys:\n",
    "    grouped = df.groupby(['TRICARE', key])\n",
    "    counts_i_no = [grouped.count()['Company Name'][0],grouped.count()['Company Name'][2]]\n",
    "    counts_i_yes = [grouped.count()['Company Name'][1],grouped.count()['Company Name'][3]]\n",
    "    Info_i = sum(counts_i_no)/T*I(counts_i_no) + sum(counts_i_yes)/T*I(counts_i_yes)\n",
    "    bisect.insort_left(Gains, (I_t - Info_i, key))"
   ]
  },
  {
   "cell_type": "code",
   "execution_count": 75,
   "metadata": {
    "collapsed": false
   },
   "outputs": [],
   "source": [
    "root = Gains[-1][1]\n",
    "rootcats = list(set(df[root]))"
   ]
  },
  {
   "cell_type": "code",
   "execution_count": 113,
   "metadata": {
    "collapsed": false
   },
   "outputs": [
    {
     "data": {
      "text/plain": [
       "'Psychologist'"
      ]
     },
     "execution_count": 113,
     "metadata": {},
     "output_type": "execute_result"
    }
   ],
   "source": [
    "root"
   ]
  },
  {
   "cell_type": "code",
   "execution_count": 84,
   "metadata": {
    "collapsed": true
   },
   "outputs": [],
   "source": [
    "branchdict = {}\n",
    "resultdict = {'root':{'Gain':Gains[-1], 'Branches':set(df[Gains[-1][1]])}}"
   ]
  },
  {
   "cell_type": "code",
   "execution_count": 87,
   "metadata": {
    "collapsed": false
   },
   "outputs": [],
   "source": [
    "nbranch = len(rootcats)"
   ]
  },
  {
   "cell_type": "code",
   "execution_count": 97,
   "metadata": {
    "collapsed": false
   },
   "outputs": [
    {
     "ename": "ValueError",
     "evalue": "list.remove(x): x not in list",
     "output_type": "error",
     "traceback": [
      "\u001b[1;31m---------------------------------------------------------------------------\u001b[0m",
      "\u001b[1;31mValueError\u001b[0m                                Traceback (most recent call last)",
      "\u001b[1;32m<ipython-input-97-8fcb582fc85e>\u001b[0m in \u001b[0;36m<module>\u001b[1;34m()\u001b[0m\n\u001b[0;32m      1\u001b[0m \u001b[0mbranch_i\u001b[0m \u001b[1;33m=\u001b[0m \u001b[0mrootcats\u001b[0m\u001b[1;33m[\u001b[0m\u001b[1;36m0\u001b[0m\u001b[1;33m]\u001b[0m\u001b[1;33m\u001b[0m\u001b[0m\n\u001b[0;32m      2\u001b[0m \u001b[0mnew_keys_0\u001b[0m \u001b[1;33m=\u001b[0m \u001b[0mx_keys\u001b[0m\u001b[1;33m\u001b[0m\u001b[0m\n\u001b[1;32m----> 3\u001b[1;33m \u001b[0mnew_keys_0\u001b[0m\u001b[1;33m.\u001b[0m\u001b[0mremove\u001b[0m\u001b[1;33m(\u001b[0m\u001b[0mGains\u001b[0m\u001b[1;33m[\u001b[0m\u001b[1;33m-\u001b[0m\u001b[1;36m1\u001b[0m\u001b[1;33m]\u001b[0m\u001b[1;33m[\u001b[0m\u001b[1;36m1\u001b[0m\u001b[1;33m]\u001b[0m\u001b[1;33m)\u001b[0m\u001b[1;33m\u001b[0m\u001b[0m\n\u001b[0m",
      "\u001b[1;31mValueError\u001b[0m: list.remove(x): x not in list"
     ]
    }
   ],
   "source": [
    "branch_i = rootcats[0]\n",
    "new_keys_0 = x_keys\n",
    "new_keys_0.remove(Gains[-1][1])"
   ]
  },
  {
   "cell_type": "code",
   "execution_count": 99,
   "metadata": {
    "collapsed": false
   },
   "outputs": [
    {
     "data": {
      "text/plain": [
       "['LCSW', 'Psychiatrist', 'MFT']"
      ]
     },
     "execution_count": 99,
     "metadata": {},
     "output_type": "execute_result"
    }
   ],
   "source": [
    "new_keys_0\n"
   ]
  },
  {
   "cell_type": "code",
   "execution_count": 98,
   "metadata": {
    "collapsed": true
   },
   "outputs": [],
   "source": [
    "branch_i = rootcats[0]"
   ]
  },
  {
   "cell_type": "code",
   "execution_count": 100,
   "metadata": {
    "collapsed": true
   },
   "outputs": [],
   "source": [
    "sdf = df.loc[df[Gains[-1][1]] == branch_i]"
   ]
  },
  {
   "cell_type": "code",
   "execution_count": 101,
   "metadata": {
    "collapsed": true
   },
   "outputs": [],
   "source": [
    "grouped = sdf.groupby('TRICARE')\n",
    "no_t = grouped.count()['Company Name'][0]\n",
    "yes_t = grouped.count()['Company Name'][1]\n",
    "T = yes_t + no_t"
   ]
  },
  {
   "cell_type": "code",
   "execution_count": 104,
   "metadata": {
    "collapsed": false
   },
   "outputs": [
    {
     "data": {
      "text/plain": [
       "0.72192809488736231"
      ]
     },
     "execution_count": 104,
     "metadata": {},
     "output_type": "execute_result"
    }
   ],
   "source": [
    "Info_t = I([yes_t, no_t])#-(p_yt*np.log2(p_yt) + p_nt*np.log2(p_nt))\n",
    "Info_t"
   ]
  },
  {
   "cell_type": "code",
   "execution_count": 108,
   "metadata": {
    "collapsed": false
   },
   "outputs": [
    {
     "ename": "IndexError",
     "evalue": "index out of bounds",
     "output_type": "error",
     "traceback": [
      "\u001b[1;31m---------------------------------------------------------------------------\u001b[0m",
      "\u001b[1;31mKeyError\u001b[0m                                  Traceback (most recent call last)",
      "\u001b[1;32mC:\\Anaconda3\\lib\\site-packages\\pandas\\core\\index.py\u001b[0m in \u001b[0;36mget_value\u001b[1;34m(self, series, key)\u001b[0m\n\u001b[0;32m   4183\u001b[0m         \u001b[1;32mtry\u001b[0m\u001b[1;33m:\u001b[0m\u001b[1;33m\u001b[0m\u001b[0m\n\u001b[1;32m-> 4184\u001b[1;33m             \u001b[1;32mreturn\u001b[0m \u001b[0mself\u001b[0m\u001b[1;33m.\u001b[0m\u001b[0m_engine\u001b[0m\u001b[1;33m.\u001b[0m\u001b[0mget_value\u001b[0m\u001b[1;33m(\u001b[0m\u001b[0ms\u001b[0m\u001b[1;33m,\u001b[0m \u001b[0mk\u001b[0m\u001b[1;33m)\u001b[0m\u001b[1;33m\u001b[0m\u001b[0m\n\u001b[0m\u001b[0;32m   4185\u001b[0m         \u001b[1;32mexcept\u001b[0m \u001b[0mKeyError\u001b[0m \u001b[1;32mas\u001b[0m \u001b[0me1\u001b[0m\u001b[1;33m:\u001b[0m\u001b[1;33m\u001b[0m\u001b[0m\n",
      "\u001b[1;32mpandas\\index.pyx\u001b[0m in \u001b[0;36mpandas.index.IndexEngine.get_value (pandas\\index.c:3113)\u001b[1;34m()\u001b[0m\n",
      "\u001b[1;32mpandas\\index.pyx\u001b[0m in \u001b[0;36mpandas.index.IndexEngine.get_value (pandas\\index.c:2844)\u001b[1;34m()\u001b[0m\n",
      "\u001b[1;32mpandas\\index.pyx\u001b[0m in \u001b[0;36mpandas.index.IndexEngine.get_loc (pandas\\index.c:3704)\u001b[1;34m()\u001b[0m\n",
      "\u001b[1;32mpandas\\hashtable.pyx\u001b[0m in \u001b[0;36mpandas.hashtable.PyObjectHashTable.get_item (pandas\\hashtable.c:12280)\u001b[1;34m()\u001b[0m\n",
      "\u001b[1;32mpandas\\hashtable.pyx\u001b[0m in \u001b[0;36mpandas.hashtable.PyObjectHashTable.get_item (pandas\\hashtable.c:12231)\u001b[1;34m()\u001b[0m\n",
      "\u001b[1;31mKeyError\u001b[0m: 3",
      "\nDuring handling of the above exception, another exception occurred:\n",
      "\u001b[1;31mIndexError\u001b[0m                                Traceback (most recent call last)",
      "\u001b[1;32m<ipython-input-108-b7becf60494f>\u001b[0m in \u001b[0;36m<module>\u001b[1;34m()\u001b[0m\n\u001b[0;32m      3\u001b[0m     \u001b[0mgrouped\u001b[0m \u001b[1;33m=\u001b[0m \u001b[0msdf\u001b[0m\u001b[1;33m.\u001b[0m\u001b[0mgroupby\u001b[0m\u001b[1;33m(\u001b[0m\u001b[1;33m[\u001b[0m\u001b[1;34m'TRICARE'\u001b[0m\u001b[1;33m,\u001b[0m \u001b[0mkey\u001b[0m\u001b[1;33m]\u001b[0m\u001b[1;33m)\u001b[0m\u001b[1;33m\u001b[0m\u001b[0m\n\u001b[0;32m      4\u001b[0m     \u001b[0mcounts_i_no\u001b[0m \u001b[1;33m=\u001b[0m \u001b[1;33m[\u001b[0m\u001b[0mgrouped\u001b[0m\u001b[1;33m.\u001b[0m\u001b[0mcount\u001b[0m\u001b[1;33m(\u001b[0m\u001b[1;33m)\u001b[0m\u001b[1;33m[\u001b[0m\u001b[1;34m'Company Name'\u001b[0m\u001b[1;33m]\u001b[0m\u001b[1;33m[\u001b[0m\u001b[1;36m0\u001b[0m\u001b[1;33m]\u001b[0m\u001b[1;33m,\u001b[0m\u001b[0mgrouped\u001b[0m\u001b[1;33m.\u001b[0m\u001b[0mcount\u001b[0m\u001b[1;33m(\u001b[0m\u001b[1;33m)\u001b[0m\u001b[1;33m[\u001b[0m\u001b[1;34m'Company Name'\u001b[0m\u001b[1;33m]\u001b[0m\u001b[1;33m[\u001b[0m\u001b[1;36m2\u001b[0m\u001b[1;33m]\u001b[0m\u001b[1;33m]\u001b[0m\u001b[1;33m\u001b[0m\u001b[0m\n\u001b[1;32m----> 5\u001b[1;33m     \u001b[0mcounts_i_yes\u001b[0m \u001b[1;33m=\u001b[0m \u001b[1;33m[\u001b[0m\u001b[0mgrouped\u001b[0m\u001b[1;33m.\u001b[0m\u001b[0mcount\u001b[0m\u001b[1;33m(\u001b[0m\u001b[1;33m)\u001b[0m\u001b[1;33m[\u001b[0m\u001b[1;34m'Company Name'\u001b[0m\u001b[1;33m]\u001b[0m\u001b[1;33m[\u001b[0m\u001b[1;36m1\u001b[0m\u001b[1;33m]\u001b[0m\u001b[1;33m,\u001b[0m\u001b[0mgrouped\u001b[0m\u001b[1;33m.\u001b[0m\u001b[0mcount\u001b[0m\u001b[1;33m(\u001b[0m\u001b[1;33m)\u001b[0m\u001b[1;33m[\u001b[0m\u001b[1;34m'Company Name'\u001b[0m\u001b[1;33m]\u001b[0m\u001b[1;33m[\u001b[0m\u001b[1;36m3\u001b[0m\u001b[1;33m]\u001b[0m\u001b[1;33m]\u001b[0m\u001b[1;33m\u001b[0m\u001b[0m\n\u001b[0m\u001b[0;32m      6\u001b[0m     \u001b[0mInfo_i\u001b[0m \u001b[1;33m=\u001b[0m \u001b[0msum\u001b[0m\u001b[1;33m(\u001b[0m\u001b[0mcounts_i_no\u001b[0m\u001b[1;33m)\u001b[0m\u001b[1;33m/\u001b[0m\u001b[0mT\u001b[0m\u001b[1;33m*\u001b[0m\u001b[0mI\u001b[0m\u001b[1;33m(\u001b[0m\u001b[0mcounts_i_no\u001b[0m\u001b[1;33m)\u001b[0m \u001b[1;33m+\u001b[0m \u001b[0msum\u001b[0m\u001b[1;33m(\u001b[0m\u001b[0mcounts_i_yes\u001b[0m\u001b[1;33m)\u001b[0m\u001b[1;33m/\u001b[0m\u001b[0mT\u001b[0m\u001b[1;33m*\u001b[0m\u001b[0mI\u001b[0m\u001b[1;33m(\u001b[0m\u001b[0mcounts_i_yes\u001b[0m\u001b[1;33m)\u001b[0m\u001b[1;33m\u001b[0m\u001b[0m\n\u001b[0;32m      7\u001b[0m     \u001b[0mbisect\u001b[0m\u001b[1;33m.\u001b[0m\u001b[0minsort_left\u001b[0m\u001b[1;33m(\u001b[0m\u001b[0mGains\u001b[0m\u001b[1;33m,\u001b[0m \u001b[1;33m(\u001b[0m\u001b[0mI_t\u001b[0m \u001b[1;33m-\u001b[0m \u001b[0mInfo_i\u001b[0m\u001b[1;33m,\u001b[0m \u001b[0mkey\u001b[0m\u001b[1;33m)\u001b[0m\u001b[1;33m)\u001b[0m\u001b[1;33m\u001b[0m\u001b[0m\n",
      "\u001b[1;32mC:\\Anaconda3\\lib\\site-packages\\pandas\\core\\series.py\u001b[0m in \u001b[0;36m__getitem__\u001b[1;34m(self, key)\u001b[0m\n\u001b[0;32m    519\u001b[0m     \u001b[1;32mdef\u001b[0m \u001b[0m__getitem__\u001b[0m\u001b[1;33m(\u001b[0m\u001b[0mself\u001b[0m\u001b[1;33m,\u001b[0m \u001b[0mkey\u001b[0m\u001b[1;33m)\u001b[0m\u001b[1;33m:\u001b[0m\u001b[1;33m\u001b[0m\u001b[0m\n\u001b[0;32m    520\u001b[0m         \u001b[1;32mtry\u001b[0m\u001b[1;33m:\u001b[0m\u001b[1;33m\u001b[0m\u001b[0m\n\u001b[1;32m--> 521\u001b[1;33m             \u001b[0mresult\u001b[0m \u001b[1;33m=\u001b[0m \u001b[0mself\u001b[0m\u001b[1;33m.\u001b[0m\u001b[0mindex\u001b[0m\u001b[1;33m.\u001b[0m\u001b[0mget_value\u001b[0m\u001b[1;33m(\u001b[0m\u001b[0mself\u001b[0m\u001b[1;33m,\u001b[0m \u001b[0mkey\u001b[0m\u001b[1;33m)\u001b[0m\u001b[1;33m\u001b[0m\u001b[0m\n\u001b[0m\u001b[0;32m    522\u001b[0m \u001b[1;33m\u001b[0m\u001b[0m\n\u001b[0;32m    523\u001b[0m             \u001b[1;32mif\u001b[0m \u001b[1;32mnot\u001b[0m \u001b[0mnp\u001b[0m\u001b[1;33m.\u001b[0m\u001b[0misscalar\u001b[0m\u001b[1;33m(\u001b[0m\u001b[0mresult\u001b[0m\u001b[1;33m)\u001b[0m\u001b[1;33m:\u001b[0m\u001b[1;33m\u001b[0m\u001b[0m\n",
      "\u001b[1;32mC:\\Anaconda3\\lib\\site-packages\\pandas\\core\\index.py\u001b[0m in \u001b[0;36mget_value\u001b[1;34m(self, series, key)\u001b[0m\n\u001b[0;32m   4190\u001b[0m \u001b[1;33m\u001b[0m\u001b[0m\n\u001b[0;32m   4191\u001b[0m             \u001b[1;32mtry\u001b[0m\u001b[1;33m:\u001b[0m\u001b[1;33m\u001b[0m\u001b[0m\n\u001b[1;32m-> 4192\u001b[1;33m                 \u001b[1;32mreturn\u001b[0m \u001b[0m_index\u001b[0m\u001b[1;33m.\u001b[0m\u001b[0mget_value_at\u001b[0m\u001b[1;33m(\u001b[0m\u001b[0ms\u001b[0m\u001b[1;33m,\u001b[0m \u001b[0mk\u001b[0m\u001b[1;33m)\u001b[0m\u001b[1;33m\u001b[0m\u001b[0m\n\u001b[0m\u001b[0;32m   4193\u001b[0m             \u001b[1;32mexcept\u001b[0m \u001b[0mIndexError\u001b[0m\u001b[1;33m:\u001b[0m\u001b[1;33m\u001b[0m\u001b[0m\n\u001b[0;32m   4194\u001b[0m                 \u001b[1;32mraise\u001b[0m\u001b[1;33m\u001b[0m\u001b[0m\n",
      "\u001b[1;32mpandas\\index.pyx\u001b[0m in \u001b[0;36mpandas.index.get_value_at (pandas\\index.c:2358)\u001b[1;34m()\u001b[0m\n",
      "\u001b[1;32mpandas\\src\\util.pxd\u001b[0m in \u001b[0;36mutil.get_value_at (pandas\\index.c:15287)\u001b[1;34m()\u001b[0m\n",
      "\u001b[1;31mIndexError\u001b[0m: index out of bounds"
     ]
    }
   ],
   "source": [
    "Gains = []\n",
    "for key in new_keys_0:\n",
    "    grouped = sdf.groupby(['TRICARE', key])\n",
    "    counts_i_no = [grouped.count()['Company Name'][0],grouped.count()['Company Name'][2]]\n",
    "    counts_i_yes = [grouped.count()['Company Name'][1],grouped.count()['Company Name'][3]]\n",
    "    Info_i = sum(counts_i_no)/T*I(counts_i_no) + sum(counts_i_yes)/T*I(counts_i_yes)\n",
    "    bisect.insort_left(Gains, (I_t - Info_i, key))"
   ]
  },
  {
   "cell_type": "code",
   "execution_count": 112,
   "metadata": {
    "collapsed": false
   },
   "outputs": [
    {
     "data": {
      "text/plain": [
       "TRICARE  Psychiatrist\n",
       "No       No               6\n",
       "Yes      No              22\n",
       "         Yes              2\n",
       "Name: Company Name, dtype: int64"
      ]
     },
     "execution_count": 112,
     "metadata": {},
     "output_type": "execute_result"
    }
   ],
   "source": [
    "grouped = sdf.groupby(['TRICARE', 'Psychiatrist'])\n",
    "grouped.count()['Company Name']"
   ]
  },
  {
   "cell_type": "code",
   "execution_count": 76,
   "metadata": {
    "collapsed": true
   },
   "outputs": [],
   "source": [
    "branches = []\n",
    "for cat in rootcats:\n",
    "    branches.append(root + ':' + cat)"
   ]
  },
  {
   "cell_type": "code",
   "execution_count": 77,
   "metadata": {
    "collapsed": false
   },
   "outputs": [
    {
     "data": {
      "text/plain": [
       "['Psychologist:Yes', 'Psychologist:No']"
      ]
     },
     "execution_count": 77,
     "metadata": {},
     "output_type": "execute_result"
    }
   ],
   "source": [
    "branches"
   ]
  },
  {
   "cell_type": "code",
   "execution_count": null,
   "metadata": {
    "collapsed": true
   },
   "outputs": [],
   "source": []
  }
 ],
 "metadata": {
  "kernelspec": {
   "display_name": "Python 3",
   "language": "python",
   "name": "python3"
  },
  "language_info": {
   "codemirror_mode": {
    "name": "ipython",
    "version": 3
   },
   "file_extension": ".py",
   "mimetype": "text/x-python",
   "name": "python",
   "nbconvert_exporter": "python",
   "pygments_lexer": "ipython3",
   "version": "3.4.3"
  }
 },
 "nbformat": 4,
 "nbformat_minor": 0
}
