{
 "cells": [
  {
   "cell_type": "code",
   "execution_count": 3,
   "metadata": {
    "collapsed": true
   },
   "outputs": [],
   "source": [
    "import pandas as pd\n",
    "import numpy as np\n",
    "import bisect\n",
    "import webbrowser\n",
    "import os"
   ]
  },
  {
   "cell_type": "code",
   "execution_count": 2,
   "metadata": {
    "collapsed": true
   },
   "outputs": [],
   "source": [
    "#DHM_Veterans_Provider_Enrollment.csv\n",
    "f = 'http://data.mo.gov/api/views/8zvy-7azn/rows.csv'"
   ]
  },
  {
   "cell_type": "code",
   "execution_count": 4,
   "metadata": {
    "collapsed": false
   },
   "outputs": [],
   "source": [
    "df = pd.read_csv(f, header = 0)"
   ]
  },
  {
   "cell_type": "code",
   "execution_count": 9,
   "metadata": {
    "collapsed": false
   },
   "outputs": [
    {
     "data": {
      "text/plain": [
       "Index(['Company Name', 'BAN', 'Substance Abuse', 'LCSW', 'LPC', 'MFT', 'LMSW',\n",
       "       'PLPC', 'Psychiatric Nurse Practitioner', 'Psychiatrist',\n",
       "       'Psychologist', 'Alcohol and Substance Abuse', 'Anger Management',\n",
       "       'Child/Adolescent', 'Domestic Violence', 'Faith Based',\n",
       "       'Family/Marriage', 'General Mental Health', 'Post Traumatic Stress',\n",
       "       'Sexual Assault', 'Suicide Prevention', 'Traumatic Brain Injury',\n",
       "       'Website', 'Phone Number', 'Zip Code', 'Country ', 'TRICARE',\n",
       "       'Military Culture', 'Admin Notes', 'Location 1', 'Suite No.'],\n",
       "      dtype='object')"
      ]
     },
     "execution_count": 9,
     "metadata": {},
     "output_type": "execute_result"
    }
   ],
   "source": [
    "df.keys()"
   ]
  },
  {
   "cell_type": "code",
   "execution_count": 88,
   "metadata": {
    "collapsed": true
   },
   "outputs": [],
   "source": [
    "np.in1d(xgroup[xc],ygroup['Yes'],assume_unique=True)"
   ]
  },
  {
   "cell_type": "code",
   "execution_count": 179,
   "metadata": {
    "collapsed": false
   },
   "outputs": [],
   "source": [
    "%run DecisionTreeC45.py"
   ]
  },
  {
   "cell_type": "code",
   "execution_count": 180,
   "metadata": {
    "collapsed": true
   },
   "outputs": [],
   "source": [
    "y = 'Post Traumatic Stress'\n",
    "X = ['LCSW', 'LPC', 'MFT', 'LMSW',\n",
    "       'PLPC', 'Psychiatric Nurse Practitioner', 'Psychiatrist',\n",
    "       'Psychologist', 'Military Culture']"
   ]
  },
  {
   "cell_type": "code",
   "execution_count": 181,
   "metadata": {
    "collapsed": false
   },
   "outputs": [],
   "source": [
    "dt = DecisionTree(df)\n",
    "dt.fit(y, X)"
   ]
  },
  {
   "cell_type": "code",
   "execution_count": 183,
   "metadata": {
    "collapsed": false
   },
   "outputs": [
    {
     "name": "stdout",
     "output_type": "stream",
     "text": [
      "62\n"
     ]
    }
   ],
   "source": [
    "print(len(dt.nodes))\n",
    "dt.D3tree('classtree.html')"
   ]
  },
  {
   "cell_type": "code",
   "execution_count": 184,
   "metadata": {
    "collapsed": false
   },
   "outputs": [
    {
     "name": "stdout",
     "output_type": "stream",
     "text": [
      "22\n"
     ]
    }
   ],
   "source": [
    "dt.autoprune()\n",
    "print(len(dt.nodes))\n",
    "dt.D3tree('classtreepruned.html')"
   ]
  },
  {
   "cell_type": "code",
   "execution_count": 103,
   "metadata": {
    "collapsed": true
   },
   "outputs": [],
   "source": [
    "testarray = np.array([[0,0],[6,8]], dtype=np.int64)\n",
    "T = np.sum(testarray)"
   ]
  },
  {
   "cell_type": "code",
   "execution_count": 104,
   "metadata": {
    "collapsed": false
   },
   "outputs": [],
   "source": [
    "Info_yx = np.sum(np.multiply(\n",
    "                        np.apply_along_axis(I, 1, testarray),\n",
    "                        np.apply_along_axis(np.sum, 1, testarray) / T\n",
    "                        ))"
   ]
  },
  {
   "cell_type": "code",
   "execution_count": 105,
   "metadata": {
    "collapsed": false
   },
   "outputs": [
    {
     "data": {
      "text/plain": [
       "0.0"
      ]
     },
     "execution_count": 105,
     "metadata": {},
     "output_type": "execute_result"
    }
   ],
   "source": [
    "Info_yx"
   ]
  },
  {
   "cell_type": "code",
   "execution_count": 145,
   "metadata": {
    "collapsed": true
   },
   "outputs": [],
   "source": [
    "for key in reversed(list(dt.nodes.keys())):\n",
    "    if not dt.nodes[key].isleaf:\n",
    "        dlist = [dt.nodes[ckey].decision for ckey in dt.nodes[key].children]\n",
    "        dset = set(dlist)\n",
    "        if len(dset) == 1 and dset != {None}:\n",
    "            dt.nodes[key].isleaf = True\n",
    "            dt.nodes[key].decision = dlist[0]\n",
    "            for ckey in dt.nodes[key].children:\n",
    "                del dt.nodes[ckey]\n",
    "            dt.nodes[key].children = None"
   ]
  },
  {
   "cell_type": "code",
   "execution_count": 9,
   "metadata": {
    "collapsed": false
   },
   "outputs": [
    {
     "data": {
      "text/plain": [
       "0.69353613889619181"
      ]
     },
     "execution_count": 9,
     "metadata": {},
     "output_type": "execute_result"
    }
   ],
   "source": [
    "5/14*(-2/5*np.log2(2/5)-3/5*np.log2(3/5)) + 4/14*(-1*np.log2(1)) + 5/14*(-3/5*np.log2(3/5)-2/5*np.log2(2/5))"
   ]
  },
  {
   "cell_type": "code",
   "execution_count": 8,
   "metadata": {
    "collapsed": false
   },
   "outputs": [
    {
     "data": {
      "application/javascript": [
       "require.config({\n",
       "    paths: {\n",
       "        d3: \"http://d3js.org/d3.v3.min.js\"\n",
       "    }\n",
       "});"
      ],
      "text/plain": [
       "<IPython.core.display.Javascript object>"
      ]
     },
     "metadata": {},
     "output_type": "display_data"
    }
   ],
   "source": [
    "%%javascript\n",
    "require.config({\n",
    "    paths: {\n",
    "        d3: \"http://d3js.org/d3.v3.min.js\"\n",
    "    }\n",
    "});"
   ]
  },
  {
   "cell_type": "code",
   "execution_count": 16,
   "metadata": {
    "collapsed": false
   },
   "outputs": [
    {
     "data": {
      "application/javascript": [
       "require(['d3'], function(d3){\n",
       "  //a weird idempotency thing\n",
       "  $(\"#body\").remove();\n",
       "  //create canvas\n",
       "  element.append(\"<div id='body'></div>\");\n",
       "  var sheets = document.styleSheets;\n",
       "  var sheet = document.styleSheets[0];\n",
       "  sheet.insertRule(\".link {fill: none;stroke: #ccc;stroke-width: 1.5px;}\", 1);\n",
       "  var margin = {\n",
       "    top: 20,\n",
       "    right: 120,\n",
       "    bottom: 20,\n",
       "    left: 120\n",
       "},\n",
       "width = 960 - margin.right - margin.left,\n",
       "height = 800 - margin.top - margin.bottom;\n",
       "\n",
       "var root = {\n",
       "    \"name\": \"flare\",\n",
       "        \"children\": [{\n",
       "        \"name\": \"analytics\",\n",
       "            \"children\": [{\n",
       "            \"name\": \"cluster\"\n",
       "        }, {\n",
       "            \"name\": \"graph\"\n",
       "        }, {\n",
       "            \"name\": \"optimization\"\n",
       "        }]\n",
       "    }, {\n",
       "        \"name\": \"animate\",\n",
       "            \"children\": [{\n",
       "            \"name\": \"Easing\"\n",
       "        }, {\n",
       "            \"name\": \"ISchedulable\",\n",
       "        }, {\n",
       "            \"name\": \"Parallel\",\n",
       "        }, {\n",
       "            \"name\": \"Tween\"\n",
       "        }]\n",
       "    }, {\n",
       "        \"name\": \"data\",\n",
       "            \"children\": [{\n",
       "            \"name\": \"converters\",\n",
       "                \"children\": [{\n",
       "                \"name\": \"Converters\"\n",
       "            }, {\n",
       "                \"name\": \"DelimitedTextConverter\"\n",
       "            }, {\n",
       "                \"name\": \"GraphMLConverter\"\n",
       "            }, {\n",
       "                \"name\": \"IDataConverter\"\n",
       "            }, {\n",
       "                \"name\": \"JSONConverter\"\n",
       "            }]\n",
       "        }]\n",
       "    }]\n",
       "};\n",
       "\n",
       "var i = 0,\n",
       "    duration = 750,\n",
       "    rectW = 60,\n",
       "    rectH = 30;\n",
       "\n",
       "var tree = d3.layout.cluster().nodeSize([70, 40]);\n",
       "var diagonal = d3.svg.diagonal()\n",
       "    .projection(function(d) {\n",
       "    return [d.x + rectW / 2, d.y + rectH/2];\n",
       "});\n",
       "\n",
       "var svg = d3.select(\"#body\").append(\"svg\").attr(\"width\", 1000).attr(\"height\", 1000)\n",
       "    .append(\"g\")\n",
       "    .attr(\"transform\", \"translate(\" + 350 + \",\" + 20 + \")\");\n",
       "\n",
       "root.x0 = 0;\n",
       "root.y0 = height / 2;\n",
       "\n",
       "function collapse(d) {\n",
       "    if (d.children) {\n",
       "\t    d._children = d.children;\n",
       "\t\td._children.forEach(collapse);\n",
       "\t\td.children = null;\n",
       "\t}\n",
       "}\n",
       "\n",
       "root.children.forEach(collapse);\n",
       "update(root);\t\t\t\n",
       "\n",
       "d3.select(\"#body\").style(\"height\", \"800px\");\n",
       "\n",
       "function update(source) {\n",
       "    \n",
       "\t//compute new tree layout\n",
       "\tvar nodes = tree.nodes(root).reverse(),\n",
       "\t    links = tree.links(nodes);\n",
       "\t\t\n",
       "\t//normalize for fixed-depth\n",
       "\tnodes.forEach(function (d) {\n",
       "\t    d.y = d.depth * 180;\n",
       "\t});\n",
       "\t\n",
       "\t//update nodes\n",
       "\tvar node = svg.selectAll(\"g.node\")\n",
       "\t    .data(nodes, function (d) {\n",
       "\t\treturn d.id || (d.id = ++i);\n",
       "\t});\n",
       "\t\n",
       "\t//Enter any new nodes at the parent's previous position.\n",
       "\tvar nodeEnter = node.enter().append(\"g\")\n",
       "\t    .attr(\"class\", \"node\")\n",
       "\t\t.attr(\"transform\", function (d) {\n",
       "\t\treturn \"translate(\" + source.x0 + \",\" + source.y0 + \")\";\n",
       "\t})\n",
       "\t\t.on(\"click\", click);\n",
       "\t\t\n",
       "\tnodeEnter.append(\"rect\")\n",
       "\t    .attr(\"width\", rectW)\n",
       "\t\t.attr(\"height\", rectH)\n",
       "\t\t.attr(\"stroke\", \"black\")\n",
       "\t\t.attr(\"stroke\", \"black\")\n",
       "\t\t.attr(\"stroke-width\", 1)\n",
       "\t\t.style(\"fill\", function (d) {\n",
       "\t\treturn d._children ? \"lightsteelblue\" : \"#fff\";\n",
       "\t});\n",
       "\t\n",
       "\tnodeEnter.append(\"text\")\n",
       "        .attr(\"x\", rectW / 2)\n",
       "        .attr(\"y\", rectH / 2)\n",
       "        .attr(\"dy\", \".35em\")\n",
       "        .attr(\"text-anchor\", \"middle\")\n",
       "        .text(function (d) {\n",
       "        return d.name;\n",
       "    });\n",
       "\t\n",
       "\tvar nodeUpdate = node.transition()\n",
       "\t    .duration(duration)\n",
       "\t\t.attr(\"transform\", function (d) {\n",
       "\t\treturn \"translate(\" + d.x + \",\" + d.y + \")\";\n",
       "\t});\n",
       "\t\n",
       "\tnodeUpdate.select(\"rect\")\n",
       "        .attr(\"width\", rectW)\n",
       "        .attr(\"height\", rectH)\n",
       "        .attr(\"stroke\", \"black\")\n",
       "        .attr(\"stroke-width\", 1)\n",
       "        .style(\"fill\", function (d) {\n",
       "        return d._children ? \"lightsteelblue\" : \"#fff\";\n",
       "    });\n",
       "\t\n",
       "\tnodeUpdate.select(\"text\")\n",
       "        .style(\"fill-opacity\", 1);\n",
       "\t\t\n",
       "\tvar nodeExit = node.exit().transition()\n",
       "        .duration(duration)\n",
       "        .attr(\"transform\", function (d) {\n",
       "        return \"translate(\" + source.x + \",\" + source.y + \")\";\n",
       "    })\n",
       "        .remove();\n",
       "\n",
       "    nodeExit.select(\"rect\")\n",
       "\t    .attr(\"width\", rectW)\n",
       "\t\t.attr(\"height\", rectH)\n",
       "\t\t.attr(\"stroke\", \"black\")\n",
       "\t\t.attr(\"stroke-width\", 1);\n",
       "\t\t\n",
       "\tnodeExit.select(\"text\");\n",
       "\t\n",
       "\tvar link = svg.selectAll(\"path.link\")\n",
       "\t    .data(links, function (d) {\n",
       "\t\treturn d.target.id;\n",
       "\t});\n",
       "\t\n",
       "\tlink.enter().insert(\"path\", \"g\")\n",
       "\t    .attr(\"class\", \"link\")\n",
       "\t\t.attr(\"x\", rectW / 2)\n",
       "\t\t.attr(\"y\", rectH / 2)\n",
       "\t\t.attr(\"d\", function (d) {\n",
       "\t\tvar o = {\n",
       "\t\t    x: source.x0,\n",
       "\t\t\ty: source.y0\n",
       "\t\t};\n",
       "\t\treturn diagonal({\n",
       "\t\t    source: o,\n",
       "\t\t\ttarget: o\n",
       "\t\t});\n",
       "\t});\n",
       "\t\n",
       "\tlink.transition()\n",
       "\t    .duration(duration)\n",
       "\t\t.attr(\"d\", diagonal);\n",
       "\t\t\n",
       "    link.exit().transition()\n",
       "        .duration(duration)\n",
       "        .attr(\"d\", function (d) {\n",
       "        var o = {\n",
       "            x: source.x,\n",
       "            y: source.y\n",
       "        };\n",
       "        return diagonal({\n",
       "            source: o,\n",
       "            target: o\n",
       "        });\n",
       "    })\n",
       "        .remove();\n",
       "\n",
       "    nodes.forEach(function (d) {\n",
       "        d.x0 = d.x;\n",
       "        d.y0 = d.y;\n",
       "    });\n",
       "\n",
       "}\n",
       "\n",
       "function click(d) {\n",
       "    if (d.children) {\n",
       "\t    d._children = d.children;\n",
       "\t\td.children = null;\n",
       "\t} else {\n",
       "\t    d.children = d._children;\n",
       "\t\td._children = null;\n",
       "\t}\n",
       "\tupdate(d);\n",
       "}\n",
       "\n",
       "\n",
       "});"
      ],
      "text/plain": [
       "<IPython.core.display.Javascript object>"
      ]
     },
     "metadata": {},
     "output_type": "display_data"
    }
   ],
   "source": [
    "%%javascript\n",
    "require(['d3'], function(d3){\n",
    "  //a weird idempotency thing\n",
    "  $(\"#body\").remove();\n",
    "  //create canvas\n",
    "  element.append(\"<div id='body'></div>\");\n",
    "  var sheets = document.styleSheets;\n",
    "  var sheet = document.styleSheets[0];\n",
    "  sheet.insertRule(\".link {fill: none;stroke: #ccc;stroke-width: 1.5px;}\", 1);\n",
    "  var margin = {\n",
    "    top: 20,\n",
    "    right: 120,\n",
    "    bottom: 20,\n",
    "    left: 120\n",
    "},\n",
    "width = 960 - margin.right - margin.left,\n",
    "height = 800 - margin.top - margin.bottom;\n",
    "\n",
    "var root = {\n",
    "    \"name\": \"flare\",\n",
    "        \"children\": [{\n",
    "        \"name\": \"analytics\",\n",
    "            \"children\": [{\n",
    "            \"name\": \"cluster\"\n",
    "        }, {\n",
    "            \"name\": \"graph\"\n",
    "        }, {\n",
    "            \"name\": \"optimization\"\n",
    "        }]\n",
    "    }, {\n",
    "        \"name\": \"animate\",\n",
    "            \"children\": [{\n",
    "            \"name\": \"Easing\"\n",
    "        }, {\n",
    "            \"name\": \"ISchedulable\",\n",
    "        }, {\n",
    "            \"name\": \"Parallel\",\n",
    "        }, {\n",
    "            \"name\": \"Tween\"\n",
    "        }]\n",
    "    }, {\n",
    "        \"name\": \"data\",\n",
    "            \"children\": [{\n",
    "            \"name\": \"converters\",\n",
    "                \"children\": [{\n",
    "                \"name\": \"Converters\"\n",
    "            }, {\n",
    "                \"name\": \"DelimitedTextConverter\"\n",
    "            }, {\n",
    "                \"name\": \"GraphMLConverter\"\n",
    "            }, {\n",
    "                \"name\": \"IDataConverter\"\n",
    "            }, {\n",
    "                \"name\": \"JSONConverter\"\n",
    "            }]\n",
    "        }]\n",
    "    }]\n",
    "};\n",
    "\n",
    "var i = 0,\n",
    "    duration = 750,\n",
    "    rectW = 60,\n",
    "    rectH = 30;\n",
    "\n",
    "var tree = d3.layout.cluster().nodeSize([70, 40]);\n",
    "var diagonal = d3.svg.diagonal()\n",
    "    .projection(function(d) {\n",
    "    return [d.x + rectW / 2, d.y + rectH/2];\n",
    "});\n",
    "\n",
    "var svg = d3.select(\"#body\").append(\"svg\").attr(\"width\", 1000).attr(\"height\", 1000)\n",
    "    .append(\"g\")\n",
    "    .attr(\"transform\", \"translate(\" + 350 + \",\" + 20 + \")\");\n",
    "\n",
    "root.x0 = 0;\n",
    "root.y0 = height / 2;\n",
    "\n",
    "function collapse(d) {\n",
    "    if (d.children) {\n",
    "\t    d._children = d.children;\n",
    "\t\td._children.forEach(collapse);\n",
    "\t\td.children = null;\n",
    "\t}\n",
    "}\n",
    "\n",
    "root.children.forEach(collapse);\n",
    "update(root);\t\t\t\n",
    "\n",
    "d3.select(\"#body\").style(\"height\", \"800px\");\n",
    "\n",
    "function update(source) {\n",
    "    \n",
    "\t//compute new tree layout\n",
    "\tvar nodes = tree.nodes(root).reverse(),\n",
    "\t    links = tree.links(nodes);\n",
    "\t\t\n",
    "\t//normalize for fixed-depth\n",
    "\tnodes.forEach(function (d) {\n",
    "\t    d.y = d.depth * 180;\n",
    "\t});\n",
    "\t\n",
    "\t//update nodes\n",
    "\tvar node = svg.selectAll(\"g.node\")\n",
    "\t    .data(nodes, function (d) {\n",
    "\t\treturn d.id || (d.id = ++i);\n",
    "\t});\n",
    "\t\n",
    "\t//Enter any new nodes at the parent's previous position.\n",
    "\tvar nodeEnter = node.enter().append(\"g\")\n",
    "\t    .attr(\"class\", \"node\")\n",
    "\t\t.attr(\"transform\", function (d) {\n",
    "\t\treturn \"translate(\" + source.x0 + \",\" + source.y0 + \")\";\n",
    "\t})\n",
    "\t\t.on(\"click\", click);\n",
    "\t\t\n",
    "\tnodeEnter.append(\"rect\")\n",
    "\t    .attr(\"width\", rectW)\n",
    "\t\t.attr(\"height\", rectH)\n",
    "\t\t.attr(\"stroke\", \"black\")\n",
    "\t\t.attr(\"stroke\", \"black\")\n",
    "\t\t.attr(\"stroke-width\", 1)\n",
    "\t\t.style(\"fill\", function (d) {\n",
    "\t\treturn d._children ? \"lightsteelblue\" : \"#fff\";\n",
    "\t});\n",
    "\t\n",
    "\tnodeEnter.append(\"text\")\n",
    "        .attr(\"x\", rectW / 2)\n",
    "        .attr(\"y\", rectH / 2)\n",
    "        .attr(\"dy\", \".35em\")\n",
    "        .attr(\"text-anchor\", \"middle\")\n",
    "        .text(function (d) {\n",
    "        return d.name;\n",
    "    });\n",
    "\t\n",
    "\tvar nodeUpdate = node.transition()\n",
    "\t    .duration(duration)\n",
    "\t\t.attr(\"transform\", function (d) {\n",
    "\t\treturn \"translate(\" + d.x + \",\" + d.y + \")\";\n",
    "\t});\n",
    "\t\n",
    "\tnodeUpdate.select(\"rect\")\n",
    "        .attr(\"width\", rectW)\n",
    "        .attr(\"height\", rectH)\n",
    "        .attr(\"stroke\", \"black\")\n",
    "        .attr(\"stroke-width\", 1)\n",
    "        .style(\"fill\", function (d) {\n",
    "        return d._children ? \"lightsteelblue\" : \"#fff\";\n",
    "    });\n",
    "\t\n",
    "\tnodeUpdate.select(\"text\")\n",
    "        .style(\"fill-opacity\", 1);\n",
    "\t\t\n",
    "\tvar nodeExit = node.exit().transition()\n",
    "        .duration(duration)\n",
    "        .attr(\"transform\", function (d) {\n",
    "        return \"translate(\" + source.x + \",\" + source.y + \")\";\n",
    "    })\n",
    "        .remove();\n",
    "\n",
    "    nodeExit.select(\"rect\")\n",
    "\t    .attr(\"width\", rectW)\n",
    "\t\t.attr(\"height\", rectH)\n",
    "\t\t.attr(\"stroke\", \"black\")\n",
    "\t\t.attr(\"stroke-width\", 1);\n",
    "\t\t\n",
    "\tnodeExit.select(\"text\");\n",
    "\t\n",
    "\tvar link = svg.selectAll(\"path.link\")\n",
    "\t    .data(links, function (d) {\n",
    "\t\treturn d.target.id;\n",
    "\t});\n",
    "\t\n",
    "\tlink.enter().insert(\"path\", \"g\")\n",
    "\t    .attr(\"class\", \"link\")\n",
    "\t\t.attr(\"x\", rectW / 2)\n",
    "\t\t.attr(\"y\", rectH / 2)\n",
    "\t\t.attr(\"d\", function (d) {\n",
    "\t\tvar o = {\n",
    "\t\t    x: source.x0,\n",
    "\t\t\ty: source.y0\n",
    "\t\t};\n",
    "\t\treturn diagonal({\n",
    "\t\t    source: o,\n",
    "\t\t\ttarget: o\n",
    "\t\t});\n",
    "\t});\n",
    "\t\n",
    "\tlink.transition()\n",
    "\t    .duration(duration)\n",
    "\t\t.attr(\"d\", diagonal);\n",
    "\t\t\n",
    "    link.exit().transition()\n",
    "        .duration(duration)\n",
    "        .attr(\"d\", function (d) {\n",
    "        var o = {\n",
    "            x: source.x,\n",
    "            y: source.y\n",
    "        };\n",
    "        return diagonal({\n",
    "            source: o,\n",
    "            target: o\n",
    "        });\n",
    "    })\n",
    "        .remove();\n",
    "\n",
    "    nodes.forEach(function (d) {\n",
    "        d.x0 = d.x;\n",
    "        d.y0 = d.y;\n",
    "    });\n",
    "\n",
    "}\n",
    "\n",
    "function click(d) {\n",
    "    if (d.children) {\n",
    "\t    d._children = d.children;\n",
    "\t\td.children = null;\n",
    "\t} else {\n",
    "\t    d.children = d._children;\n",
    "\t\td._children = null;\n",
    "\t}\n",
    "\tupdate(d);\n",
    "}\n",
    "\n",
    "\n",
    "});"
   ]
  },
  {
   "cell_type": "code",
   "execution_count": null,
   "metadata": {
    "collapsed": true
   },
   "outputs": [],
   "source": []
  }
 ],
 "metadata": {
  "kernelspec": {
   "display_name": "Python 3",
   "language": "python",
   "name": "python3"
  },
  "language_info": {
   "codemirror_mode": {
    "name": "ipython",
    "version": 3
   },
   "file_extension": ".py",
   "mimetype": "text/x-python",
   "name": "python",
   "nbconvert_exporter": "python",
   "pygments_lexer": "ipython3",
   "version": "3.4.3"
  }
 },
 "nbformat": 4,
 "nbformat_minor": 0
}
